{
 "cells": [
  {
   "cell_type": "markdown",
   "metadata": {},
   "source": [
    "# Google Landmark 2019"
   ]
  },
  {
   "cell_type": "markdown",
   "metadata": {},
   "source": [
    "References:\n",
    "4th place solution last year\n",
    "https://www.kaggle.com/c/landmark-recognition-challenge/discussion/57896#latest-418704\n",
    "\n",
    "Compressed and resized training and test images\n",
    "https://www.kaggle.com/c/landmark-recognition-2019/discussion/91770#latest-532165\n",
    "\n",
    "https://www.kaggle.com/c/landmark-recognition-2019/discussion/90346#latest-532193\n",
    "\n",
    "EDA and loading data\n",
    "https://www.kaggle.com/mayukh18/dataset-exploration-and-simple-on-the-fly-training\n",
    "\n"
   ]
  },
  {
   "cell_type": "markdown",
   "metadata": {},
   "source": [
    "Plan\n",
    "\n",
    "1. bring in training images that have >K examples for each class.  K=10\n",
    "2. Train resnet34 on this and see xval score (basic classification)\n",
    "3. Understand how to measure the metric being optimized in the contest\n",
    "4. develop a heuristic/trained approach for submitting results\n",
    "\n",
    "**Need to randomize the training data order - seems to be ordered by # of examples in each class"
   ]
  },
  {
   "cell_type": "code",
   "execution_count": 1,
   "metadata": {},
   "outputs": [],
   "source": [
    "%reload_ext autoreload\n",
    "%autoreload 2\n",
    "%matplotlib inline"
   ]
  },
  {
   "cell_type": "markdown",
   "metadata": {},
   "source": [
    "We import all the necessary packages. We are going to work with the [fastai V1 library](http://www.fast.ai/2018/10/02/fastai-ai/) which sits on top of [Pytorch 1.0](https://hackernoon.com/pytorch-1-0-468332ba5163). The fastai library provides many useful functions that enable us to quickly and easily build neural networks and train our models."
   ]
  },
  {
   "cell_type": "code",
   "execution_count": 2,
   "metadata": {},
   "outputs": [],
   "source": [
    "from fastai.vision import *\n",
    "from fastai.metrics import error_rate\n",
    "import torch\n"
   ]
  },
  {
   "cell_type": "code",
   "execution_count": 3,
   "metadata": {},
   "outputs": [],
   "source": [
    "from smtplib import SMTP_SSL as SMTP\n",
    "from email.mime.text import MIMEText\n",
    "def send_txt(subject, body, toaddr=\"6519834115@tmomail.net\"):\n",
    "    fromaddr = \"thebignotifier@gmail.com\"\n",
    "    msg = MIMEText(body, 'plain')\n",
    "    msg['To'] = toaddr\n",
    "    msg['Subject'] = subject\n",
    "\n",
    "    server = SMTP('smtp.gmail.com')\n",
    "    server.login(fromaddr, \"eatbzltjueqfdopg\")\n",
    "    server.sendmail(fromaddr, toaddr, msg.as_string())\n",
    "    server.quit()"
   ]
  },
  {
   "cell_type": "markdown",
   "metadata": {},
   "source": [
    "If you're using a computer with an unusually small GPU, you may get an out of memory error when running this notebook. If this happens, click Kernel->Restart, uncomment the 2nd line below to use a smaller *batch size* (you'll learn all about what this means during the course), and try again."
   ]
  },
  {
   "cell_type": "code",
   "execution_count": 4,
   "metadata": {},
   "outputs": [],
   "source": [
    "bs = 100\n",
    "# bs = 16   # uncomment this line if you run out of memory even after clicking Kernel->Restart"
   ]
  },
  {
   "cell_type": "code",
   "execution_count": null,
   "metadata": {},
   "outputs": [],
   "source": [
    "Path()"
   ]
  },
  {
   "cell_type": "code",
   "execution_count": 5,
   "metadata": {},
   "outputs": [
    {
     "data": {
      "text/plain": [
       "[PosixPath('/media/SSD/data_google_landmark_recog_2019/train.csv.zip'),\n",
       " PosixPath('/media/SSD/data_google_landmark_recog_2019/recognition_sample_submission.csv'),\n",
       " PosixPath('/media/SSD/data_google_landmark_recog_2019/train-256.tar'),\n",
       " PosixPath('/media/SSD/data_google_landmark_recog_2019/submission3.1.csv'),\n",
       " PosixPath('/media/SSD/data_google_landmark_recog_2019/data_import.sh'),\n",
       " PosixPath('/media/SSD/data_google_landmark_recog_2019/submission1.1.csv'),\n",
       " PosixPath('/media/SSD/data_google_landmark_recog_2019/test.csv.zip'),\n",
       " PosixPath('/media/SSD/data_google_landmark_recog_2019/boxes_split1.csv.zip'),\n",
       " PosixPath('/media/SSD/data_google_landmark_recog_2019/submission3.csv'),\n",
       " PosixPath('/media/SSD/data_google_landmark_recog_2019/boxes_split2.csv.zip'),\n",
       " PosixPath('/media/SSD/data_google_landmark_recog_2019/train-256'),\n",
       " PosixPath('/media/SSD/data_google_landmark_recog_2019/train.csv'),\n",
       " PosixPath('/media/SSD/data_google_landmark_recog_2019/test-256'),\n",
       " PosixPath('/media/SSD/data_google_landmark_recog_2019/test-256.zip'),\n",
       " PosixPath('/media/SSD/data_google_landmark_recog_2019/submission1.csv')]"
      ]
     },
     "execution_count": 5,
     "metadata": {},
     "output_type": "execute_result"
    }
   ],
   "source": [
    "path=Path(\"/media/SSD/data_google_landmark_recog_2019\")\n",
    "path.ls()"
   ]
  },
  {
   "cell_type": "code",
   "execution_count": 6,
   "metadata": {},
   "outputs": [
    {
     "data": {
      "text/plain": [
       "PosixPath('/media/SSD/data_google_landmark_recog_2019/train-256')"
      ]
     },
     "execution_count": 6,
     "metadata": {},
     "output_type": "execute_result"
    }
   ],
   "source": [
    "path_img = path / 'train-256'\n",
    "path_img"
   ]
  },
  {
   "cell_type": "markdown",
   "metadata": {},
   "source": [
    "## Looking at the data"
   ]
  },
  {
   "cell_type": "code",
   "execution_count": 7,
   "metadata": {},
   "outputs": [
    {
     "name": "stdout",
     "output_type": "stream",
     "text": [
      "                 id                                                url  \\\n",
      "0  6e158a47eb2ca3f6  https://upload.wikimedia.org/wikipedia/commons...   \n",
      "1  202cd79556f30760  http://upload.wikimedia.org/wikipedia/commons/...   \n",
      "2  3ad87684c99c06e1  http://upload.wikimedia.org/wikipedia/commons/...   \n",
      "3  e7f70e9c61e66af3  https://upload.wikimedia.org/wikipedia/commons...   \n",
      "4  4072182eddd0100e  https://upload.wikimedia.org/wikipedia/commons...   \n",
      "\n",
      "   landmark_id  \n",
      "0       142820  \n",
      "1       104169  \n",
      "2        37914  \n",
      "3       102140  \n",
      "4         2474  \n",
      "(4132914, 3)\n",
      "Number of classes 203094\n"
     ]
    }
   ],
   "source": [
    "train = pd.read_csv(path / \"train.csv\")\n",
    "print(train.head())\n",
    "print(train.shape)\n",
    "print(\"Number of classes {}\".format(len(train.landmark_id.unique())))\n"
   ]
  },
  {
   "cell_type": "code",
   "execution_count": 8,
   "metadata": {},
   "outputs": [],
   "source": [
    "files = os.listdir(path_img)"
   ]
  },
  {
   "cell_type": "code",
   "execution_count": 9,
   "metadata": {},
   "outputs": [],
   "source": [
    "#get all the files in the image directory and drop the ''.jpg' of the filename to get the 'id' of the image\n",
    "def clean_string (x):\n",
    "    return x[:-4]\n",
    "\n",
    "#lst = set(map(clean_string,os.listdir(path_img)))\n",
    "lst = set([clean_string(x) for x in files if '.jpg' in x])"
   ]
  },
  {
   "cell_type": "code",
   "execution_count": 10,
   "metadata": {},
   "outputs": [],
   "source": [
    "# select image ids that have image files\n",
    "lst3 = [value[0] for value in zip(train.index, train['id']) if value[1] in lst]\n",
    "train2=train.loc[lst3]"
   ]
  },
  {
   "cell_type": "code",
   "execution_count": 11,
   "metadata": {},
   "outputs": [
    {
     "name": "stdout",
     "output_type": "stream",
     "text": [
      "Total number of valid classes: 6513\n"
     ]
    }
   ],
   "source": [
    "K=100\n",
    "counts = dict(Counter(train2['landmark_id']))\n",
    "landmarks_dict = {x:[] for x in train2.landmark_id.unique() if (counts[x] >= K)}\n",
    "NUM_CLASSES = len(landmarks_dict)\n",
    "print(\"Total number of valid classes: {}\".format(NUM_CLASSES))"
   ]
  },
  {
   "cell_type": "code",
   "execution_count": 12,
   "metadata": {},
   "outputs": [
    {
     "name": "stdout",
     "output_type": "stream",
     "text": [
      "                  id                                                url  \\\n",
      "1   202cd79556f30760  http://upload.wikimedia.org/wikipedia/commons/...   \n",
      "4   4072182eddd0100e  https://upload.wikimedia.org/wikipedia/commons...   \n",
      "6   6f31b874d1a4d489  https://upload.wikimedia.org/wikipedia/commons...   \n",
      "9   8df019949b8db328  https://upload.wikimedia.org/wikipedia/commons...   \n",
      "11  ccf070a2da242d56  https://upload.wikimedia.org/wikipedia/commons...   \n",
      "\n",
      "    landmark_id  \n",
      "1        104169  \n",
      "4          2474  \n",
      "6          6888  \n",
      "9         81049  \n",
      "11       138982  \n",
      "(1263760, 3)\n",
      "Number of classes 6513\n"
     ]
    }
   ],
   "source": [
    "new_train = train2[train2['landmark_id'].isin(landmarks_dict)].copy()\n",
    "print(new_train.head())\n",
    "print(new_train.shape)\n",
    "print(\"Number of classes {}\".format(len(new_train.landmark_id.unique())))"
   ]
  },
  {
   "cell_type": "code",
   "execution_count": 13,
   "metadata": {},
   "outputs": [],
   "source": [
    "del train2,train, lst, files, lst3, counts, landmarks_dict"
   ]
  },
  {
   "cell_type": "code",
   "execution_count": 14,
   "metadata": {},
   "outputs": [],
   "source": [
    "learn=None\n",
    "gc.collect()\n",
    "torch.cuda.empty_cache()"
   ]
  },
  {
   "cell_type": "code",
   "execution_count": 15,
   "metadata": {},
   "outputs": [],
   "source": [
    "#data = ImageDataBunch.from_df(path_img, new_train, fn_col=\"id\", label_col=\"landmark_id\", suffix='.jpg', ds_tfms=get_transforms(), size=224, bs=bs).normalize(imagenet_stats)\n",
    "\n",
    "data = ImageDataBunch.from_df(path_img, new_train, fn_col=\"id\", label_col=\"landmark_id\", suffix='.jpg', ds_tfms=get_transforms(), size=224, bs=bs, num_workers=5).normalize(imagenet_stats)\n"
   ]
  },
  {
   "cell_type": "code",
   "execution_count": null,
   "metadata": {},
   "outputs": [],
   "source": [
    "data.show_batch(rows=3, figsize=(6,6))"
   ]
  },
  {
   "cell_type": "markdown",
   "metadata": {},
   "source": [
    "## Training: resnet50"
   ]
  },
  {
   "cell_type": "markdown",
   "metadata": {},
   "source": [
    "Now we will start training our model. We will use a [convolutional neural network](http://cs231n.github.io/convolutional-networks/) backbone and a fully connected head with a single hidden layer as a classifier. Don't know what these things mean? Not to worry, we will dive deeper in the coming lessons. For the moment you need to know that we are building a model which will take images as input and will output the predicted probability for each of the categories (in this case, it will have 37 outputs).\n",
    "\n",
    "We will train for 4 epochs (4 cycles through all our data)."
   ]
  },
  {
   "cell_type": "code",
   "execution_count": 16,
   "metadata": {},
   "outputs": [],
   "source": [
    "learn = cnn_learner(data, models.resnet50, metrics=error_rate).to_fp16()\n",
    "#learn = cnn_learner(data, models.resnet34, metrics=error_rate)"
   ]
  },
  {
   "cell_type": "markdown",
   "metadata": {},
   "source": [
    "## Unfreezing, fine-tuning, and learning rates"
   ]
  },
  {
   "cell_type": "markdown",
   "metadata": {},
   "source": [
    "Since our model is working as we expect it to, we will *unfreeze* our model and train some more."
   ]
  },
  {
   "cell_type": "code",
   "execution_count": 26,
   "metadata": {},
   "outputs": [],
   "source": [
    "learn.load('res50-stage-5');"
   ]
  },
  {
   "cell_type": "code",
   "execution_count": 27,
   "metadata": {},
   "outputs": [
    {
     "data": {
      "text/html": [
       "<table border=\"1\" class=\"dataframe\">\n",
       "  <thead>\n",
       "    <tr style=\"text-align: left;\">\n",
       "      <th>epoch</th>\n",
       "      <th>train_loss</th>\n",
       "      <th>valid_loss</th>\n",
       "      <th>error_rate</th>\n",
       "      <th>time</th>\n",
       "    </tr>\n",
       "  </thead>\n",
       "  <tbody>\n",
       "    <tr>\n",
       "      <td>0</td>\n",
       "      <td>2.545115</td>\n",
       "      <td>2.001509</td>\n",
       "      <td>0.304013</td>\n",
       "      <td>1:07:17</td>\n",
       "    </tr>\n",
       "    <tr>\n",
       "      <td>1</td>\n",
       "      <td>2.499792</td>\n",
       "      <td>2.008250</td>\n",
       "      <td>0.304690</td>\n",
       "      <td>1:07:10</td>\n",
       "    </tr>\n",
       "    <tr>\n",
       "      <td>2</td>\n",
       "      <td>2.512232</td>\n",
       "      <td>2.022694</td>\n",
       "      <td>0.305766</td>\n",
       "      <td>1:07:12</td>\n",
       "    </tr>\n",
       "    <tr>\n",
       "      <td>3</td>\n",
       "      <td>2.493040</td>\n",
       "      <td>2.027084</td>\n",
       "      <td>0.306000</td>\n",
       "      <td>1:07:11</td>\n",
       "    </tr>\n",
       "    <tr>\n",
       "      <td>4</td>\n",
       "      <td>2.521382</td>\n",
       "      <td>2.016701</td>\n",
       "      <td>0.305865</td>\n",
       "      <td>1:07:11</td>\n",
       "    </tr>\n",
       "  </tbody>\n",
       "</table>"
      ],
      "text/plain": [
       "<IPython.core.display.HTML object>"
      ]
     },
     "metadata": {},
     "output_type": "display_data"
    }
   ],
   "source": [
    "learn.unfreeze()\n",
    "learn.fit_one_cycle(5, max_lr=slice(0,1e-6))"
   ]
  },
  {
   "cell_type": "code",
   "execution_count": 28,
   "metadata": {},
   "outputs": [],
   "source": [
    "learn.save('res50-stage-6')"
   ]
  },
  {
   "cell_type": "code",
   "execution_count": 29,
   "metadata": {},
   "outputs": [
    {
     "data": {
      "image/png": "[encoded data removed]",
      "text/plain": [
       "<Figure size 864x288 with 2 Axes>"
      ]
     },
     "metadata": {
      "needs_background": "light"
     },
     "output_type": "display_data"
    }
   ],
   "source": [
    "learn.recorder.plot_lr(show_moms=True)"
   ]
  },
  {
   "cell_type": "code",
   "execution_count": 30,
   "metadata": {},
   "outputs": [
    {
     "data": {
      "image/png": "[encoded data removed]",
      "text/plain": [
       "<Figure size 432x288 with 1 Axes>"
      ]
     },
     "metadata": {
      "needs_background": "light"
     },
     "output_type": "display_data"
    }
   ],
   "source": [
    "learn.recorder.plot_losses()"
   ]
  },
  {
   "cell_type": "code",
   "execution_count": 31,
   "metadata": {},
   "outputs": [
    {
     "name": "stdout",
     "output_type": "stream",
     "text": [
      "Min numerical gradient: 4.00E-08\n"
     ]
    },
    {
     "data": {
      "image/png": "[encoded data removed]",
      "text/plain": [
       "<Figure size 432x288 with 1 Axes>"
      ]
     },
     "metadata": {
      "needs_background": "light"
     },
     "output_type": "display_data"
    }
   ],
   "source": [
    "learn.recorder.plot(suggestion=True)"
   ]
  },
  {
   "cell_type": "code",
   "execution_count": 32,
   "metadata": {},
   "outputs": [],
   "source": [
    "send_txt(\"!!\",\"stage6 complete\")"
   ]
  },
  {
   "cell_type": "markdown",
   "metadata": {},
   "source": [
    "# Predict test set"
   ]
  },
  {
   "cell_type": "code",
   "execution_count": 33,
   "metadata": {},
   "outputs": [],
   "source": [
    "#export model and other contains everything we need to deploy our model \n",
    "#(the model, the weights but also some metadata like the classes or the transforms/normalization used).\n",
    "learn.export(\"export.pkl\")\n",
    "\n",
    "#to load it\n",
    "#learn = load_learner(path)\n"
   ]
  },
  {
   "cell_type": "code",
   "execution_count": 34,
   "metadata": {},
   "outputs": [
    {
     "data": {
      "text/plain": [
       "PosixPath('/media/SSD/data_google_landmark_recog_2019/test_256-2/test')"
      ]
     },
     "execution_count": 34,
     "metadata": {},
     "output_type": "execute_result"
    }
   ],
   "source": [
    "# path to test set\n",
    "path_test = path / 'test_256-2/test'\n",
    "path_test"
   ]
  },
  {
   "cell_type": "code",
   "execution_count": 35,
   "metadata": {},
   "outputs": [],
   "source": [
    "# load submission\n",
    "submission = pd.read_csv(path / 'recognition_sample_submission.csv', index_col='id')\n"
   ]
  },
  {
   "cell_type": "code",
   "execution_count": 39,
   "metadata": {},
   "outputs": [
    {
     "data": {
      "text/html": [
       "\n",
       "    <div>\n",
       "        <style>\n",
       "            /* Turns off some styling */\n",
       "            progress {\n",
       "                /* gets rid of default border in Firefox and Opera. */\n",
       "                border: none;\n",
       "                /* Needs to be in here for Safari polyfill so background images work as expected. */\n",
       "                background-size: auto;\n",
       "            }\n",
       "            .progress-bar-interrupted, .progress-bar-interrupted::-webkit-progress-bar {\n",
       "                background: #F44336;\n",
       "            }\n",
       "        </style>\n",
       "      <progress value='117577' class='' max='117577', style='width:300px; height:20px; vertical-align: middle;'></progress>\n",
       "      100.00% [117577/117577 22:10<00:00]\n",
       "    </div>\n",
       "    "
      ],
      "text/plain": [
       "<IPython.core.display.HTML object>"
      ]
     },
     "metadata": {},
     "output_type": "display_data"
    },
    {
     "data": {
      "text/html": [
       "<div>\n",
       "<style scoped>\n",
       "    .dataframe tbody tr th:only-of-type {\n",
       "        vertical-align: middle;\n",
       "    }\n",
       "\n",
       "    .dataframe tbody tr th {\n",
       "        vertical-align: top;\n",
       "    }\n",
       "\n",
       "    .dataframe thead th {\n",
       "        text-align: right;\n",
       "    }\n",
       "</style>\n",
       "<table border=\"1\" class=\"dataframe\">\n",
       "  <thead>\n",
       "    <tr style=\"text-align: right;\">\n",
       "      <th></th>\n",
       "      <th>landmarks</th>\n",
       "    </tr>\n",
       "    <tr>\n",
       "      <th>id</th>\n",
       "      <th></th>\n",
       "    </tr>\n",
       "  </thead>\n",
       "  <tbody>\n",
       "    <tr>\n",
       "      <th>cc4e1335111d0f14</th>\n",
       "      <td>151942 0.8046962022781372</td>\n",
       "    </tr>\n",
       "    <tr>\n",
       "      <th>75f7113a26d670d9</th>\n",
       "      <td>142343 0.7453129887580872</td>\n",
       "    </tr>\n",
       "    <tr>\n",
       "      <th>3eeb10b0aa3cfbff</th>\n",
       "      <td>86869 0.13440503180027008</td>\n",
       "    </tr>\n",
       "    <tr>\n",
       "      <th>cefe5f969b9d4324</th>\n",
       "      <td>49267 0.5479543805122375</td>\n",
       "    </tr>\n",
       "    <tr>\n",
       "      <th>9324ef326508dda3</th>\n",
       "      <td>101399 0.004691441077739</td>\n",
       "    </tr>\n",
       "    <tr>\n",
       "      <th>fa8a341223e53b45</th>\n",
       "      <td>120885 0.12741638720035553</td>\n",
       "    </tr>\n",
       "    <tr>\n",
       "      <th>a0b3a793f1b8e5c1</th>\n",
       "      <td>80177 0.21484023332595825</td>\n",
       "    </tr>\n",
       "    <tr>\n",
       "      <th>a4bbe52b528c33a4</th>\n",
       "      <td>67416 0.03654484450817108</td>\n",
       "    </tr>\n",
       "    <tr>\n",
       "      <th>7ab6befcb914f4f0</th>\n",
       "      <td>126061 0.0433906614780426</td>\n",
       "    </tr>\n",
       "    <tr>\n",
       "      <th>53d6f7ca907a7a3d</th>\n",
       "      <td>37789 0.05760563537478447</td>\n",
       "    </tr>\n",
       "    <tr>\n",
       "      <th>ca1eee0b836a2c94</th>\n",
       "      <td>144292 0.13130438327789307</td>\n",
       "    </tr>\n",
       "    <tr>\n",
       "      <th>0564160487c42150</th>\n",
       "      <td>100614 0.23613058030605316</td>\n",
       "    </tr>\n",
       "    <tr>\n",
       "      <th>9b08923c8315718d</th>\n",
       "      <td>100484 0.009389759972691536</td>\n",
       "    </tr>\n",
       "    <tr>\n",
       "      <th>fc225e97eb1a7b14</th>\n",
       "      <td>190931 0.8441101312637329</td>\n",
       "    </tr>\n",
       "    <tr>\n",
       "      <th>adcf79fe84e625b5</th>\n",
       "      <td>33785 0.17034022510051727</td>\n",
       "    </tr>\n",
       "    <tr>\n",
       "      <th>b4c94dd2d6242fcd</th>\n",
       "      <td>46690 0.00689865043386817</td>\n",
       "    </tr>\n",
       "    <tr>\n",
       "      <th>ac528e00ca750217</th>\n",
       "      <td>134466 0.12996847927570343</td>\n",
       "    </tr>\n",
       "    <tr>\n",
       "      <th>72368267c0797ed2</th>\n",
       "      <td>202857 0.9917934536933899</td>\n",
       "    </tr>\n",
       "    <tr>\n",
       "      <th>fa8c0c1b03a11236</th>\n",
       "      <td>173450 0.02671538107097149</td>\n",
       "    </tr>\n",
       "    <tr>\n",
       "      <th>0bc6d88faf0a2014</th>\n",
       "      <td>63529 0.9939053654670715</td>\n",
       "    </tr>\n",
       "  </tbody>\n",
       "</table>\n",
       "</div>"
      ],
      "text/plain": [
       "                                    landmarks\n",
       "id                                           \n",
       "cc4e1335111d0f14    151942 0.8046962022781372\n",
       "75f7113a26d670d9    142343 0.7453129887580872\n",
       "3eeb10b0aa3cfbff    86869 0.13440503180027008\n",
       "cefe5f969b9d4324     49267 0.5479543805122375\n",
       "9324ef326508dda3     101399 0.004691441077739\n",
       "fa8a341223e53b45   120885 0.12741638720035553\n",
       "a0b3a793f1b8e5c1    80177 0.21484023332595825\n",
       "a4bbe52b528c33a4    67416 0.03654484450817108\n",
       "7ab6befcb914f4f0    126061 0.0433906614780426\n",
       "53d6f7ca907a7a3d    37789 0.05760563537478447\n",
       "ca1eee0b836a2c94   144292 0.13130438327789307\n",
       "0564160487c42150   100614 0.23613058030605316\n",
       "9b08923c8315718d  100484 0.009389759972691536\n",
       "fc225e97eb1a7b14    190931 0.8441101312637329\n",
       "adcf79fe84e625b5    33785 0.17034022510051727\n",
       "b4c94dd2d6242fcd    46690 0.00689865043386817\n",
       "ac528e00ca750217   134466 0.12996847927570343\n",
       "72368267c0797ed2    202857 0.9917934536933899\n",
       "fa8c0c1b03a11236   173450 0.02671538107097149\n",
       "0bc6d88faf0a2014     63529 0.9939053654670715"
      ]
     },
     "execution_count": 39,
     "metadata": {},
     "output_type": "execute_result"
    }
   ],
   "source": [
    "# predict test set\n",
    "#from fastprogress import master_bar, progress_bar\n",
    "\n",
    "for fn in progress_bar(submission.index):\n",
    "    try:\n",
    "        img = open_image(path_test / (fn + '.jpg'))\n",
    "    except:\n",
    "        #print(\"file not found:\"+ fn + '.jpg')\n",
    "        submission.loc[fn]=\"\"\n",
    "    else:\n",
    "        pred_class,pred_idx,outputs = learn.predict(img)\n",
    "        #print(pred_class, pred_idx,outputs[pred_idx])\n",
    "        submission.loc[fn]=str(pred_class)+ \" \"+ str(outputs[pred_idx].item())\n",
    "submission[0:20]\n",
    "    "
   ]
  },
  {
   "cell_type": "code",
   "execution_count": 40,
   "metadata": {},
   "outputs": [],
   "source": [
    "submission.to_csv(path / 'submission4.csv',index=True)"
   ]
  },
  {
   "cell_type": "code",
   "execution_count": 41,
   "metadata": {},
   "outputs": [],
   "source": [
    "send_txt(\"!!\",\"test submission 4 complete\")"
   ]
  },
  {
   "cell_type": "markdown",
   "metadata": {},
   "source": [
    "https://www.kaggle.com/c/landmark-recognition-2019/discussion/89903#latest-530343\n",
    "\n",
    "Hello everyone,\n",
    "in train data Landmark with Id = 138982 has 10247 images. I looked at some of them and found that they are from rather different places.\n",
    "So i think that images with this Landmark_Id are not associated with any real landmark. "
   ]
  },
  {
   "cell_type": "code",
   "execution_count": null,
   "metadata": {},
   "outputs": [],
   "source": [
    "#blank out the results to indicate no mandmarl for this id\n",
    "submission.loc[submission['landmarks'].str.contains('138982 '), 'landmarks'] = \"\""
   ]
  },
  {
   "cell_type": "code",
   "execution_count": null,
   "metadata": {},
   "outputs": [],
   "source": [
    "submission.to_csv(path / 'submission4.1.csv',index=True)"
   ]
  },
  {
   "cell_type": "code",
   "execution_count": null,
   "metadata": {},
   "outputs": [],
   "source": [
    "send_txt(\"!!\",\"test submission 4.1 complete\")"
   ]
  },
  {
   "cell_type": "code",
   "execution_count": null,
   "metadata": {},
   "outputs": [],
   "source": []
  }
 ],
 "metadata": {
  "kernelspec": {
   "display_name": "Python 3",
   "language": "python",
   "name": "python3"
  },
  "language_info": {
   "codemirror_mode": {
    "name": "ipython",
    "version": 3
   },
   "file_extension": ".py",
   "mimetype": "text/x-python",
   "name": "python",
   "nbconvert_exporter": "python",
   "pygments_lexer": "ipython3",
   "version": "3.7.7"
  }
 },
 "nbformat": 4,
 "nbformat_minor": 2
}
