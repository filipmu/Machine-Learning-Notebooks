{
 "cells": [
  {
   "cell_type": "markdown",
   "metadata": {},
   "source": [
    "# Google Landmark 2019"
   ]
  },
  {
   "cell_type": "markdown",
   "metadata": {},
   "source": [
    "References:\n",
    "4th place solution last year\n",
    "https://www.kaggle.com/c/landmark-recognition-challenge/discussion/57896#latest-418704\n",
    "\n",
    "Compressed and resized training and test images\n",
    "https://www.kaggle.com/c/landmark-recognition-2019/discussion/91770#latest-532165\n",
    "\n",
    "https://www.kaggle.com/c/landmark-recognition-2019/discussion/90346#latest-532193\n",
    "\n",
    "EDA and loading data\n",
    "https://www.kaggle.com/mayukh18/dataset-exploration-and-simple-on-the-fly-training\n",
    "\n"
   ]
  },
  {
   "cell_type": "markdown",
   "metadata": {},
   "source": [
    "Plan\n",
    "\n",
    "1. bring in training images that have >K examples for each class.  K=10\n",
    "2. Train resnet34 on this and see xval score (basic classification)\n",
    "3. Understand how to measure the metric being optimized in the contest\n",
    "4. develop a heuristic/trained approach for submitting results"
   ]
  },
  {
   "cell_type": "code",
   "execution_count": 1,
   "metadata": {},
   "outputs": [],
   "source": [
    "%reload_ext autoreload\n",
    "%autoreload 2\n",
    "%matplotlib inline"
   ]
  },
  {
   "cell_type": "markdown",
   "metadata": {},
   "source": [
    "We import all the necessary packages. We are going to work with the [fastai V1 library](http://www.fast.ai/2018/10/02/fastai-ai/) which sits on top of [Pytorch 1.0](https://hackernoon.com/pytorch-1-0-468332ba5163). The fastai library provides many useful functions that enable us to quickly and easily build neural networks and train our models."
   ]
  },
  {
   "cell_type": "code",
   "execution_count": 2,
   "metadata": {},
   "outputs": [],
   "source": [
    "from fastai.vision import *\n",
    "from fastai.metrics import error_rate\n",
    "import torch\n"
   ]
  },
  {
   "cell_type": "markdown",
   "metadata": {},
   "source": [
    "If you're using a computer with an unusually small GPU, you may get an out of memory error when running this notebook. If this happens, click Kernel->Restart, uncomment the 2nd line below to use a smaller *batch size* (you'll learn all about what this means during the course), and try again."
   ]
  },
  {
   "cell_type": "code",
   "execution_count": 3,
   "metadata": {},
   "outputs": [],
   "source": [
    "bs = 200\n",
    "# bs = 16   # uncomment this line if you run out of memory even after clicking Kernel->Restart"
   ]
  },
  {
   "cell_type": "code",
   "execution_count": 4,
   "metadata": {},
   "outputs": [
    {
     "data": {
      "text/plain": [
       "[PosixPath('/media/SSD/data_google_landmark_recog_2019/recognition_sample_submission.csv'),\n",
       " PosixPath('/media/SSD/data_google_landmark_recog_2019/train-256.tar'),\n",
       " PosixPath('/media/SSD/data_google_landmark_recog_2019/data_import.sh'),\n",
       " PosixPath('/media/SSD/data_google_landmark_recog_2019/train-256'),\n",
       " PosixPath('/media/SSD/data_google_landmark_recog_2019/train.csv'),\n",
       " PosixPath('/media/SSD/data_google_landmark_recog_2019/test-256'),\n",
       " PosixPath('/media/SSD/data_google_landmark_recog_2019/test-256.zip')]"
      ]
     },
     "execution_count": 4,
     "metadata": {},
     "output_type": "execute_result"
    }
   ],
   "source": [
    "path=Path(\"/media/SSD/data_google_landmark_recog_2019\")\n",
    "path.ls()"
   ]
  },
  {
   "cell_type": "code",
   "execution_count": 5,
   "metadata": {},
   "outputs": [
    {
     "data": {
      "text/plain": [
       "PosixPath('/media/SSD/data_google_landmark_recog_2019/train-256')"
      ]
     },
     "execution_count": 5,
     "metadata": {},
     "output_type": "execute_result"
    }
   ],
   "source": [
    "path_img = path / 'train-256'\n",
    "path_img"
   ]
  },
  {
   "cell_type": "markdown",
   "metadata": {},
   "source": [
    "## Looking at the data"
   ]
  },
  {
   "cell_type": "code",
   "execution_count": 6,
   "metadata": {},
   "outputs": [
    {
     "name": "stdout",
     "output_type": "stream",
     "text": [
      "                 id                                                url  \\\n",
      "0  6e158a47eb2ca3f6  https://upload.wikimedia.org/wikipedia/commons...   \n",
      "1  202cd79556f30760  http://upload.wikimedia.org/wikipedia/commons/...   \n",
      "2  3ad87684c99c06e1  http://upload.wikimedia.org/wikipedia/commons/...   \n",
      "3  e7f70e9c61e66af3  https://upload.wikimedia.org/wikipedia/commons...   \n",
      "4  4072182eddd0100e  https://upload.wikimedia.org/wikipedia/commons...   \n",
      "\n",
      "   landmark_id  \n",
      "0       142820  \n",
      "1       104169  \n",
      "2        37914  \n",
      "3       102140  \n",
      "4         2474  \n",
      "(4132914, 3)\n",
      "Number of classes 203094\n"
     ]
    }
   ],
   "source": [
    "train = pd.read_csv(path / \"train.csv\")\n",
    "print(train.head())\n",
    "print(train.shape)\n",
    "print(\"Number of classes {}\".format(len(train.landmark_id.unique())))\n"
   ]
  },
  {
   "cell_type": "code",
   "execution_count": 7,
   "metadata": {},
   "outputs": [],
   "source": [
    "files = os.listdir(path_img)"
   ]
  },
  {
   "cell_type": "code",
   "execution_count": 8,
   "metadata": {},
   "outputs": [],
   "source": [
    "#file_jpg = [k for k in files if '.jpg' in k]"
   ]
  },
  {
   "cell_type": "code",
   "execution_count": 9,
   "metadata": {},
   "outputs": [],
   "source": [
    "\n",
    "#file_dict = {clean_string(x) : x for x in files if '.jpg' in x}\n"
   ]
  },
  {
   "cell_type": "code",
   "execution_count": 8,
   "metadata": {},
   "outputs": [],
   "source": [
    "#get all the files in the image directory and drop the ''.jpg' of the filename to get the 'id' of the image\n",
    "def clean_string (x):\n",
    "    return x[:-4]\n",
    "\n",
    "#lst = set(map(clean_string,os.listdir(path_img)))\n",
    "lst = set([clean_string(x) for x in files if '.jpg' in x])"
   ]
  },
  {
   "cell_type": "code",
   "execution_count": 9,
   "metadata": {},
   "outputs": [],
   "source": [
    "# select image ids that have image files\n",
    "lst3 = [value[0] for value in zip(train.index, train['id']) if value[1] in lst]\n",
    "train2=train.loc[lst3]"
   ]
  },
  {
   "cell_type": "code",
   "execution_count": 10,
   "metadata": {},
   "outputs": [
    {
     "name": "stdout",
     "output_type": "stream",
     "text": [
      "Total number of valid classes: 6513\n"
     ]
    }
   ],
   "source": [
    "K=100\n",
    "counts = dict(Counter(train2['landmark_id']))\n",
    "landmarks_dict = {x:[] for x in train2.landmark_id.unique() if (counts[x] >= K)}\n",
    "NUM_CLASSES = len(landmarks_dict)\n",
    "print(\"Total number of valid classes: {}\".format(NUM_CLASSES))"
   ]
  },
  {
   "cell_type": "code",
   "execution_count": 11,
   "metadata": {},
   "outputs": [
    {
     "name": "stdout",
     "output_type": "stream",
     "text": [
      "                  id                                                url  \\\n",
      "1   202cd79556f30760  http://upload.wikimedia.org/wikipedia/commons/...   \n",
      "4   4072182eddd0100e  https://upload.wikimedia.org/wikipedia/commons...   \n",
      "6   6f31b874d1a4d489  https://upload.wikimedia.org/wikipedia/commons...   \n",
      "9   8df019949b8db328  https://upload.wikimedia.org/wikipedia/commons...   \n",
      "11  ccf070a2da242d56  https://upload.wikimedia.org/wikipedia/commons...   \n",
      "\n",
      "    landmark_id  \n",
      "1        104169  \n",
      "4          2474  \n",
      "6          6888  \n",
      "9         81049  \n",
      "11       138982  \n",
      "(1263760, 3)\n",
      "Number of classes 6513\n"
     ]
    }
   ],
   "source": [
    "new_train = train2[train2['landmark_id'].isin(landmarks_dict)].copy()\n",
    "print(new_train.head())\n",
    "print(new_train.shape)\n",
    "print(\"Number of classes {}\".format(len(new_train.landmark_id.unique())))"
   ]
  },
  {
   "cell_type": "code",
   "execution_count": 14,
   "metadata": {},
   "outputs": [],
   "source": [
    "from PIL import Image\n",
    "im = Image.open(path_img/\"7e0fedbe3830f841.jpg\")\n",
    "im.show()"
   ]
  },
  {
   "cell_type": "code",
   "execution_count": 20,
   "metadata": {},
   "outputs": [
    {
     "data": {
      "text/plain": [
       "'103968    https://upload.wikimedia.org/wikipedia/commons...\\nName: url, dtype: object'"
      ]
     },
     "execution_count": 20,
     "metadata": {},
     "output_type": "execute_result"
    }
   ],
   "source": [
    "str(new_train[new_train['id']==\"753fee7858e93a2b\"].url)"
   ]
  },
  {
   "cell_type": "code",
   "execution_count": 23,
   "metadata": {},
   "outputs": [
    {
     "data": {
      "text/plain": [
       "True"
      ]
     },
     "execution_count": 23,
     "metadata": {},
     "output_type": "execute_result"
    }
   ],
   "source": [
    "'753fee7858e93a2b' in lst"
   ]
  },
  {
   "cell_type": "code",
   "execution_count": 24,
   "metadata": {},
   "outputs": [
    {
     "data": {
      "text/plain": [
       "[('train2', 1027533436),\n",
       " ('train', 995108946),\n",
       " ('lst', 134217952),\n",
       " ('new_train', 69702664),\n",
       " ('files', 35746776),\n",
       " ('lst3', 35746776),\n",
       " ('counts', 10485864),\n",
       " ('landmarks_dict', 18528),\n",
       " ('fastai_types', 2280),\n",
       " ('Series', 1184),\n",
       " ('TfmAffine', 1184),\n",
       " ('TfmCoord', 1184),\n",
       " ('TfmCrop', 1184),\n",
       " ('TfmLighting', 1184),\n",
       " ('AUROC', 1056),\n",
       " ('AccumulateScheduler', 1056),\n",
       " ('AdaptiveConcatPool2d', 1056),\n",
       " ('AffineMatrix', 1056),\n",
       " ('AverageMetric', 1056),\n",
       " ('BatchNorm1dFlat', 1056),\n",
       " ('BatchSampler', 1056),\n",
       " ('BnFreeze', 1056),\n",
       " ('Callback', 1056),\n",
       " ('CallbackHandler', 1056),\n",
       " ('Category', 1056),\n",
       " ('CategoryList', 1056),\n",
       " ('CategoryProcessor', 1056),\n",
       " ('ClassificationInterpretation', 1056),\n",
       " ('Config', 1056),\n",
       " ('ConfusionMatrix', 1056),\n",
       " ('Counter', 1056),\n",
       " ('DataBunch', 1056),\n",
       " ('DataFrame', 1056),\n",
       " ('DataLoader', 1056),\n",
       " ('Dataset', 1056),\n",
       " ('DatasetType', 1056),\n",
       " ('Debugger', 1056),\n",
       " ('DeviceDataLoader', 1056),\n",
       " ('DistributedDataParallel', 1056),\n",
       " ('EmptyLabel', 1056),\n",
       " ('EmptyLabelList', 1056),\n",
       " ('Enum', 1056),\n",
       " ('ExpRMSPE', 1056),\n",
       " ('ExplainedVariance', 1056),\n",
       " ('FBeta', 1056),\n",
       " ('Flatten', 1056),\n",
       " ('FlattenedLoss', 1056),\n",
       " ('FloatItem', 1056),\n",
       " ('FloatList', 1056),\n",
       " ('FlowField', 1056),\n",
       " ('GradientClipping', 1056),\n",
       " ('Image', 1056),\n",
       " ('ImageBBox', 1056),\n",
       " ('ImageDataBunch', 1056),\n",
       " ('ImageImageList', 1056),\n",
       " ('ImageList', 1056),\n",
       " ('ImagePoints', 1056),\n",
       " ('ImageSegment', 1056),\n",
       " ('InitVar', 1056),\n",
       " ('IntEnum', 1056),\n",
       " ('ItemBase', 1056),\n",
       " ('ItemList', 1056),\n",
       " ('ItemLists', 1056),\n",
       " ('KappaScore', 1056),\n",
       " ('LabelList', 1056),\n",
       " ('LabelLists', 1056),\n",
       " ('LabelSmoothingCrossEntropy', 1056),\n",
       " ('Lambda', 1056),\n",
       " ('Learner', 1056),\n",
       " ('LearnerCallback', 1056),\n",
       " ('LogitTensorImage', 1056),\n",
       " ('MasterBar', 1056),\n",
       " ('MatthewsCorreff', 1056),\n",
       " ('MergeLayer', 1056),\n",
       " ('MixedItem', 1056),\n",
       " ('MixedItemList', 1056),\n",
       " ('MixedProcessor', 1056),\n",
       " ('ModelOnCPU', 1056),\n",
       " ('MultiCategory', 1056),\n",
       " ('MultiCategoryList', 1056),\n",
       " ('MultiCategoryProcessor', 1056),\n",
       " ('NoneReduceOnCPU', 1056),\n",
       " ('NoopLoss', 1056),\n",
       " ('NormType', 1056),\n",
       " ('ObjectCategoryList', 1056),\n",
       " ('ObjectItemList', 1056),\n",
       " ('OptimWrapper', 1056),\n",
       " ('ParameterModule', 1056),\n",
       " ('PartialLayer', 1056),\n",
       " ('Patch', 1056),\n",
       " ('Perplexity', 1056),\n",
       " ('PixelShuffle_ICNR', 1056),\n",
       " ('PointsItemList', 1056),\n",
       " ('PointsLabelList', 1056),\n",
       " ('PooledSelfAttention2d', 1056),\n",
       " ('PreProcessor', 1056),\n",
       " ('Precision', 1056),\n",
       " ('PrettyString', 1056),\n",
       " ('ProcessPoolExecutor', 1056),\n",
       " ('ProgressBar', 1056),\n",
       " ('R2Score', 1056),\n",
       " ('RMSE', 1056),\n",
       " ('RandTransform', 1056),\n",
       " ('Recall', 1056),\n",
       " ('RecordOnCPU', 1056),\n",
       " ('Recorder', 1056),\n",
       " ('ResizeBatch', 1056),\n",
       " ('ResizeMethod', 1056),\n",
       " ('Sampler', 1056),\n",
       " ('Scheduler', 1056),\n",
       " ('SegmentationItemList', 1056),\n",
       " ('SegmentationLabelList', 1056),\n",
       " ('SelfAttention', 1056),\n",
       " ('SequentialEx', 1056),\n",
       " ('ShowGraph', 1056),\n",
       " ('SigmoidRange', 1056),\n",
       " ('SmoothenValue', 1056),\n",
       " ('Tensor', 1056),\n",
       " ('TensorDataset', 1056),\n",
       " ('TensorImage', 1056),\n",
       " ('ThreadPoolExecutor', 1056),\n",
       " ('Transform', 1056),\n",
       " ('URLs', 1056),\n",
       " ('View', 1056),\n",
       " ('WassersteinLoss', 1056),\n",
       " ('abstractproperty', 1056),\n",
       " ('master_bar', 1056),\n",
       " ('progress_bar', 1056),\n",
       " ('AffineFunc', 888),\n",
       " ('AnnealFunc', 888),\n",
       " ('ArgStar', 888),\n",
       " ('BatchSamples', 888),\n",
       " ('Callable', 888),\n",
       " ('CallbackList', 888),\n",
       " ('Collection', 888),\n",
       " ('CoordFunc', 888),\n",
       " ('Dict', 888),\n",
       " ('FilePathList', 888),\n",
       " ('Hashable', 888),\n",
       " ('HookFunc', 888),\n",
       " ('ImgLabels', 888),\n",
       " ('ItemsList', 888),\n",
       " ('Iterable', 888),\n",
       " ('Iterator', 888),\n",
       " ('KWArgs', 888),\n",
       " ('KeyFunc', 888),\n",
       " ('LambdaFunc', 888),\n",
       " ('LayerFunc', 888),\n",
       " ('LightingFunc', 888),\n",
       " ('List', 888),\n",
       " ('ListRules', 888),\n",
       " ('ListSizes', 888),\n",
       " ('LossFunction', 888),\n",
       " ('Mapping', 888),\n",
       " ('MetricFunc', 888),\n",
       " ('MetricFuncList', 888),\n",
       " ('MetricsList', 888),\n",
       " ('ModuleList', 888),\n",
       " ('NPArrayList', 888),\n",
       " ('NPArrayableList', 888),\n",
       " ('Number', 888),\n",
       " ('ParamList', 888),\n",
       " ('Path', 888),\n",
       " ('PixelFunc', 888),\n",
       " ('Point', 888),\n",
       " ('Points', 888),\n",
       " ('Sequence', 888),\n",
       " ('Sizes', 888),\n",
       " ('SplitArrayList', 888),\n",
       " ('SplitFunc', 888),\n",
       " ('StrList', 888),\n",
       " ('TensorImageSize', 888),\n",
       " ('TensorOrNumList', 888),\n",
       " ('TfmPixel', 888),\n",
       " ('Tokens', 888),\n",
       " ('Tuple', 888),\n",
       " ('TypeVar', 888),\n",
       " ('Weights', 888),\n",
       " ('BufferedWriter', 400),\n",
       " ('ByteTensor', 400),\n",
       " ('BytesIO', 400),\n",
       " ('DoubleTensor', 400),\n",
       " ('FloatTensor', 400),\n",
       " ('HalfTensor', 400),\n",
       " ('ImgLabel', 400),\n",
       " ('LongTensor', 400),\n",
       " ('NPArray', 400),\n",
       " ('NPArrayMask', 400),\n",
       " ('NPImage', 400),\n",
       " ('OrderedDict', 400),\n",
       " ('ShortTensor', 400),\n",
       " ('SimpleNamespace', 400),\n",
       " ('attrgetter', 400),\n",
       " ('defaultdict', 400),\n",
       " ('itemgetter', 400),\n",
       " ('partial', 400),\n",
       " ('cos', 192),\n",
       " ('exp', 192),\n",
       " ('log', 192),\n",
       " ('sin', 192),\n",
       " ('tan', 192),\n",
       " ('tanh', 192),\n",
       " ('BCEFlat', 136),\n",
       " ('BCEWithLogitsFlat', 136),\n",
       " ('CrossEntropyFlat', 136),\n",
       " ('MSELossFlat', 136),\n",
       " ('NewType', 136),\n",
       " ('PoolFlatten', 136),\n",
       " ('Rank0Tensor', 136),\n",
       " ('abstractmethod', 136),\n",
       " ('accuracy', 136),\n",
       " ('accuracy_thresh', 136),\n",
       " ('add_metrics', 136),\n",
       " ('annealing_cos', 136),\n",
       " ('annealing_exp', 136),\n",
       " ('annealing_linear', 136),\n",
       " ('annealing_no', 136),\n",
       " ('annealing_poly', 136),\n",
       " ('apply_init', 136),\n",
       " ('apply_leaf', 136),\n",
       " ('arange_of', 136),\n",
       " ('arrays_split', 136),\n",
       " ('auc_roc_score', 136),\n",
       " ('batch_to_half', 136),\n",
       " ('batchnorm_2d', 136),\n",
       " ('bb2hw', 136),\n",
       " ('bb_pad_collate', 136),\n",
       " ('bn2float', 136),\n",
       " ('bn_drop_lin', 136),\n",
       " ('camel2snake', 136),\n",
       " ('channel_view', 136),\n",
       " ('children', 136),\n",
       " ('children_and_parameters', 136),\n",
       " ('chunks', 136),\n",
       " ('clean_string', 136),\n",
       " ('cnn_learner', 136),\n",
       " ('compose', 136),\n",
       " ('cond_init', 136),\n",
       " ('contextmanager', 136),\n",
       " ('conv2d', 136),\n",
       " ('conv2d_trans', 136),\n",
       " ('conv_layer', 136),\n",
       " ('create_body', 136),\n",
       " ('create_cnn', 136),\n",
       " ('create_cnn_model', 136),\n",
       " ('create_head', 136),\n",
       " ('data_collate', 136),\n",
       " ('dataclass', 136),\n",
       " ('datapath4file', 136),\n",
       " ('deepcopy', 136),\n",
       " ('denormalize', 136),\n",
       " ('df_names_to_idx', 136),\n",
       " ('dice', 136),\n",
       " ('doc', 136),\n",
       " ('download_data', 136),\n",
       " ('download_images', 136),\n",
       " ('download_url', 136),\n",
       " ('embedding', 136),\n",
       " ('error_rate', 136),\n",
       " ('even_mults', 136),\n",
       " ('exp_rmspe', 136),\n",
       " ('explained_variance', 136),\n",
       " ('extract_kwargs', 136),\n",
       " ('fbeta', 136),\n",
       " ('field', 136),\n",
       " ('find_classes', 136),\n",
       " ('first_layer', 136),\n",
       " ('fit', 136),\n",
       " ('fit_one_cycle', 136),\n",
       " ('flatten_check', 136),\n",
       " ('flatten_model', 136),\n",
       " ('float_or_x', 136),\n",
       " ('func_args', 136),\n",
       " ('get_annotations', 136),\n",
       " ('get_files', 136),\n",
       " ('get_image_files', 136),\n",
       " ('get_model', 136),\n",
       " ('get_param_groups', 136),\n",
       " ('get_preds', 136),\n",
       " ('get_tmp_file', 136),\n",
       " ('get_transforms', 136),\n",
       " ('grab_idx', 136),\n",
       " ('has_arg', 136),\n",
       " ('have_min_pkg_version', 136),\n",
       " ('icnr', 136),\n",
       " ('idx_dict', 136),\n",
       " ('ifnone', 136),\n",
       " ('image2np', 136),\n",
       " ('in_channels', 136),\n",
       " ('index_row', 136),\n",
       " ('init_default', 136),\n",
       " ('is1d', 136),\n",
       " ('is_dict', 136),\n",
       " ('is_listy', 136),\n",
       " ('is_pathlike', 136),\n",
       " ('is_pool_type', 136),\n",
       " ('is_tuple', 136),\n",
       " ('join_path', 136),\n",
       " ('join_paths', 136),\n",
       " ('last_layer', 136),\n",
       " ('listify', 136),\n",
       " ('load_data', 136),\n",
       " ('load_learner', 136),\n",
       " ('loadtxt_str', 136),\n",
       " ('log_uniform', 136),\n",
       " ('logit', 136),\n",
       " ('logit_', 136),\n",
       " ('loss_batch', 136),\n",
       " ('lr_find', 136),\n",
       " ('mae', 136),\n",
       " ('mean_absolute_error', 136),\n",
       " ('mean_squared_error', 136),\n",
       " ('mean_squared_logarithmic_error', 136),\n",
       " ('mixup', 136),\n",
       " ('model2half', 136),\n",
       " ('model_type', 136),\n",
       " ('mse', 136),\n",
       " ('msle', 136),\n",
       " ('namedtuple', 136),\n",
       " ('noop', 136),\n",
       " ('normalize', 136),\n",
       " ('normalize_funcs', 136),\n",
       " ('np2model_tensor', 136),\n",
       " ('np_address', 136),\n",
       " ('num_children', 136),\n",
       " ('num_cpus', 136),\n",
       " ('num_distrib', 136),\n",
       " ('one_cycle_scheduler', 136),\n",
       " ('one_hot', 136),\n",
       " ('one_param', 136),\n",
       " ('open_image', 136),\n",
       " ('open_mask', 136),\n",
       " ('open_mask_rle', 136),\n",
       " ('parallel', 136),\n",
       " ('partition', 136),\n",
       " ('partition_by_cores', 136),\n",
       " ('pil2tensor', 136),\n",
       " ('plot_flat', 136),\n",
       " ('plot_multi', 136),\n",
       " ('r2_score', 136),\n",
       " ('rand_bool', 136),\n",
       " ('rand_crop', 136),\n",
       " ('rand_pad', 136),\n",
       " ('rand_resize_crop', 136),\n",
       " ('rand_zoom', 136),\n",
       " ('random_split', 136),\n",
       " ('range_children', 136),\n",
       " ('range_of', 136),\n",
       " ('rank_distrib', 136),\n",
       " ('recurse_eq', 136),\n",
       " ('relu', 136),\n",
       " ('remove_module_load', 136),\n",
       " ('requires_grad', 136),\n",
       " ('res_block', 136),\n",
       " ('resize_to', 136),\n",
       " ('rle_decode', 136),\n",
       " ('rle_encode', 136),\n",
       " ('rmse', 136),\n",
       " ('roc_curve', 136),\n",
       " ('root_mean_squared_error', 136),\n",
       " ('save_texts', 136),\n",
       " ('scale_flow', 136),\n",
       " ('series2cat', 136),\n",
       " ('set_bn_eval', 136),\n",
       " ('set_trace', 136),\n",
       " ('show_all', 136),\n",
       " ('show_image', 136),\n",
       " ('show_multi', 136),\n",
       " ('show_some', 136),\n",
       " ('sigmoid_range', 136),\n",
       " ('simple_cnn', 136),\n",
       " ('spectral_norm', 136),\n",
       " ('split_kwargs_by_func', 136),\n",
       " ('split_model', 136),\n",
       " ('split_model_idx', 136),\n",
       " ('split_no_wd_params', 136),\n",
       " ('subplots', 136),\n",
       " ('tensor', 136),\n",
       " ('tensor__array__', 136),\n",
       " ('text2html_table', 136),\n",
       " ('tis2hw', 136),\n",
       " ('to_cpu', 136),\n",
       " ('to_data', 136),\n",
       " ('to_detach', 136),\n",
       " ('to_device', 136),\n",
       " ('to_float', 136),\n",
       " ('to_fp16', 136),\n",
       " ('to_fp32', 136),\n",
       " ('to_half', 136),\n",
       " ('to_int', 136),\n",
       " ('to_np', 136),\n",
       " ('top_k_accuracy', 136),\n",
       " ('train_epoch', 136),\n",
       " ('trainable_params', 136),\n",
       " ('trange_of', 136),\n",
       " ('trunc_normal_', 136),\n",
       " ('try_import', 136),\n",
       " ('try_int', 136),\n",
       " ('try_save', 136),\n",
       " ('unet_learner', 136),\n",
       " ('uniform', 136),\n",
       " ('uniform_int', 136),\n",
       " ('uniqueify', 136),\n",
       " ('untar_data', 136),\n",
       " ('url2name', 136),\n",
       " ('url2path', 136),\n",
       " ('validate', 136),\n",
       " ('verify_images', 136),\n",
       " ('weight_norm', 136),\n",
       " ('zoom_crop', 136),\n",
       " ('path', 112),\n",
       " ('path_img', 112),\n",
       " ('bias_types', 104),\n",
       " ('AnyStr', 88),\n",
       " ('AdamW', 80),\n",
       " ('BoolOrTensor', 80),\n",
       " ('DataFrameOrChunks', 80),\n",
       " ('F', 80),\n",
       " ('FloatOrTensor', 80),\n",
       " ('Floats', 80),\n",
       " ('IntOrTensor', 80),\n",
       " ('IntsOrStrs', 80),\n",
       " ('ListOrItem', 80),\n",
       " ('OptDataFrame', 80),\n",
       " ('OptListOrItem', 80),\n",
       " ('OptLossFunc', 80),\n",
       " ('OptMetrics', 80),\n",
       " ('OptOptimizer', 80),\n",
       " ('OptRange', 80),\n",
       " ('OptSplitFunc', 80),\n",
       " ('OptStats', 80),\n",
       " ('OptStrList', 80),\n",
       " ('OptStrTuple', 80),\n",
       " ('PBar', 80),\n",
       " ('PathLikeOrBinaryStream', 80),\n",
       " ('PathOrStr', 80),\n",
       " ('SplitFuncOrIdxList', 80),\n",
       " ('StartOptEnd', 80),\n",
       " ('TensorOrNumber', 80),\n",
       " ('Tensors', 80),\n",
       " ('TfmList', 80),\n",
       " ('Union', 80),\n",
       " ('callbacks', 80),\n",
       " ('models', 80),\n",
       " ('nn', 80),\n",
       " ('no_wd_types', 80),\n",
       " ('np', 80),\n",
       " ('optim', 80),\n",
       " ('patches', 80),\n",
       " ('patheffects', 80),\n",
       " ('pd', 80),\n",
       " ('plt', 80),\n",
       " ('vision', 80),\n",
       " ('as_tensor', 72),\n",
       " ('bn_types', 72),\n",
       " ('reduce', 72),\n",
       " ('warn', 72),\n",
       " ('cifar_stats', 64),\n",
       " ('imagenet_stats', 64),\n",
       " ('mnist_stats', 64),\n",
       " ('brightness', 56),\n",
       " ('contrast', 56),\n",
       " ('crop', 56),\n",
       " ('crop_pad', 56),\n",
       " ('cutout', 56),\n",
       " ('dihedral', 56),\n",
       " ('dihedral_affine', 56),\n",
       " ('flip_affine', 56),\n",
       " ('flip_lr', 56),\n",
       " ('jitter', 56),\n",
       " ('pad', 56),\n",
       " ('perspective_warp', 56),\n",
       " ('rgb_randomize', 56),\n",
       " ('rotate', 56),\n",
       " ('skew', 56),\n",
       " ('squish', 56),\n",
       " ('symmetric_warp', 56),\n",
       " ('tilt', 56),\n",
       " ('zoom', 56),\n",
       " ('Any', 48),\n",
       " ('Optional', 48),\n",
       " ('defaults', 48),\n",
       " ('K', 28),\n",
       " ('NUM_CLASSES', 28),\n",
       " ('bs', 28)]"
      ]
     },
     "execution_count": 24,
     "metadata": {},
     "output_type": "execute_result"
    }
   ],
   "source": [
    "import sys\n",
    "\n",
    "# These are the usual ipython objects, including this one you are creating\n",
    "ipython_vars = ['In', 'Out', 'exit', 'quit', 'get_ipython', 'ipython_vars']\n",
    "\n",
    "# Get a sorted list of the objects and their sizes\n",
    "sorted([(x, sys.getsizeof(globals().get(x))) for x in dir() if not x.startswith('_') and x not in sys.modules and x not in ipython_vars], key=lambda x: x[1], reverse=True)"
   ]
  },
  {
   "cell_type": "code",
   "execution_count": 20,
   "metadata": {
    "collapsed": true
   },
   "outputs": [
    {
     "name": "stdout",
     "output_type": "stream",
     "text": [
      "resizing to 96 into /home/filip/google landmark 2019/train/small-96\n"
     ]
    },
    {
     "data": {
      "text/html": [
       "\n",
       "    <div>\n",
       "        <style>\n",
       "            /* Turns off some styling */\n",
       "            progress {\n",
       "                /* gets rid of default border in Firefox and Opera. */\n",
       "                border: none;\n",
       "                /* Needs to be in here for Safari polyfill so background images work as expected. */\n",
       "                background-size: auto;\n",
       "            }\n",
       "            .progress-bar-interrupted, .progress-bar-interrupted::-webkit-progress-bar {\n",
       "                background: #F44336;\n",
       "            }\n",
       "        </style>\n",
       "      <progress value='0' class='progress-bar-interrupted' max='266547', style='width:300px; height:20px; vertical-align: middle;'></progress>\n",
       "      Interrupted\n",
       "    </div>\n",
       "    "
      ],
      "text/plain": [
       "<IPython.core.display.HTML object>"
      ]
     },
     "metadata": {},
     "output_type": "display_data"
    },
    {
     "ename": "AttributeError",
     "evalue": "'numpy.str_' object has no attribute 'relative_to'",
     "output_type": "error",
     "traceback": [
      "\u001b[0;31m---------------------------------------------------------------------------\u001b[0m",
      "\u001b[0;31m_RemoteTraceback\u001b[0m                          Traceback (most recent call last)",
      "\u001b[0;31m_RemoteTraceback\u001b[0m: \n\"\"\"\nTraceback (most recent call last):\n  File \"/home/filip/anaconda3/envs/fastai/lib/python3.6/concurrent/futures/process.py\", line 175, in _process_worker\n    r = call_item.fn(*call_item.args, **call_item.kwargs)\n  File \"<ipython-input-20-6221b0f42b5c>\", line 11, in resize_one\n    dest = pathd/fn.relative_to(path_hr)\nAttributeError: 'numpy.str_' object has no attribute 'relative_to'\n\"\"\"",
      "\nThe above exception was the direct cause of the following exception:\n",
      "\u001b[0;31mAttributeError\u001b[0m                            Traceback (most recent call last)",
      "\u001b[0;32m<ipython-input-20-6221b0f42b5c>\u001b[0m in \u001b[0;36m<module>\u001b[0;34m\u001b[0m\n\u001b[1;32m     21\u001b[0m     \u001b[0;32mif\u001b[0m \u001b[0;32mnot\u001b[0m \u001b[0mp\u001b[0m\u001b[0;34m.\u001b[0m\u001b[0mexists\u001b[0m\u001b[0;34m(\u001b[0m\u001b[0;34m)\u001b[0m\u001b[0;34m:\u001b[0m\u001b[0;34m\u001b[0m\u001b[0;34m\u001b[0m\u001b[0m\n\u001b[1;32m     22\u001b[0m         \u001b[0mprint\u001b[0m\u001b[0;34m(\u001b[0m\u001b[0;34mf\"resizing to {size} into {p}\"\u001b[0m\u001b[0;34m)\u001b[0m\u001b[0;34m\u001b[0m\u001b[0;34m\u001b[0m\u001b[0m\n\u001b[0;32m---> 23\u001b[0;31m         \u001b[0mparallel\u001b[0m\u001b[0;34m(\u001b[0m\u001b[0mpartial\u001b[0m\u001b[0;34m(\u001b[0m\u001b[0mresize_one\u001b[0m\u001b[0;34m,\u001b[0m \u001b[0mpath\u001b[0m\u001b[0;34m=\u001b[0m\u001b[0mp\u001b[0m\u001b[0;34m,\u001b[0m \u001b[0msize\u001b[0m\u001b[0;34m=\u001b[0m\u001b[0msize\u001b[0m\u001b[0;34m)\u001b[0m\u001b[0;34m,\u001b[0m \u001b[0mil\u001b[0m\u001b[0;34m.\u001b[0m\u001b[0mitems\u001b[0m\u001b[0;34m)\u001b[0m\u001b[0;34m\u001b[0m\u001b[0;34m\u001b[0m\u001b[0m\n\u001b[0m",
      "\u001b[0;32m~/anaconda3/envs/fastai/lib/python3.6/site-packages/fastai/core.py\u001b[0m in \u001b[0;36mparallel\u001b[0;34m(func, arr, max_workers)\u001b[0m\n\u001b[1;32m    326\u001b[0m             \u001b[0mfutures\u001b[0m \u001b[0;34m=\u001b[0m \u001b[0;34m[\u001b[0m\u001b[0mex\u001b[0m\u001b[0;34m.\u001b[0m\u001b[0msubmit\u001b[0m\u001b[0;34m(\u001b[0m\u001b[0mfunc\u001b[0m\u001b[0;34m,\u001b[0m\u001b[0mo\u001b[0m\u001b[0;34m,\u001b[0m\u001b[0mi\u001b[0m\u001b[0;34m)\u001b[0m \u001b[0;32mfor\u001b[0m \u001b[0mi\u001b[0m\u001b[0;34m,\u001b[0m\u001b[0mo\u001b[0m \u001b[0;32min\u001b[0m \u001b[0menumerate\u001b[0m\u001b[0;34m(\u001b[0m\u001b[0marr\u001b[0m\u001b[0;34m)\u001b[0m\u001b[0;34m]\u001b[0m\u001b[0;34m\u001b[0m\u001b[0;34m\u001b[0m\u001b[0m\n\u001b[1;32m    327\u001b[0m             \u001b[0mresults\u001b[0m \u001b[0;34m=\u001b[0m \u001b[0;34m[\u001b[0m\u001b[0;34m]\u001b[0m\u001b[0;34m\u001b[0m\u001b[0;34m\u001b[0m\u001b[0m\n\u001b[0;32m--> 328\u001b[0;31m             \u001b[0;32mfor\u001b[0m \u001b[0mf\u001b[0m \u001b[0;32min\u001b[0m \u001b[0mprogress_bar\u001b[0m\u001b[0;34m(\u001b[0m\u001b[0mconcurrent\u001b[0m\u001b[0;34m.\u001b[0m\u001b[0mfutures\u001b[0m\u001b[0;34m.\u001b[0m\u001b[0mas_completed\u001b[0m\u001b[0;34m(\u001b[0m\u001b[0mfutures\u001b[0m\u001b[0;34m)\u001b[0m\u001b[0;34m,\u001b[0m \u001b[0mtotal\u001b[0m\u001b[0;34m=\u001b[0m\u001b[0mlen\u001b[0m\u001b[0;34m(\u001b[0m\u001b[0marr\u001b[0m\u001b[0;34m)\u001b[0m\u001b[0;34m)\u001b[0m\u001b[0;34m:\u001b[0m \u001b[0mresults\u001b[0m\u001b[0;34m.\u001b[0m\u001b[0mappend\u001b[0m\u001b[0;34m(\u001b[0m\u001b[0mf\u001b[0m\u001b[0;34m.\u001b[0m\u001b[0mresult\u001b[0m\u001b[0;34m(\u001b[0m\u001b[0;34m)\u001b[0m\u001b[0;34m)\u001b[0m\u001b[0;34m\u001b[0m\u001b[0;34m\u001b[0m\u001b[0m\n\u001b[0m\u001b[1;32m    329\u001b[0m     \u001b[0;32mif\u001b[0m \u001b[0many\u001b[0m\u001b[0;34m(\u001b[0m\u001b[0;34m[\u001b[0m\u001b[0mo\u001b[0m \u001b[0;32mis\u001b[0m \u001b[0;32mnot\u001b[0m \u001b[0;32mNone\u001b[0m \u001b[0;32mfor\u001b[0m \u001b[0mo\u001b[0m \u001b[0;32min\u001b[0m \u001b[0mresults\u001b[0m\u001b[0;34m]\u001b[0m\u001b[0;34m)\u001b[0m\u001b[0;34m:\u001b[0m \u001b[0;32mreturn\u001b[0m \u001b[0mresults\u001b[0m\u001b[0;34m\u001b[0m\u001b[0;34m\u001b[0m\u001b[0m\n\u001b[1;32m    330\u001b[0m \u001b[0;34m\u001b[0m\u001b[0m\n",
      "\u001b[0;32m~/anaconda3/envs/fastai/lib/python3.6/concurrent/futures/_base.py\u001b[0m in \u001b[0;36mresult\u001b[0;34m(self, timeout)\u001b[0m\n\u001b[1;32m    423\u001b[0m                 \u001b[0;32mraise\u001b[0m \u001b[0mCancelledError\u001b[0m\u001b[0;34m(\u001b[0m\u001b[0;34m)\u001b[0m\u001b[0;34m\u001b[0m\u001b[0;34m\u001b[0m\u001b[0m\n\u001b[1;32m    424\u001b[0m             \u001b[0;32melif\u001b[0m \u001b[0mself\u001b[0m\u001b[0;34m.\u001b[0m\u001b[0m_state\u001b[0m \u001b[0;34m==\u001b[0m \u001b[0mFINISHED\u001b[0m\u001b[0;34m:\u001b[0m\u001b[0;34m\u001b[0m\u001b[0;34m\u001b[0m\u001b[0m\n\u001b[0;32m--> 425\u001b[0;31m                 \u001b[0;32mreturn\u001b[0m \u001b[0mself\u001b[0m\u001b[0;34m.\u001b[0m\u001b[0m__get_result\u001b[0m\u001b[0;34m(\u001b[0m\u001b[0;34m)\u001b[0m\u001b[0;34m\u001b[0m\u001b[0;34m\u001b[0m\u001b[0m\n\u001b[0m\u001b[1;32m    426\u001b[0m \u001b[0;34m\u001b[0m\u001b[0m\n\u001b[1;32m    427\u001b[0m             \u001b[0mself\u001b[0m\u001b[0;34m.\u001b[0m\u001b[0m_condition\u001b[0m\u001b[0;34m.\u001b[0m\u001b[0mwait\u001b[0m\u001b[0;34m(\u001b[0m\u001b[0mtimeout\u001b[0m\u001b[0;34m)\u001b[0m\u001b[0;34m\u001b[0m\u001b[0;34m\u001b[0m\u001b[0m\n",
      "\u001b[0;32m~/anaconda3/envs/fastai/lib/python3.6/concurrent/futures/_base.py\u001b[0m in \u001b[0;36m__get_result\u001b[0;34m(self)\u001b[0m\n\u001b[1;32m    382\u001b[0m     \u001b[0;32mdef\u001b[0m \u001b[0m__get_result\u001b[0m\u001b[0;34m(\u001b[0m\u001b[0mself\u001b[0m\u001b[0;34m)\u001b[0m\u001b[0;34m:\u001b[0m\u001b[0;34m\u001b[0m\u001b[0;34m\u001b[0m\u001b[0m\n\u001b[1;32m    383\u001b[0m         \u001b[0;32mif\u001b[0m \u001b[0mself\u001b[0m\u001b[0;34m.\u001b[0m\u001b[0m_exception\u001b[0m\u001b[0;34m:\u001b[0m\u001b[0;34m\u001b[0m\u001b[0;34m\u001b[0m\u001b[0m\n\u001b[0;32m--> 384\u001b[0;31m             \u001b[0;32mraise\u001b[0m \u001b[0mself\u001b[0m\u001b[0;34m.\u001b[0m\u001b[0m_exception\u001b[0m\u001b[0;34m\u001b[0m\u001b[0;34m\u001b[0m\u001b[0m\n\u001b[0m\u001b[1;32m    385\u001b[0m         \u001b[0;32melse\u001b[0m\u001b[0;34m:\u001b[0m\u001b[0;34m\u001b[0m\u001b[0;34m\u001b[0m\u001b[0m\n\u001b[1;32m    386\u001b[0m             \u001b[0;32mreturn\u001b[0m \u001b[0mself\u001b[0m\u001b[0;34m.\u001b[0m\u001b[0m_result\u001b[0m\u001b[0;34m\u001b[0m\u001b[0;34m\u001b[0m\u001b[0m\n",
      "\u001b[0;31mAttributeError\u001b[0m: 'numpy.str_' object has no attribute 'relative_to'"
     ]
    }
   ],
   "source": [
    "#move the images to the SSD resized\n",
    "pathd = Path(\"/home/filip/google landmark 2019/train\")\n",
    "path_hr = pathd/'images'\n",
    "path_lr = pathd/'small-96'\n",
    "path_mr = pathd/'small-256'\n",
    "\n",
    "il = ImageList.from_df(path=path_img, df=new_train, cols=\"id\", suffix='.jpg')\n",
    "#il = ImageList.from_folder(path_hr)\n",
    "\n",
    "def resize_one(fn, i, path, size):\n",
    "    dest = pathd/fn.relative_to(path_hr)\n",
    "    dest.parent.mkdir(parents=True, exist_ok=True)\n",
    "    img = PIL.Image.open(path_img / fn)\n",
    "    targ_sz = resize_to(img, size, use_min=True)\n",
    "    img = img.resize(targ_sz, resample=PIL.Image.BILINEAR).convert('RGB')\n",
    "    img.save(dest, quality=90)\n",
    "\n",
    "# create smaller image sets the first time this nb is run\n",
    "sets = [(path_lr, 96), (path_mr, 256)]\n",
    "for p,size in sets:\n",
    "    if not p.exists(): \n",
    "        print(f\"resizing to {size} into {p}\")\n",
    "        parallel(partial(resize_one, path=p, size=size), il.items)"
   ]
  },
  {
   "cell_type": "code",
   "execution_count": 30,
   "metadata": {},
   "outputs": [
    {
     "name": "stdout",
     "output_type": "stream",
     "text": [
      "resizing to 224 into /media/filip/New Volume/data_google_landmark_recog_2019/small-224\n"
     ]
    },
    {
     "data": {
      "text/html": [
       "\n",
       "    <div>\n",
       "        <style>\n",
       "            /* Turns off some styling */\n",
       "            progress {\n",
       "                /* gets rid of default border in Firefox and Opera. */\n",
       "                border: none;\n",
       "                /* Needs to be in here for Safari polyfill so background images work as expected. */\n",
       "                background-size: auto;\n",
       "            }\n",
       "            .progress-bar-interrupted, .progress-bar-interrupted::-webkit-progress-bar {\n",
       "                background: #F44336;\n",
       "            }\n",
       "        </style>\n",
       "      <progress value='0' class='progress-bar-interrupted' max='266547', style='width:300px; height:20px; vertical-align: middle;'></progress>\n",
       "      Interrupted\n",
       "    </div>\n",
       "    "
      ],
      "text/plain": [
       "<IPython.core.display.HTML object>"
      ]
     },
     "metadata": {},
     "output_type": "display_data"
    },
    {
     "ename": "AttributeError",
     "evalue": "'numpy.str_' object has no attribute 'relative_to'",
     "output_type": "error",
     "traceback": [
      "\u001b[0;31m---------------------------------------------------------------------------\u001b[0m",
      "\u001b[0;31m_RemoteTraceback\u001b[0m                          Traceback (most recent call last)",
      "\u001b[0;31m_RemoteTraceback\u001b[0m: \n\"\"\"\nTraceback (most recent call last):\n  File \"/home/filip/anaconda3/envs/fastai/lib/python3.6/concurrent/futures/process.py\", line 175, in _process_worker\n    r = call_item.fn(*call_item.args, **call_item.kwargs)\n  File \"<ipython-input-30-2f53b30724dd>\", line 10, in resize_one\n    dest = pathd/fn.relative_to(path_hr)\nAttributeError: 'numpy.str_' object has no attribute 'relative_to'\n\"\"\"",
      "\nThe above exception was the direct cause of the following exception:\n",
      "\u001b[0;31mAttributeError\u001b[0m                            Traceback (most recent call last)",
      "\u001b[0;32m<ipython-input-30-2f53b30724dd>\u001b[0m in \u001b[0;36m<module>\u001b[0;34m\u001b[0m\n\u001b[1;32m     20\u001b[0m     \u001b[0;32mif\u001b[0m \u001b[0;32mnot\u001b[0m \u001b[0mp\u001b[0m\u001b[0;34m.\u001b[0m\u001b[0mexists\u001b[0m\u001b[0;34m(\u001b[0m\u001b[0;34m)\u001b[0m\u001b[0;34m:\u001b[0m\u001b[0;34m\u001b[0m\u001b[0;34m\u001b[0m\u001b[0m\n\u001b[1;32m     21\u001b[0m         \u001b[0mprint\u001b[0m\u001b[0;34m(\u001b[0m\u001b[0;34mf\"resizing to {size} into {p}\"\u001b[0m\u001b[0;34m)\u001b[0m\u001b[0;34m\u001b[0m\u001b[0;34m\u001b[0m\u001b[0m\n\u001b[0;32m---> 22\u001b[0;31m         \u001b[0mparallel\u001b[0m\u001b[0;34m(\u001b[0m\u001b[0mpartial\u001b[0m\u001b[0;34m(\u001b[0m\u001b[0mresize_one\u001b[0m\u001b[0;34m,\u001b[0m \u001b[0mpath\u001b[0m\u001b[0;34m=\u001b[0m\u001b[0mp\u001b[0m\u001b[0;34m,\u001b[0m \u001b[0msize\u001b[0m\u001b[0;34m=\u001b[0m\u001b[0msize\u001b[0m\u001b[0;34m)\u001b[0m\u001b[0;34m,\u001b[0m \u001b[0mil\u001b[0m\u001b[0;34m.\u001b[0m\u001b[0mitems\u001b[0m\u001b[0;34m)\u001b[0m\u001b[0;34m\u001b[0m\u001b[0;34m\u001b[0m\u001b[0m\n\u001b[0m",
      "\u001b[0;32m~/anaconda3/envs/fastai/lib/python3.6/site-packages/fastai/core.py\u001b[0m in \u001b[0;36mparallel\u001b[0;34m(func, arr, max_workers)\u001b[0m\n\u001b[1;32m    326\u001b[0m             \u001b[0mfutures\u001b[0m \u001b[0;34m=\u001b[0m \u001b[0;34m[\u001b[0m\u001b[0mex\u001b[0m\u001b[0;34m.\u001b[0m\u001b[0msubmit\u001b[0m\u001b[0;34m(\u001b[0m\u001b[0mfunc\u001b[0m\u001b[0;34m,\u001b[0m\u001b[0mo\u001b[0m\u001b[0;34m,\u001b[0m\u001b[0mi\u001b[0m\u001b[0;34m)\u001b[0m \u001b[0;32mfor\u001b[0m \u001b[0mi\u001b[0m\u001b[0;34m,\u001b[0m\u001b[0mo\u001b[0m \u001b[0;32min\u001b[0m \u001b[0menumerate\u001b[0m\u001b[0;34m(\u001b[0m\u001b[0marr\u001b[0m\u001b[0;34m)\u001b[0m\u001b[0;34m]\u001b[0m\u001b[0;34m\u001b[0m\u001b[0;34m\u001b[0m\u001b[0m\n\u001b[1;32m    327\u001b[0m             \u001b[0mresults\u001b[0m \u001b[0;34m=\u001b[0m \u001b[0;34m[\u001b[0m\u001b[0;34m]\u001b[0m\u001b[0;34m\u001b[0m\u001b[0;34m\u001b[0m\u001b[0m\n\u001b[0;32m--> 328\u001b[0;31m             \u001b[0;32mfor\u001b[0m \u001b[0mf\u001b[0m \u001b[0;32min\u001b[0m \u001b[0mprogress_bar\u001b[0m\u001b[0;34m(\u001b[0m\u001b[0mconcurrent\u001b[0m\u001b[0;34m.\u001b[0m\u001b[0mfutures\u001b[0m\u001b[0;34m.\u001b[0m\u001b[0mas_completed\u001b[0m\u001b[0;34m(\u001b[0m\u001b[0mfutures\u001b[0m\u001b[0;34m)\u001b[0m\u001b[0;34m,\u001b[0m \u001b[0mtotal\u001b[0m\u001b[0;34m=\u001b[0m\u001b[0mlen\u001b[0m\u001b[0;34m(\u001b[0m\u001b[0marr\u001b[0m\u001b[0;34m)\u001b[0m\u001b[0;34m)\u001b[0m\u001b[0;34m:\u001b[0m \u001b[0mresults\u001b[0m\u001b[0;34m.\u001b[0m\u001b[0mappend\u001b[0m\u001b[0;34m(\u001b[0m\u001b[0mf\u001b[0m\u001b[0;34m.\u001b[0m\u001b[0mresult\u001b[0m\u001b[0;34m(\u001b[0m\u001b[0;34m)\u001b[0m\u001b[0;34m)\u001b[0m\u001b[0;34m\u001b[0m\u001b[0;34m\u001b[0m\u001b[0m\n\u001b[0m\u001b[1;32m    329\u001b[0m     \u001b[0;32mif\u001b[0m \u001b[0many\u001b[0m\u001b[0;34m(\u001b[0m\u001b[0;34m[\u001b[0m\u001b[0mo\u001b[0m \u001b[0;32mis\u001b[0m \u001b[0;32mnot\u001b[0m \u001b[0;32mNone\u001b[0m \u001b[0;32mfor\u001b[0m \u001b[0mo\u001b[0m \u001b[0;32min\u001b[0m \u001b[0mresults\u001b[0m\u001b[0;34m]\u001b[0m\u001b[0;34m)\u001b[0m\u001b[0;34m:\u001b[0m \u001b[0;32mreturn\u001b[0m \u001b[0mresults\u001b[0m\u001b[0;34m\u001b[0m\u001b[0;34m\u001b[0m\u001b[0m\n\u001b[1;32m    330\u001b[0m \u001b[0;34m\u001b[0m\u001b[0m\n",
      "\u001b[0;32m~/anaconda3/envs/fastai/lib/python3.6/concurrent/futures/_base.py\u001b[0m in \u001b[0;36mresult\u001b[0;34m(self, timeout)\u001b[0m\n\u001b[1;32m    423\u001b[0m                 \u001b[0;32mraise\u001b[0m \u001b[0mCancelledError\u001b[0m\u001b[0;34m(\u001b[0m\u001b[0;34m)\u001b[0m\u001b[0;34m\u001b[0m\u001b[0;34m\u001b[0m\u001b[0m\n\u001b[1;32m    424\u001b[0m             \u001b[0;32melif\u001b[0m \u001b[0mself\u001b[0m\u001b[0;34m.\u001b[0m\u001b[0m_state\u001b[0m \u001b[0;34m==\u001b[0m \u001b[0mFINISHED\u001b[0m\u001b[0;34m:\u001b[0m\u001b[0;34m\u001b[0m\u001b[0;34m\u001b[0m\u001b[0m\n\u001b[0;32m--> 425\u001b[0;31m                 \u001b[0;32mreturn\u001b[0m \u001b[0mself\u001b[0m\u001b[0;34m.\u001b[0m\u001b[0m__get_result\u001b[0m\u001b[0;34m(\u001b[0m\u001b[0;34m)\u001b[0m\u001b[0;34m\u001b[0m\u001b[0;34m\u001b[0m\u001b[0m\n\u001b[0m\u001b[1;32m    426\u001b[0m \u001b[0;34m\u001b[0m\u001b[0m\n\u001b[1;32m    427\u001b[0m             \u001b[0mself\u001b[0m\u001b[0;34m.\u001b[0m\u001b[0m_condition\u001b[0m\u001b[0;34m.\u001b[0m\u001b[0mwait\u001b[0m\u001b[0;34m(\u001b[0m\u001b[0mtimeout\u001b[0m\u001b[0;34m)\u001b[0m\u001b[0;34m\u001b[0m\u001b[0;34m\u001b[0m\u001b[0m\n",
      "\u001b[0;32m~/anaconda3/envs/fastai/lib/python3.6/concurrent/futures/_base.py\u001b[0m in \u001b[0;36m__get_result\u001b[0;34m(self)\u001b[0m\n\u001b[1;32m    382\u001b[0m     \u001b[0;32mdef\u001b[0m \u001b[0m__get_result\u001b[0m\u001b[0;34m(\u001b[0m\u001b[0mself\u001b[0m\u001b[0;34m)\u001b[0m\u001b[0;34m:\u001b[0m\u001b[0;34m\u001b[0m\u001b[0;34m\u001b[0m\u001b[0m\n\u001b[1;32m    383\u001b[0m         \u001b[0;32mif\u001b[0m \u001b[0mself\u001b[0m\u001b[0;34m.\u001b[0m\u001b[0m_exception\u001b[0m\u001b[0;34m:\u001b[0m\u001b[0;34m\u001b[0m\u001b[0;34m\u001b[0m\u001b[0m\n\u001b[0;32m--> 384\u001b[0;31m             \u001b[0;32mraise\u001b[0m \u001b[0mself\u001b[0m\u001b[0;34m.\u001b[0m\u001b[0m_exception\u001b[0m\u001b[0;34m\u001b[0m\u001b[0;34m\u001b[0m\u001b[0m\n\u001b[0m\u001b[1;32m    385\u001b[0m         \u001b[0;32melse\u001b[0m\u001b[0;34m:\u001b[0m\u001b[0;34m\u001b[0m\u001b[0;34m\u001b[0m\u001b[0m\n\u001b[1;32m    386\u001b[0m             \u001b[0;32mreturn\u001b[0m \u001b[0mself\u001b[0m\u001b[0;34m.\u001b[0m\u001b[0m_result\u001b[0m\u001b[0;34m\u001b[0m\u001b[0;34m\u001b[0m\u001b[0m\n",
      "\u001b[0;31mAttributeError\u001b[0m: 'numpy.str_' object has no attribute 'relative_to'"
     ]
    }
   ],
   "source": [
    "pathd = path\n",
    "path_hr = path_img\n",
    "path_lr = pathd/'small-224'\n",
    "path_mr = pathd/'small-256'\n",
    "\n",
    "\n",
    "il = ImageList.from_folder(path_hr)\n",
    "\n",
    "def resize_one(fn, i, path, size):\n",
    "    dest = pathd/fn.relative_to(path_hr)\n",
    "    dest.parent.mkdir(parents=True, exist_ok=True)\n",
    "    img = PIL.Image.open(fn)\n",
    "    targ_sz = resize_to(img, size, use_min=True)\n",
    "    img = img.resize(targ_sz, resample=PIL.Image.BILINEAR).convert('RGB')\n",
    "    img.save(dest, quality=90)\n",
    "\n",
    "# create smaller image sets the first time this nb is run\n",
    "sets = [(path_lr, 224), (path_mr, 256)]\n",
    "for p,size in sets:\n",
    "    if not p.exists(): \n",
    "        print(f\"resizing to {size} into {p}\")\n",
    "        parallel(partial(resize_one, path=p, size=size), il.items)"
   ]
  },
  {
   "cell_type": "code",
   "execution_count": 28,
   "metadata": {},
   "outputs": [
    {
     "ename": "ValueError",
     "evalue": "'7e0fedbe3830f841.jpg' does not start with '/media/filip/New Volume/data_google_landmark_recog_2019/train-256/train'",
     "output_type": "error",
     "traceback": [
      "\u001b[0;31m---------------------------------------------------------------------------\u001b[0m",
      "\u001b[0;31mValueError\u001b[0m                                Traceback (most recent call last)",
      "\u001b[0;32m<ipython-input-28-32c1d7b49e54>\u001b[0m in \u001b[0;36m<module>\u001b[0;34m\u001b[0m\n\u001b[1;32m      1\u001b[0m \u001b[0mfn\u001b[0m\u001b[0;34m=\u001b[0m\u001b[0mPath\u001b[0m\u001b[0;34m(\u001b[0m\u001b[0;34m\"7e0fedbe3830f841.jpg\"\u001b[0m\u001b[0;34m)\u001b[0m\u001b[0;34m\u001b[0m\u001b[0;34m\u001b[0m\u001b[0m\n\u001b[0;32m----> 2\u001b[0;31m \u001b[0mpathd\u001b[0m\u001b[0;34m/\u001b[0m\u001b[0mfn\u001b[0m\u001b[0;34m.\u001b[0m\u001b[0mrelative_to\u001b[0m\u001b[0;34m(\u001b[0m\u001b[0mpath_hr\u001b[0m\u001b[0;34m)\u001b[0m\u001b[0;34m\u001b[0m\u001b[0;34m\u001b[0m\u001b[0m\n\u001b[0m",
      "\u001b[0;32m~/anaconda3/envs/fastai/lib/python3.6/pathlib.py\u001b[0m in \u001b[0;36mrelative_to\u001b[0;34m(self, *other)\u001b[0m\n\u001b[1;32m    872\u001b[0m             \u001b[0mformatted\u001b[0m \u001b[0;34m=\u001b[0m \u001b[0mself\u001b[0m\u001b[0;34m.\u001b[0m\u001b[0m_format_parsed_parts\u001b[0m\u001b[0;34m(\u001b[0m\u001b[0mto_drv\u001b[0m\u001b[0;34m,\u001b[0m \u001b[0mto_root\u001b[0m\u001b[0;34m,\u001b[0m \u001b[0mto_parts\u001b[0m\u001b[0;34m)\u001b[0m\u001b[0;34m\u001b[0m\u001b[0;34m\u001b[0m\u001b[0m\n\u001b[1;32m    873\u001b[0m             raise ValueError(\"{!r} does not start with {!r}\"\n\u001b[0;32m--> 874\u001b[0;31m                              .format(str(self), str(formatted)))\n\u001b[0m\u001b[1;32m    875\u001b[0m         return self._from_parsed_parts('', root if n == 1 else '',\n\u001b[1;32m    876\u001b[0m                                        abs_parts[n:])\n",
      "\u001b[0;31mValueError\u001b[0m: '7e0fedbe3830f841.jpg' does not start with '/media/filip/New Volume/data_google_landmark_recog_2019/train-256/train'"
     ]
    }
   ],
   "source": [
    "fn=Path(\"7e0fedbe3830f841.jpg\")\n",
    "pathd/fn.relative_to(path_hr)"
   ]
  },
  {
   "cell_type": "code",
   "execution_count": 12,
   "metadata": {},
   "outputs": [],
   "source": [
    "del train2,train, lst, files, lst3, counts, landmarks_dict"
   ]
  },
  {
   "cell_type": "code",
   "execution_count": 13,
   "metadata": {},
   "outputs": [],
   "source": [
    "learn=None\n",
    "gc.collect()\n",
    "torch.cuda.empty_cache()"
   ]
  },
  {
   "cell_type": "code",
   "execution_count": 14,
   "metadata": {},
   "outputs": [],
   "source": [
    "#data = ImageDataBunch.from_df(path_img, new_train, fn_col=\"id\", label_col=\"landmark_id\", suffix='.jpg', ds_tfms=get_transforms(), size=224, bs=bs).normalize(imagenet_stats)\n",
    "\n",
    "data = ImageDataBunch.from_df(path_img, new_train, fn_col=\"id\", label_col=\"landmark_id\", suffix='.jpg', ds_tfms=get_transforms(), size=224, bs=bs, num_workers=5).normalize(imagenet_stats)\n"
   ]
  },
  {
   "cell_type": "code",
   "execution_count": 29,
   "metadata": {},
   "outputs": [
    {
     "data": {
      "image/png": "[encoded data removed]",
      "text/plain": [
       "<Figure size 432x432 with 9 Axes>"
      ]
     },
     "metadata": {
      "needs_background": "light"
     },
     "output_type": "display_data"
    }
   ],
   "source": [
    "data.show_batch(rows=3, figsize=(6,6))"
   ]
  },
  {
   "cell_type": "code",
   "execution_count": null,
   "metadata": {},
   "outputs": [],
   "source": [
    "data.show_batch(rows=3, figsize=(7,6))"
   ]
  },
  {
   "cell_type": "code",
   "execution_count": null,
   "metadata": {},
   "outputs": [],
   "source": [
    "print(data.classes)\n",
    "len(data.classes),data.c"
   ]
  },
  {
   "cell_type": "code",
   "execution_count": null,
   "metadata": {},
   "outputs": [],
   "source": [
    "def GAP_vector(pred, conf, true, return_x=False):\n",
    "    '''\n",
    "    Compute Global Average Precision (aka micro AP), the metric for the\n",
    "    Google Landmark Recognition competition. \n",
    "    This function takes predictions, labels and confidence scores as vectors.\n",
    "    In both predictions and ground-truth, use None/np.nan for \"no label\".\n",
    "\n",
    "    Args:\n",
    "        pred: vector of integer-coded predictions\n",
    "        conf: vector of probability or confidence scores for pred\n",
    "        true: vector of integer-coded labels for ground truth\n",
    "        return_x: also return the data frame used in the calculation\n",
    "\n",
    "    Returns:\n",
    "        GAP score\n",
    "    '''\n",
    "    x = pd.DataFrame({'pred': pred, 'conf': conf, 'true': true})\n",
    "    x.sort_values('conf', ascending=False, inplace=True, na_position='last')\n",
    "    x['correct'] = (x.true == x.pred).astype(int)\n",
    "    x['prec_k'] = x.correct.cumsum() / (np.arange(len(x)) + 1)\n",
    "    x['term'] = x.prec_k * x.correct\n",
    "    gap = x.term.sum() / x.true.count()\n",
    "    if return_x:\n",
    "        return gap, x\n",
    "    else:\n",
    "        return gap"
   ]
  },
  {
   "cell_type": "markdown",
   "metadata": {},
   "source": [
    "## Training: resnet34"
   ]
  },
  {
   "cell_type": "markdown",
   "metadata": {},
   "source": [
    "Now we will start training our model. We will use a [convolutional neural network](http://cs231n.github.io/convolutional-networks/) backbone and a fully connected head with a single hidden layer as a classifier. Don't know what these things mean? Not to worry, we will dive deeper in the coming lessons. For the moment you need to know that we are building a model which will take images as input and will output the predicted probability for each of the categories (in this case, it will have 37 outputs).\n",
    "\n",
    "We will train for 4 epochs (4 cycles through all our data)."
   ]
  },
  {
   "cell_type": "code",
   "execution_count": 15,
   "metadata": {},
   "outputs": [],
   "source": [
    "learn = cnn_learner(data, models.resnet34, metrics=error_rate).to_fp16()\n",
    "#learn = cnn_learner(data, models.resnet34, metrics=error_rate)"
   ]
  },
  {
   "cell_type": "code",
   "execution_count": 16,
   "metadata": {},
   "outputs": [
    {
     "data": {
      "text/plain": [
       "Sequential(\n",
       "  (0): Sequential(\n",
       "    (0): Conv2d(3, 64, kernel_size=(7, 7), stride=(2, 2), padding=(3, 3), bias=False)\n",
       "    (1): BatchNorm2d(64, eps=1e-05, momentum=0.1, affine=True, track_running_stats=True)\n",
       "    (2): ReLU(inplace)\n",
       "    (3): MaxPool2d(kernel_size=3, stride=2, padding=1, dilation=1, ceil_mode=False)\n",
       "    (4): Sequential(\n",
       "      (0): BasicBlock(\n",
       "        (conv1): Conv2d(64, 64, kernel_size=(3, 3), stride=(1, 1), padding=(1, 1), bias=False)\n",
       "        (bn1): BatchNorm2d(64, eps=1e-05, momentum=0.1, affine=True, track_running_stats=True)\n",
       "        (relu): ReLU(inplace)\n",
       "        (conv2): Conv2d(64, 64, kernel_size=(3, 3), stride=(1, 1), padding=(1, 1), bias=False)\n",
       "        (bn2): BatchNorm2d(64, eps=1e-05, momentum=0.1, affine=True, track_running_stats=True)\n",
       "      )\n",
       "      (1): BasicBlock(\n",
       "        (conv1): Conv2d(64, 64, kernel_size=(3, 3), stride=(1, 1), padding=(1, 1), bias=False)\n",
       "        (bn1): BatchNorm2d(64, eps=1e-05, momentum=0.1, affine=True, track_running_stats=True)\n",
       "        (relu): ReLU(inplace)\n",
       "        (conv2): Conv2d(64, 64, kernel_size=(3, 3), stride=(1, 1), padding=(1, 1), bias=False)\n",
       "        (bn2): BatchNorm2d(64, eps=1e-05, momentum=0.1, affine=True, track_running_stats=True)\n",
       "      )\n",
       "      (2): BasicBlock(\n",
       "        (conv1): Conv2d(64, 64, kernel_size=(3, 3), stride=(1, 1), padding=(1, 1), bias=False)\n",
       "        (bn1): BatchNorm2d(64, eps=1e-05, momentum=0.1, affine=True, track_running_stats=True)\n",
       "        (relu): ReLU(inplace)\n",
       "        (conv2): Conv2d(64, 64, kernel_size=(3, 3), stride=(1, 1), padding=(1, 1), bias=False)\n",
       "        (bn2): BatchNorm2d(64, eps=1e-05, momentum=0.1, affine=True, track_running_stats=True)\n",
       "      )\n",
       "    )\n",
       "    (5): Sequential(\n",
       "      (0): BasicBlock(\n",
       "        (conv1): Conv2d(64, 128, kernel_size=(3, 3), stride=(2, 2), padding=(1, 1), bias=False)\n",
       "        (bn1): BatchNorm2d(128, eps=1e-05, momentum=0.1, affine=True, track_running_stats=True)\n",
       "        (relu): ReLU(inplace)\n",
       "        (conv2): Conv2d(128, 128, kernel_size=(3, 3), stride=(1, 1), padding=(1, 1), bias=False)\n",
       "        (bn2): BatchNorm2d(128, eps=1e-05, momentum=0.1, affine=True, track_running_stats=True)\n",
       "        (downsample): Sequential(\n",
       "          (0): Conv2d(64, 128, kernel_size=(1, 1), stride=(2, 2), bias=False)\n",
       "          (1): BatchNorm2d(128, eps=1e-05, momentum=0.1, affine=True, track_running_stats=True)\n",
       "        )\n",
       "      )\n",
       "      (1): BasicBlock(\n",
       "        (conv1): Conv2d(128, 128, kernel_size=(3, 3), stride=(1, 1), padding=(1, 1), bias=False)\n",
       "        (bn1): BatchNorm2d(128, eps=1e-05, momentum=0.1, affine=True, track_running_stats=True)\n",
       "        (relu): ReLU(inplace)\n",
       "        (conv2): Conv2d(128, 128, kernel_size=(3, 3), stride=(1, 1), padding=(1, 1), bias=False)\n",
       "        (bn2): BatchNorm2d(128, eps=1e-05, momentum=0.1, affine=True, track_running_stats=True)\n",
       "      )\n",
       "      (2): BasicBlock(\n",
       "        (conv1): Conv2d(128, 128, kernel_size=(3, 3), stride=(1, 1), padding=(1, 1), bias=False)\n",
       "        (bn1): BatchNorm2d(128, eps=1e-05, momentum=0.1, affine=True, track_running_stats=True)\n",
       "        (relu): ReLU(inplace)\n",
       "        (conv2): Conv2d(128, 128, kernel_size=(3, 3), stride=(1, 1), padding=(1, 1), bias=False)\n",
       "        (bn2): BatchNorm2d(128, eps=1e-05, momentum=0.1, affine=True, track_running_stats=True)\n",
       "      )\n",
       "      (3): BasicBlock(\n",
       "        (conv1): Conv2d(128, 128, kernel_size=(3, 3), stride=(1, 1), padding=(1, 1), bias=False)\n",
       "        (bn1): BatchNorm2d(128, eps=1e-05, momentum=0.1, affine=True, track_running_stats=True)\n",
       "        (relu): ReLU(inplace)\n",
       "        (conv2): Conv2d(128, 128, kernel_size=(3, 3), stride=(1, 1), padding=(1, 1), bias=False)\n",
       "        (bn2): BatchNorm2d(128, eps=1e-05, momentum=0.1, affine=True, track_running_stats=True)\n",
       "      )\n",
       "    )\n",
       "    (6): Sequential(\n",
       "      (0): BasicBlock(\n",
       "        (conv1): Conv2d(128, 256, kernel_size=(3, 3), stride=(2, 2), padding=(1, 1), bias=False)\n",
       "        (bn1): BatchNorm2d(256, eps=1e-05, momentum=0.1, affine=True, track_running_stats=True)\n",
       "        (relu): ReLU(inplace)\n",
       "        (conv2): Conv2d(256, 256, kernel_size=(3, 3), stride=(1, 1), padding=(1, 1), bias=False)\n",
       "        (bn2): BatchNorm2d(256, eps=1e-05, momentum=0.1, affine=True, track_running_stats=True)\n",
       "        (downsample): Sequential(\n",
       "          (0): Conv2d(128, 256, kernel_size=(1, 1), stride=(2, 2), bias=False)\n",
       "          (1): BatchNorm2d(256, eps=1e-05, momentum=0.1, affine=True, track_running_stats=True)\n",
       "        )\n",
       "      )\n",
       "      (1): BasicBlock(\n",
       "        (conv1): Conv2d(256, 256, kernel_size=(3, 3), stride=(1, 1), padding=(1, 1), bias=False)\n",
       "        (bn1): BatchNorm2d(256, eps=1e-05, momentum=0.1, affine=True, track_running_stats=True)\n",
       "        (relu): ReLU(inplace)\n",
       "        (conv2): Conv2d(256, 256, kernel_size=(3, 3), stride=(1, 1), padding=(1, 1), bias=False)\n",
       "        (bn2): BatchNorm2d(256, eps=1e-05, momentum=0.1, affine=True, track_running_stats=True)\n",
       "      )\n",
       "      (2): BasicBlock(\n",
       "        (conv1): Conv2d(256, 256, kernel_size=(3, 3), stride=(1, 1), padding=(1, 1), bias=False)\n",
       "        (bn1): BatchNorm2d(256, eps=1e-05, momentum=0.1, affine=True, track_running_stats=True)\n",
       "        (relu): ReLU(inplace)\n",
       "        (conv2): Conv2d(256, 256, kernel_size=(3, 3), stride=(1, 1), padding=(1, 1), bias=False)\n",
       "        (bn2): BatchNorm2d(256, eps=1e-05, momentum=0.1, affine=True, track_running_stats=True)\n",
       "      )\n",
       "      (3): BasicBlock(\n",
       "        (conv1): Conv2d(256, 256, kernel_size=(3, 3), stride=(1, 1), padding=(1, 1), bias=False)\n",
       "        (bn1): BatchNorm2d(256, eps=1e-05, momentum=0.1, affine=True, track_running_stats=True)\n",
       "        (relu): ReLU(inplace)\n",
       "        (conv2): Conv2d(256, 256, kernel_size=(3, 3), stride=(1, 1), padding=(1, 1), bias=False)\n",
       "        (bn2): BatchNorm2d(256, eps=1e-05, momentum=0.1, affine=True, track_running_stats=True)\n",
       "      )\n",
       "      (4): BasicBlock(\n",
       "        (conv1): Conv2d(256, 256, kernel_size=(3, 3), stride=(1, 1), padding=(1, 1), bias=False)\n",
       "        (bn1): BatchNorm2d(256, eps=1e-05, momentum=0.1, affine=True, track_running_stats=True)\n",
       "        (relu): ReLU(inplace)\n",
       "        (conv2): Conv2d(256, 256, kernel_size=(3, 3), stride=(1, 1), padding=(1, 1), bias=False)\n",
       "        (bn2): BatchNorm2d(256, eps=1e-05, momentum=0.1, affine=True, track_running_stats=True)\n",
       "      )\n",
       "      (5): BasicBlock(\n",
       "        (conv1): Conv2d(256, 256, kernel_size=(3, 3), stride=(1, 1), padding=(1, 1), bias=False)\n",
       "        (bn1): BatchNorm2d(256, eps=1e-05, momentum=0.1, affine=True, track_running_stats=True)\n",
       "        (relu): ReLU(inplace)\n",
       "        (conv2): Conv2d(256, 256, kernel_size=(3, 3), stride=(1, 1), padding=(1, 1), bias=False)\n",
       "        (bn2): BatchNorm2d(256, eps=1e-05, momentum=0.1, affine=True, track_running_stats=True)\n",
       "      )\n",
       "    )\n",
       "    (7): Sequential(\n",
       "      (0): BasicBlock(\n",
       "        (conv1): Conv2d(256, 512, kernel_size=(3, 3), stride=(2, 2), padding=(1, 1), bias=False)\n",
       "        (bn1): BatchNorm2d(512, eps=1e-05, momentum=0.1, affine=True, track_running_stats=True)\n",
       "        (relu): ReLU(inplace)\n",
       "        (conv2): Conv2d(512, 512, kernel_size=(3, 3), stride=(1, 1), padding=(1, 1), bias=False)\n",
       "        (bn2): BatchNorm2d(512, eps=1e-05, momentum=0.1, affine=True, track_running_stats=True)\n",
       "        (downsample): Sequential(\n",
       "          (0): Conv2d(256, 512, kernel_size=(1, 1), stride=(2, 2), bias=False)\n",
       "          (1): BatchNorm2d(512, eps=1e-05, momentum=0.1, affine=True, track_running_stats=True)\n",
       "        )\n",
       "      )\n",
       "      (1): BasicBlock(\n",
       "        (conv1): Conv2d(512, 512, kernel_size=(3, 3), stride=(1, 1), padding=(1, 1), bias=False)\n",
       "        (bn1): BatchNorm2d(512, eps=1e-05, momentum=0.1, affine=True, track_running_stats=True)\n",
       "        (relu): ReLU(inplace)\n",
       "        (conv2): Conv2d(512, 512, kernel_size=(3, 3), stride=(1, 1), padding=(1, 1), bias=False)\n",
       "        (bn2): BatchNorm2d(512, eps=1e-05, momentum=0.1, affine=True, track_running_stats=True)\n",
       "      )\n",
       "      (2): BasicBlock(\n",
       "        (conv1): Conv2d(512, 512, kernel_size=(3, 3), stride=(1, 1), padding=(1, 1), bias=False)\n",
       "        (bn1): BatchNorm2d(512, eps=1e-05, momentum=0.1, affine=True, track_running_stats=True)\n",
       "        (relu): ReLU(inplace)\n",
       "        (conv2): Conv2d(512, 512, kernel_size=(3, 3), stride=(1, 1), padding=(1, 1), bias=False)\n",
       "        (bn2): BatchNorm2d(512, eps=1e-05, momentum=0.1, affine=True, track_running_stats=True)\n",
       "      )\n",
       "    )\n",
       "  )\n",
       "  (1): Sequential(\n",
       "    (0): AdaptiveConcatPool2d(\n",
       "      (ap): AdaptiveAvgPool2d(output_size=1)\n",
       "      (mp): AdaptiveMaxPool2d(output_size=1)\n",
       "    )\n",
       "    (1): Flatten()\n",
       "    (2): BatchNorm1d(1024, eps=1e-05, momentum=0.1, affine=True, track_running_stats=True)\n",
       "    (3): Dropout(p=0.25)\n",
       "    (4): Linear(in_features=1024, out_features=512, bias=True)\n",
       "    (5): ReLU(inplace)\n",
       "    (6): BatchNorm1d(512, eps=1e-05, momentum=0.1, affine=True, track_running_stats=True)\n",
       "    (7): Dropout(p=0.5)\n",
       "    (8): Linear(in_features=512, out_features=6513, bias=True)\n",
       "  )\n",
       ")"
      ]
     },
     "execution_count": 16,
     "metadata": {},
     "output_type": "execute_result"
    }
   ],
   "source": [
    "learn.model"
   ]
  },
  {
   "cell_type": "code",
   "execution_count": 17,
   "metadata": {
    "scrolled": false
   },
   "outputs": [
    {
     "data": {
      "text/html": [
       "<table border=\"1\" class=\"dataframe\">\n",
       "  <thead>\n",
       "    <tr style=\"text-align: left;\">\n",
       "      <th>epoch</th>\n",
       "      <th>train_loss</th>\n",
       "      <th>valid_loss</th>\n",
       "      <th>error_rate</th>\n",
       "      <th>time</th>\n",
       "    </tr>\n",
       "  </thead>\n",
       "  <tbody>\n",
       "    <tr>\n",
       "      <td>0</td>\n",
       "      <td>6.396007</td>\n",
       "      <td>5.760169</td>\n",
       "      <td>0.852781</td>\n",
       "      <td>37:18</td>\n",
       "    </tr>\n",
       "    <tr>\n",
       "      <td>1</td>\n",
       "      <td>5.852680</td>\n",
       "      <td>5.126049</td>\n",
       "      <td>0.792239</td>\n",
       "      <td>37:03</td>\n",
       "    </tr>\n",
       "    <tr>\n",
       "      <td>2</td>\n",
       "      <td>5.695752</td>\n",
       "      <td>4.881757</td>\n",
       "      <td>0.760496</td>\n",
       "      <td>37:02</td>\n",
       "    </tr>\n",
       "    <tr>\n",
       "      <td>3</td>\n",
       "      <td>5.589668</td>\n",
       "      <td>4.705878</td>\n",
       "      <td>0.739523</td>\n",
       "      <td>37:15</td>\n",
       "    </tr>\n",
       "    <tr>\n",
       "      <td>4</td>\n",
       "      <td>5.502891</td>\n",
       "      <td>4.589825</td>\n",
       "      <td>0.724180</td>\n",
       "      <td>36:53</td>\n",
       "    </tr>\n",
       "    <tr>\n",
       "      <td>5</td>\n",
       "      <td>5.427714</td>\n",
       "      <td>4.492505</td>\n",
       "      <td>0.710281</td>\n",
       "      <td>37:01</td>\n",
       "    </tr>\n",
       "    <tr>\n",
       "      <td>6</td>\n",
       "      <td>5.287908</td>\n",
       "      <td>4.381384</td>\n",
       "      <td>0.694677</td>\n",
       "      <td>37:17</td>\n",
       "    </tr>\n",
       "    <tr>\n",
       "      <td>7</td>\n",
       "      <td>5.155597</td>\n",
       "      <td>4.260483</td>\n",
       "      <td>0.677154</td>\n",
       "      <td>37:27</td>\n",
       "    </tr>\n",
       "    <tr>\n",
       "      <td>8</td>\n",
       "      <td>4.978669</td>\n",
       "      <td>4.175903</td>\n",
       "      <td>0.660224</td>\n",
       "      <td>37:20</td>\n",
       "    </tr>\n",
       "    <tr>\n",
       "      <td>9</td>\n",
       "      <td>4.874754</td>\n",
       "      <td>4.146789</td>\n",
       "      <td>0.655615</td>\n",
       "      <td>36:43</td>\n",
       "    </tr>\n",
       "  </tbody>\n",
       "</table>"
      ],
      "text/plain": [
       "<IPython.core.display.HTML object>"
      ]
     },
     "metadata": {},
     "output_type": "display_data"
    }
   ],
   "source": [
    "learn.freeze()\n",
    "learn.fit_one_cycle(10)"
   ]
  },
  {
   "cell_type": "code",
   "execution_count": 21,
   "metadata": {},
   "outputs": [],
   "source": [
    "learn.save('stage-1')"
   ]
  },
  {
   "cell_type": "markdown",
   "metadata": {},
   "source": [
    "## Results"
   ]
  },
  {
   "cell_type": "markdown",
   "metadata": {},
   "source": [
    "Let's see what results we have got. \n",
    "\n",
    "We will first see which were the categories that the model most confused with one another. We will try to see if what the model predicted was reasonable or not. In this case the mistakes look reasonable (none of the mistakes seems obviously naive). This is an indicator that our classifier is working correctly. \n",
    "\n",
    "Furthermore, when we plot the confusion matrix, we can see that the distribution is heavily skewed: the model makes the same mistakes over and over again but it rarely confuses other categories. This suggests that it just finds it difficult to distinguish some specific categories between each other; this is normal behaviour."
   ]
  },
  {
   "cell_type": "code",
   "execution_count": 22,
   "metadata": {},
   "outputs": [
    {
     "data": {
      "text/plain": [
       "True"
      ]
     },
     "execution_count": 22,
     "metadata": {},
     "output_type": "execute_result"
    }
   ],
   "source": [
    "interp = ClassificationInterpretation.from_learner(learn)\n",
    "\n",
    "losses,idxs = interp.top_losses()\n",
    "\n",
    "len(data.valid_ds)==len(losses)==len(idxs)"
   ]
  },
  {
   "cell_type": "code",
   "execution_count": 36,
   "metadata": {},
   "outputs": [
    {
     "ename": "RuntimeError",
     "evalue": "expected scalar type Half but found Float",
     "output_type": "error",
     "traceback": [
      "\u001b[0;31m---------------------------------------------------------------------------\u001b[0m",
      "\u001b[0;31mRuntimeError\u001b[0m                              Traceback (most recent call last)",
      "\u001b[0;32m<ipython-input-36-34fc804e24e7>\u001b[0m in \u001b[0;36m<module>\u001b[0;34m\u001b[0m\n\u001b[0;32m----> 1\u001b[0;31m \u001b[0minterp\u001b[0m\u001b[0;34m.\u001b[0m\u001b[0mplot_top_losses\u001b[0m\u001b[0;34m(\u001b[0m\u001b[0;36m9\u001b[0m\u001b[0;34m,\u001b[0m \u001b[0mfigsize\u001b[0m\u001b[0;34m=\u001b[0m\u001b[0;34m(\u001b[0m\u001b[0;36m15\u001b[0m\u001b[0;34m,\u001b[0m\u001b[0;36m11\u001b[0m\u001b[0;34m)\u001b[0m\u001b[0;34m)\u001b[0m\u001b[0;34m\u001b[0m\u001b[0;34m\u001b[0m\u001b[0m\n\u001b[0m",
      "\u001b[0;32m~/anaconda3/envs/fastai/lib/python3.6/site-packages/fastai/vision/learner.py\u001b[0m in \u001b[0;36m_cl_int_plot_top_losses\u001b[0;34m(self, k, largest, figsize, heatmap, heatmap_thresh, return_fig)\u001b[0m\n\u001b[1;32m    148\u001b[0m                 \u001b[0;32mwith\u001b[0m \u001b[0mhook_output\u001b[0m\u001b[0;34m(\u001b[0m\u001b[0mm\u001b[0m\u001b[0;34m[\u001b[0m\u001b[0;36m0\u001b[0m\u001b[0;34m]\u001b[0m\u001b[0;34m,\u001b[0m \u001b[0mgrad\u001b[0m\u001b[0;34m=\u001b[0m \u001b[0;32mTrue\u001b[0m\u001b[0;34m)\u001b[0m \u001b[0;32mas\u001b[0m \u001b[0mhook_g\u001b[0m\u001b[0;34m:\u001b[0m\u001b[0;34m\u001b[0m\u001b[0;34m\u001b[0m\u001b[0m\n\u001b[1;32m    149\u001b[0m                     \u001b[0mpreds\u001b[0m \u001b[0;34m=\u001b[0m \u001b[0mm\u001b[0m\u001b[0;34m(\u001b[0m\u001b[0mxb\u001b[0m\u001b[0;34m)\u001b[0m\u001b[0;34m\u001b[0m\u001b[0;34m\u001b[0m\u001b[0m\n\u001b[0;32m--> 150\u001b[0;31m                     \u001b[0mpreds\u001b[0m\u001b[0;34m[\u001b[0m\u001b[0;36m0\u001b[0m\u001b[0;34m,\u001b[0m\u001b[0mcl\u001b[0m\u001b[0;34m]\u001b[0m\u001b[0;34m.\u001b[0m\u001b[0mbackward\u001b[0m\u001b[0;34m(\u001b[0m\u001b[0;34m)\u001b[0m\u001b[0;34m\u001b[0m\u001b[0;34m\u001b[0m\u001b[0m\n\u001b[0m\u001b[1;32m    151\u001b[0m             \u001b[0macts\u001b[0m \u001b[0;34m=\u001b[0m \u001b[0mhook_a\u001b[0m\u001b[0;34m.\u001b[0m\u001b[0mstored\u001b[0m\u001b[0;34m[\u001b[0m\u001b[0;36m0\u001b[0m\u001b[0;34m]\u001b[0m\u001b[0;34m.\u001b[0m\u001b[0mcpu\u001b[0m\u001b[0;34m(\u001b[0m\u001b[0;34m)\u001b[0m\u001b[0;34m\u001b[0m\u001b[0;34m\u001b[0m\u001b[0m\n\u001b[1;32m    152\u001b[0m             \u001b[0;32mif\u001b[0m \u001b[0;34m(\u001b[0m\u001b[0macts\u001b[0m\u001b[0;34m.\u001b[0m\u001b[0mshape\u001b[0m\u001b[0;34m[\u001b[0m\u001b[0;34m-\u001b[0m\u001b[0;36m1\u001b[0m\u001b[0;34m]\u001b[0m\u001b[0;34m*\u001b[0m\u001b[0macts\u001b[0m\u001b[0;34m.\u001b[0m\u001b[0mshape\u001b[0m\u001b[0;34m[\u001b[0m\u001b[0;34m-\u001b[0m\u001b[0;36m2\u001b[0m\u001b[0;34m]\u001b[0m\u001b[0;34m)\u001b[0m \u001b[0;34m>=\u001b[0m \u001b[0mheatmap_thresh\u001b[0m\u001b[0;34m:\u001b[0m\u001b[0;34m\u001b[0m\u001b[0;34m\u001b[0m\u001b[0m\n",
      "\u001b[0;32m~/anaconda3/envs/fastai/lib/python3.6/site-packages/torch/tensor.py\u001b[0m in \u001b[0;36mbackward\u001b[0;34m(self, gradient, retain_graph, create_graph)\u001b[0m\n\u001b[1;32m    105\u001b[0m                 \u001b[0mproducts\u001b[0m\u001b[0;34m.\u001b[0m \u001b[0mDefaults\u001b[0m \u001b[0mto\u001b[0m\u001b[0;31m \u001b[0m\u001b[0;31m`\u001b[0m\u001b[0;31m`\u001b[0m\u001b[0;32mFalse\u001b[0m\u001b[0;31m`\u001b[0m\u001b[0;31m`\u001b[0m\u001b[0;34m.\u001b[0m\u001b[0;34m\u001b[0m\u001b[0;34m\u001b[0m\u001b[0m\n\u001b[1;32m    106\u001b[0m         \"\"\"\n\u001b[0;32m--> 107\u001b[0;31m         \u001b[0mtorch\u001b[0m\u001b[0;34m.\u001b[0m\u001b[0mautograd\u001b[0m\u001b[0;34m.\u001b[0m\u001b[0mbackward\u001b[0m\u001b[0;34m(\u001b[0m\u001b[0mself\u001b[0m\u001b[0;34m,\u001b[0m \u001b[0mgradient\u001b[0m\u001b[0;34m,\u001b[0m \u001b[0mretain_graph\u001b[0m\u001b[0;34m,\u001b[0m \u001b[0mcreate_graph\u001b[0m\u001b[0;34m)\u001b[0m\u001b[0;34m\u001b[0m\u001b[0;34m\u001b[0m\u001b[0m\n\u001b[0m\u001b[1;32m    108\u001b[0m \u001b[0;34m\u001b[0m\u001b[0m\n\u001b[1;32m    109\u001b[0m     \u001b[0;32mdef\u001b[0m \u001b[0mregister_hook\u001b[0m\u001b[0;34m(\u001b[0m\u001b[0mself\u001b[0m\u001b[0;34m,\u001b[0m \u001b[0mhook\u001b[0m\u001b[0;34m)\u001b[0m\u001b[0;34m:\u001b[0m\u001b[0;34m\u001b[0m\u001b[0;34m\u001b[0m\u001b[0m\n",
      "\u001b[0;32m~/anaconda3/envs/fastai/lib/python3.6/site-packages/torch/autograd/__init__.py\u001b[0m in \u001b[0;36mbackward\u001b[0;34m(tensors, grad_tensors, retain_graph, create_graph, grad_variables)\u001b[0m\n\u001b[1;32m     91\u001b[0m     Variable._execution_engine.run_backward(\n\u001b[1;32m     92\u001b[0m         \u001b[0mtensors\u001b[0m\u001b[0;34m,\u001b[0m \u001b[0mgrad_tensors\u001b[0m\u001b[0;34m,\u001b[0m \u001b[0mretain_graph\u001b[0m\u001b[0;34m,\u001b[0m \u001b[0mcreate_graph\u001b[0m\u001b[0;34m,\u001b[0m\u001b[0;34m\u001b[0m\u001b[0;34m\u001b[0m\u001b[0m\n\u001b[0;32m---> 93\u001b[0;31m         allow_unreachable=True)  # allow_unreachable flag\n\u001b[0m\u001b[1;32m     94\u001b[0m \u001b[0;34m\u001b[0m\u001b[0m\n\u001b[1;32m     95\u001b[0m \u001b[0;34m\u001b[0m\u001b[0m\n",
      "\u001b[0;31mRuntimeError\u001b[0m: expected scalar type Half but found Float"
     ]
    },
    {
     "data": {
      "image/png": "[encoded data removed]",
      "text/plain": [
       "<Figure size 1080x792 with 9 Axes>"
      ]
     },
     "metadata": {
      "needs_background": "light"
     },
     "output_type": "display_data"
    }
   ],
   "source": [
    "interp.plot_top_losses(9, figsize=(15,11))"
   ]
  },
  {
   "cell_type": "code",
   "execution_count": null,
   "metadata": {},
   "outputs": [],
   "source": [
    "doc(interp.plot_top_losses)"
   ]
  },
  {
   "cell_type": "code",
   "execution_count": null,
   "metadata": {},
   "outputs": [],
   "source": [
    "interp.plot_confusion_matrix(figsize=(12,12), dpi=60)"
   ]
  },
  {
   "cell_type": "code",
   "execution_count": 23,
   "metadata": {},
   "outputs": [
    {
     "ename": "KeyboardInterrupt",
     "evalue": "",
     "output_type": "error",
     "traceback": [
      "\u001b[0;31m---------------------------------------------------------------------------\u001b[0m",
      "\u001b[0;31mKeyboardInterrupt\u001b[0m                         Traceback (most recent call last)",
      "\u001b[0;32m<ipython-input-23-3bb7509df58a>\u001b[0m in \u001b[0;36m<module>\u001b[0;34m\u001b[0m\n\u001b[0;32m----> 1\u001b[0;31m \u001b[0minterp\u001b[0m\u001b[0;34m.\u001b[0m\u001b[0mmost_confused\u001b[0m\u001b[0;34m(\u001b[0m\u001b[0mmin_val\u001b[0m\u001b[0;34m=\u001b[0m\u001b[0;36m2\u001b[0m\u001b[0;34m)\u001b[0m\u001b[0;34m\u001b[0m\u001b[0;34m\u001b[0m\u001b[0m\n\u001b[0m",
      "\u001b[0;32m~/anaconda3/envs/fastai/lib/python3.6/site-packages/fastai/train.py\u001b[0m in \u001b[0;36mmost_confused\u001b[0;34m(self, min_val, slice_size)\u001b[0m\n\u001b[1;32m    186\u001b[0m     \u001b[0;32mdef\u001b[0m \u001b[0mmost_confused\u001b[0m\u001b[0;34m(\u001b[0m\u001b[0mself\u001b[0m\u001b[0;34m,\u001b[0m \u001b[0mmin_val\u001b[0m\u001b[0;34m:\u001b[0m\u001b[0mint\u001b[0m\u001b[0;34m=\u001b[0m\u001b[0;36m1\u001b[0m\u001b[0;34m,\u001b[0m \u001b[0mslice_size\u001b[0m\u001b[0;34m:\u001b[0m\u001b[0mint\u001b[0m\u001b[0;34m=\u001b[0m\u001b[0;36m1\u001b[0m\u001b[0;34m)\u001b[0m\u001b[0;34m->\u001b[0m\u001b[0mCollection\u001b[0m\u001b[0;34m[\u001b[0m\u001b[0mTuple\u001b[0m\u001b[0;34m[\u001b[0m\u001b[0mstr\u001b[0m\u001b[0;34m,\u001b[0m\u001b[0mstr\u001b[0m\u001b[0;34m,\u001b[0m\u001b[0mint\u001b[0m\u001b[0;34m]\u001b[0m\u001b[0;34m]\u001b[0m\u001b[0;34m:\u001b[0m\u001b[0;34m\u001b[0m\u001b[0;34m\u001b[0m\u001b[0m\n\u001b[1;32m    187\u001b[0m         \u001b[0;34m\"Sorted descending list of largest non-diagonal entries of confusion matrix, presented as actual, predicted, number of occurrences.\"\u001b[0m\u001b[0;34m\u001b[0m\u001b[0;34m\u001b[0m\u001b[0m\n\u001b[0;32m--> 188\u001b[0;31m         \u001b[0mcm\u001b[0m \u001b[0;34m=\u001b[0m \u001b[0mself\u001b[0m\u001b[0;34m.\u001b[0m\u001b[0mconfusion_matrix\u001b[0m\u001b[0;34m(\u001b[0m\u001b[0mslice_size\u001b[0m\u001b[0;34m=\u001b[0m\u001b[0mslice_size\u001b[0m\u001b[0;34m)\u001b[0m\u001b[0;34m\u001b[0m\u001b[0;34m\u001b[0m\u001b[0m\n\u001b[0m\u001b[1;32m    189\u001b[0m         \u001b[0mnp\u001b[0m\u001b[0;34m.\u001b[0m\u001b[0mfill_diagonal\u001b[0m\u001b[0;34m(\u001b[0m\u001b[0mcm\u001b[0m\u001b[0;34m,\u001b[0m \u001b[0;36m0\u001b[0m\u001b[0;34m)\u001b[0m\u001b[0;34m\u001b[0m\u001b[0;34m\u001b[0m\u001b[0m\n\u001b[1;32m    190\u001b[0m         res = [(self.data.classes[i],self.data.classes[j],cm[i,j])\n",
      "\u001b[0;32m~/anaconda3/envs/fastai/lib/python3.6/site-packages/fastai/train.py\u001b[0m in \u001b[0;36mconfusion_matrix\u001b[0;34m(self, slice_size)\u001b[0m\n\u001b[1;32m    155\u001b[0m             \u001b[0;32mfor\u001b[0m \u001b[0mi\u001b[0m \u001b[0;32min\u001b[0m \u001b[0mrange\u001b[0m\u001b[0;34m(\u001b[0m\u001b[0;36m0\u001b[0m\u001b[0;34m,\u001b[0m \u001b[0mself\u001b[0m\u001b[0;34m.\u001b[0m\u001b[0my_true\u001b[0m\u001b[0;34m.\u001b[0m\u001b[0mshape\u001b[0m\u001b[0;34m[\u001b[0m\u001b[0;36m0\u001b[0m\u001b[0;34m]\u001b[0m\u001b[0;34m,\u001b[0m \u001b[0mslice_size\u001b[0m\u001b[0;34m)\u001b[0m\u001b[0;34m:\u001b[0m\u001b[0;34m\u001b[0m\u001b[0;34m\u001b[0m\u001b[0m\n\u001b[1;32m    156\u001b[0m                 cm_slice = ((self.pred_class[i:i+slice_size]==x[:,None])\n\u001b[0;32m--> 157\u001b[0;31m                             & (self.y_true[i:i+slice_size]==x[:,None,None])).sum(2)\n\u001b[0m\u001b[1;32m    158\u001b[0m                 \u001b[0mtorch\u001b[0m\u001b[0;34m.\u001b[0m\u001b[0madd\u001b[0m\u001b[0;34m(\u001b[0m\u001b[0mcm\u001b[0m\u001b[0;34m,\u001b[0m \u001b[0mcm_slice\u001b[0m\u001b[0;34m,\u001b[0m \u001b[0mout\u001b[0m\u001b[0;34m=\u001b[0m\u001b[0mcm\u001b[0m\u001b[0;34m)\u001b[0m\u001b[0;34m\u001b[0m\u001b[0;34m\u001b[0m\u001b[0m\n\u001b[1;32m    159\u001b[0m         \u001b[0;32mreturn\u001b[0m \u001b[0mto_np\u001b[0m\u001b[0;34m(\u001b[0m\u001b[0mcm\u001b[0m\u001b[0;34m)\u001b[0m\u001b[0;34m\u001b[0m\u001b[0;34m\u001b[0m\u001b[0m\n",
      "\u001b[0;31mKeyboardInterrupt\u001b[0m: "
     ]
    }
   ],
   "source": [
    "interp.most_confused(min_val=2)"
   ]
  },
  {
   "cell_type": "markdown",
   "metadata": {},
   "source": [
    "## Unfreezing, fine-tuning, and learning rates"
   ]
  },
  {
   "cell_type": "markdown",
   "metadata": {},
   "source": [
    "Since our model is working as we expect it to, we will *unfreeze* our model and train some more."
   ]
  },
  {
   "cell_type": "code",
   "execution_count": 18,
   "metadata": {},
   "outputs": [],
   "source": [
    "learn.unfreeze()"
   ]
  },
  {
   "cell_type": "code",
   "execution_count": null,
   "metadata": {},
   "outputs": [],
   "source": [
    "learn.fit_one_cycle(1)"
   ]
  },
  {
   "cell_type": "code",
   "execution_count": null,
   "metadata": {},
   "outputs": [],
   "source": [
    "learn.load('stage-1');"
   ]
  },
  {
   "cell_type": "code",
   "execution_count": 19,
   "metadata": {},
   "outputs": [
    {
     "data": {
      "text/html": [],
      "text/plain": [
       "<IPython.core.display.HTML object>"
      ]
     },
     "metadata": {},
     "output_type": "display_data"
    },
    {
     "name": "stdout",
     "output_type": "stream",
     "text": [
      "LR Finder is complete, type {learner_name}.recorder.plot() to see the graph.\n"
     ]
    }
   ],
   "source": [
    "learn.lr_find()"
   ]
  },
  {
   "cell_type": "code",
   "execution_count": 29,
   "metadata": {},
   "outputs": [
    {
     "name": "stdout",
     "output_type": "stream",
     "text": [
      "Min numerical gradient: 4.00E-05\n"
     ]
    },
    {
     "data": {
      "image/png": "[encoded data removed]",
      "text/plain": [
       "<Figure size 432x288 with 1 Axes>"
      ]
     },
     "metadata": {
      "needs_background": "light"
     },
     "output_type": "display_data"
    }
   ],
   "source": [
    "learn.recorder.plot(suggestion=True)"
   ]
  },
  {
   "cell_type": "code",
   "execution_count": 24,
   "metadata": {},
   "outputs": [
    {
     "data": {
      "text/html": [
       "<table border=\"1\" class=\"dataframe\">\n",
       "  <thead>\n",
       "    <tr style=\"text-align: left;\">\n",
       "      <th>epoch</th>\n",
       "      <th>train_loss</th>\n",
       "      <th>valid_loss</th>\n",
       "      <th>error_rate</th>\n",
       "      <th>time</th>\n",
       "    </tr>\n",
       "  </thead>\n",
       "  <tbody>\n",
       "    <tr>\n",
       "      <td>0</td>\n",
       "      <td>4.756652</td>\n",
       "      <td>4.020216</td>\n",
       "      <td>0.641194</td>\n",
       "      <td>41:40</td>\n",
       "    </tr>\n",
       "    <tr>\n",
       "      <td>1</td>\n",
       "      <td>4.652628</td>\n",
       "      <td>3.880990</td>\n",
       "      <td>0.629142</td>\n",
       "      <td>41:44</td>\n",
       "    </tr>\n",
       "    <tr>\n",
       "      <td>2</td>\n",
       "      <td>4.644060</td>\n",
       "      <td>3.843672</td>\n",
       "      <td>0.634962</td>\n",
       "      <td>41:39</td>\n",
       "    </tr>\n",
       "    <tr>\n",
       "      <td>3</td>\n",
       "      <td>4.794571</td>\n",
       "      <td>3.887444</td>\n",
       "      <td>0.649289</td>\n",
       "      <td>41:50</td>\n",
       "    </tr>\n",
       "    <tr>\n",
       "      <td>4</td>\n",
       "      <td>4.759430</td>\n",
       "      <td>3.910679</td>\n",
       "      <td>0.652264</td>\n",
       "      <td>41:28</td>\n",
       "    </tr>\n",
       "    <tr>\n",
       "      <td>5</td>\n",
       "      <td>4.634813</td>\n",
       "      <td>3.774528</td>\n",
       "      <td>0.637055</td>\n",
       "      <td>41:32</td>\n",
       "    </tr>\n",
       "    <tr>\n",
       "      <td>6</td>\n",
       "      <td>4.411050</td>\n",
       "      <td>3.646343</td>\n",
       "      <td>0.617024</td>\n",
       "      <td>41:32</td>\n",
       "    </tr>\n",
       "    <tr>\n",
       "      <td>7</td>\n",
       "      <td>4.340672</td>\n",
       "      <td>3.542324</td>\n",
       "      <td>0.603528</td>\n",
       "      <td>41:40</td>\n",
       "    </tr>\n",
       "    <tr>\n",
       "      <td>8</td>\n",
       "      <td>4.217664</td>\n",
       "      <td>3.459237</td>\n",
       "      <td>0.591358</td>\n",
       "      <td>41:52</td>\n",
       "    </tr>\n",
       "    <tr>\n",
       "      <td>9</td>\n",
       "      <td>4.070976</td>\n",
       "      <td>3.369003</td>\n",
       "      <td>0.577222</td>\n",
       "      <td>41:33</td>\n",
       "    </tr>\n",
       "    <tr>\n",
       "      <td>10</td>\n",
       "      <td>3.998363</td>\n",
       "      <td>3.306729</td>\n",
       "      <td>0.567216</td>\n",
       "      <td>41:39</td>\n",
       "    </tr>\n",
       "    <tr>\n",
       "      <td>11</td>\n",
       "      <td>3.848181</td>\n",
       "      <td>3.232652</td>\n",
       "      <td>0.557206</td>\n",
       "      <td>41:38</td>\n",
       "    </tr>\n",
       "    <tr>\n",
       "      <td>12</td>\n",
       "      <td>3.746014</td>\n",
       "      <td>3.152373</td>\n",
       "      <td>0.543098</td>\n",
       "      <td>41:29</td>\n",
       "    </tr>\n",
       "    <tr>\n",
       "      <td>13</td>\n",
       "      <td>3.637218</td>\n",
       "      <td>3.078801</td>\n",
       "      <td>0.530413</td>\n",
       "      <td>41:41</td>\n",
       "    </tr>\n",
       "    <tr>\n",
       "      <td>14</td>\n",
       "      <td>3.452423</td>\n",
       "      <td>3.015882</td>\n",
       "      <td>0.520269</td>\n",
       "      <td>41:49</td>\n",
       "    </tr>\n",
       "    <tr>\n",
       "      <td>15</td>\n",
       "      <td>3.345814</td>\n",
       "      <td>2.962541</td>\n",
       "      <td>0.509187</td>\n",
       "      <td>41:55</td>\n",
       "    </tr>\n",
       "    <tr>\n",
       "      <td>16</td>\n",
       "      <td>3.219882</td>\n",
       "      <td>2.916066</td>\n",
       "      <td>0.497021</td>\n",
       "      <td>42:01</td>\n",
       "    </tr>\n",
       "    <tr>\n",
       "      <td>17</td>\n",
       "      <td>3.106622</td>\n",
       "      <td>2.895079</td>\n",
       "      <td>0.489769</td>\n",
       "      <td>42:23</td>\n",
       "    </tr>\n",
       "    <tr>\n",
       "      <td>18</td>\n",
       "      <td>3.057733</td>\n",
       "      <td>2.887174</td>\n",
       "      <td>0.484356</td>\n",
       "      <td>42:04</td>\n",
       "    </tr>\n",
       "    <tr>\n",
       "      <td>19</td>\n",
       "      <td>2.946774</td>\n",
       "      <td>2.881455</td>\n",
       "      <td>0.484040</td>\n",
       "      <td>42:00</td>\n",
       "    </tr>\n",
       "  </tbody>\n",
       "</table>"
      ],
      "text/plain": [
       "<IPython.core.display.HTML object>"
      ]
     },
     "metadata": {},
     "output_type": "display_data"
    }
   ],
   "source": [
    "learn.unfreeze()\n",
    "learn.fit_one_cycle(20, max_lr=slice(1e-5,1e-3))"
   ]
  },
  {
   "cell_type": "code",
   "execution_count": 25,
   "metadata": {},
   "outputs": [],
   "source": [
    "learn.save('stage-2')"
   ]
  },
  {
   "cell_type": "code",
   "execution_count": 26,
   "metadata": {},
   "outputs": [
    {
     "data": {
      "text/html": [
       "<table border=\"1\" class=\"dataframe\">\n",
       "  <thead>\n",
       "    <tr style=\"text-align: left;\">\n",
       "      <th>epoch</th>\n",
       "      <th>train_loss</th>\n",
       "      <th>valid_loss</th>\n",
       "      <th>error_rate</th>\n",
       "      <th>time</th>\n",
       "    </tr>\n",
       "  </thead>\n",
       "  <tbody>\n",
       "    <tr>\n",
       "      <td>0</td>\n",
       "      <td>4.124119</td>\n",
       "      <td>3.437955</td>\n",
       "      <td>0.586555</td>\n",
       "      <td>41:27</td>\n",
       "    </tr>\n",
       "    <tr>\n",
       "      <td>1</td>\n",
       "      <td>4.189321</td>\n",
       "      <td>3.421077</td>\n",
       "      <td>0.584158</td>\n",
       "      <td>41:24</td>\n",
       "    </tr>\n",
       "    <tr>\n",
       "      <td>2</td>\n",
       "      <td>3.770590</td>\n",
       "      <td>3.154281</td>\n",
       "      <td>0.545274</td>\n",
       "      <td>41:24</td>\n",
       "    </tr>\n",
       "    <tr>\n",
       "      <td>3</td>\n",
       "      <td>3.330736</td>\n",
       "      <td>2.907965</td>\n",
       "      <td>0.500736</td>\n",
       "      <td>41:36</td>\n",
       "    </tr>\n",
       "    <tr>\n",
       "      <td>4</td>\n",
       "      <td>3.093586</td>\n",
       "      <td>2.830433</td>\n",
       "      <td>0.483688</td>\n",
       "      <td>41:37</td>\n",
       "    </tr>\n",
       "  </tbody>\n",
       "</table>"
      ],
      "text/plain": [
       "<IPython.core.display.HTML object>"
      ]
     },
     "metadata": {},
     "output_type": "display_data"
    }
   ],
   "source": [
    "learn.unfreeze()\n",
    "learn.fit_one_cycle(5, max_lr=slice(1e-5,1e-3))"
   ]
  },
  {
   "cell_type": "code",
   "execution_count": 27,
   "metadata": {},
   "outputs": [],
   "source": [
    "learn.save('stage-3')"
   ]
  },
  {
   "cell_type": "code",
   "execution_count": 30,
   "metadata": {},
   "outputs": [
    {
     "data": {
      "text/html": [
       "<table border=\"1\" class=\"dataframe\">\n",
       "  <thead>\n",
       "    <tr style=\"text-align: left;\">\n",
       "      <th>epoch</th>\n",
       "      <th>train_loss</th>\n",
       "      <th>valid_loss</th>\n",
       "      <th>error_rate</th>\n",
       "      <th>time</th>\n",
       "    </tr>\n",
       "  </thead>\n",
       "  <tbody>\n",
       "    <tr>\n",
       "      <td>0</td>\n",
       "      <td>2.961560</td>\n",
       "      <td>2.831459</td>\n",
       "      <td>0.483814</td>\n",
       "      <td>41:34</td>\n",
       "    </tr>\n",
       "    <tr>\n",
       "      <td>1</td>\n",
       "      <td>2.972573</td>\n",
       "      <td>2.824378</td>\n",
       "      <td>0.480760</td>\n",
       "      <td>41:24</td>\n",
       "    </tr>\n",
       "  </tbody>\n",
       "</table>"
      ],
      "text/plain": [
       "<IPython.core.display.HTML object>"
      ]
     },
     "metadata": {},
     "output_type": "display_data"
    }
   ],
   "source": [
    "learn.fit(2, lr=slice(1e-5,1e-5))"
   ]
  },
  {
   "cell_type": "code",
   "execution_count": 31,
   "metadata": {},
   "outputs": [],
   "source": [
    "learn.save('stage-4')"
   ]
  },
  {
   "cell_type": "markdown",
   "metadata": {},
   "source": [
    "# Predict test set"
   ]
  },
  {
   "cell_type": "code",
   "execution_count": 32,
   "metadata": {},
   "outputs": [],
   "source": [
    "#export model and other contains everything we need to deploy our model \n",
    "#(the model, the weights but also some metadata like the classes or the transforms/normalization used).\n",
    "learn.export()\n",
    "\n",
    "#to load it\n",
    "#learn = load_learner(path)\n"
   ]
  },
  {
   "cell_type": "code",
   "execution_count": 36,
   "metadata": {},
   "outputs": [
    {
     "data": {
      "text/plain": [
       "PosixPath('/media/SSD/data_google_landmark_recog_2019/test-256/test')"
      ]
     },
     "execution_count": 36,
     "metadata": {},
     "output_type": "execute_result"
    }
   ],
   "source": [
    "# path to test set\n",
    "path_test = path / 'test-256/test'\n",
    "path_test"
   ]
  },
  {
   "cell_type": "code",
   "execution_count": 52,
   "metadata": {},
   "outputs": [],
   "source": [
    "# load submission\n",
    "submission = pd.read_csv(path / 'recognition_sample_submission.csv', index_col='id')\n"
   ]
  },
  {
   "cell_type": "code",
   "execution_count": 53,
   "metadata": {
    "scrolled": true
   },
   "outputs": [
    {
     "data": {
      "text/html": [],
      "text/plain": [
       "<IPython.core.display.HTML object>"
      ]
     },
     "metadata": {},
     "output_type": "display_data"
    },
    {
     "data": {
      "text/html": [
       "<div>\n",
       "<style scoped>\n",
       "    .dataframe tbody tr th:only-of-type {\n",
       "        vertical-align: middle;\n",
       "    }\n",
       "\n",
       "    .dataframe tbody tr th {\n",
       "        vertical-align: top;\n",
       "    }\n",
       "\n",
       "    .dataframe thead th {\n",
       "        text-align: right;\n",
       "    }\n",
       "</style>\n",
       "<table border=\"1\" class=\"dataframe\">\n",
       "  <thead>\n",
       "    <tr style=\"text-align: right;\">\n",
       "      <th></th>\n",
       "      <th>landmarks</th>\n",
       "    </tr>\n",
       "    <tr>\n",
       "      <th>id</th>\n",
       "      <th></th>\n",
       "    </tr>\n",
       "  </thead>\n",
       "  <tbody>\n",
       "    <tr>\n",
       "      <th>b8a5057fdc51fb0a</th>\n",
       "      <td>115821 0.023227360099554062</td>\n",
       "    </tr>\n",
       "    <tr>\n",
       "      <th>a0ae5b40187f3e6e</th>\n",
       "      <td>60532 0.4344411790370941</td>\n",
       "    </tr>\n",
       "    <tr>\n",
       "      <th>8102cf887daa75b9</th>\n",
       "      <td>136302 0.023837383836507797</td>\n",
       "    </tr>\n",
       "    <tr>\n",
       "      <th>4ecb95f6b5bb1388</th>\n",
       "      <td>131452 0.10918108373880386</td>\n",
       "    </tr>\n",
       "    <tr>\n",
       "      <th>957bbc9b29ad7e6f</th>\n",
       "      <td>46775 0.9098647236824036</td>\n",
       "    </tr>\n",
       "    <tr>\n",
       "      <th>21708d4a4d8c931c</th>\n",
       "      <td>57505 0.05510774627327919</td>\n",
       "    </tr>\n",
       "    <tr>\n",
       "      <th>d2c100037c1d86e6</th>\n",
       "      <td>64042 0.46230411529541016</td>\n",
       "    </tr>\n",
       "    <tr>\n",
       "      <th>a584a76ac65d7fe7</th>\n",
       "      <td>126637 0.12927401065826416</td>\n",
       "    </tr>\n",
       "    <tr>\n",
       "      <th>df538ae06673150c</th>\n",
       "      <td>47207 0.021939314901828766</td>\n",
       "    </tr>\n",
       "    <tr>\n",
       "      <th>8941051ef87f36bf</th>\n",
       "      <td>178193 0.14807164669036865</td>\n",
       "    </tr>\n",
       "    <tr>\n",
       "      <th>7faf3d3b547d6c45</th>\n",
       "      <td></td>\n",
       "    </tr>\n",
       "    <tr>\n",
       "      <th>0506f1d66b9ed0ad</th>\n",
       "      <td>198152 0.007198147475719452</td>\n",
       "    </tr>\n",
       "    <tr>\n",
       "      <th>bfcffa41da41d87c</th>\n",
       "      <td>41505 0.02936433255672455</td>\n",
       "    </tr>\n",
       "    <tr>\n",
       "      <th>c1f3244381ed53e5</th>\n",
       "      <td>34232 0.09979045391082764</td>\n",
       "    </tr>\n",
       "    <tr>\n",
       "      <th>431dfda67c51e5ad</th>\n",
       "      <td>144099 0.08933627605438232</td>\n",
       "    </tr>\n",
       "    <tr>\n",
       "      <th>4c8898c7d816d5f0</th>\n",
       "      <td>84689 0.016607485711574554</td>\n",
       "    </tr>\n",
       "    <tr>\n",
       "      <th>40517621dd39c9c6</th>\n",
       "      <td>179550 0.1149260550737381</td>\n",
       "    </tr>\n",
       "    <tr>\n",
       "      <th>9ce880c5e376e622</th>\n",
       "      <td>157511 0.03481399640440941</td>\n",
       "    </tr>\n",
       "    <tr>\n",
       "      <th>32097c718bf4f324</th>\n",
       "      <td>46500 0.030131926760077477</td>\n",
       "    </tr>\n",
       "    <tr>\n",
       "      <th>6feeb1e433071e35</th>\n",
       "      <td>78863 0.12324310839176178</td>\n",
       "    </tr>\n",
       "  </tbody>\n",
       "</table>\n",
       "</div>"
      ],
      "text/plain": [
       "                                    landmarks\n",
       "id                                           \n",
       "b8a5057fdc51fb0a  115821 0.023227360099554062\n",
       "a0ae5b40187f3e6e     60532 0.4344411790370941\n",
       "8102cf887daa75b9  136302 0.023837383836507797\n",
       "4ecb95f6b5bb1388   131452 0.10918108373880386\n",
       "957bbc9b29ad7e6f     46775 0.9098647236824036\n",
       "21708d4a4d8c931c    57505 0.05510774627327919\n",
       "d2c100037c1d86e6    64042 0.46230411529541016\n",
       "a584a76ac65d7fe7   126637 0.12927401065826416\n",
       "df538ae06673150c   47207 0.021939314901828766\n",
       "8941051ef87f36bf   178193 0.14807164669036865\n",
       "7faf3d3b547d6c45                             \n",
       "0506f1d66b9ed0ad  198152 0.007198147475719452\n",
       "bfcffa41da41d87c    41505 0.02936433255672455\n",
       "c1f3244381ed53e5    34232 0.09979045391082764\n",
       "431dfda67c51e5ad   144099 0.08933627605438232\n",
       "4c8898c7d816d5f0   84689 0.016607485711574554\n",
       "40517621dd39c9c6    179550 0.1149260550737381\n",
       "9ce880c5e376e622   157511 0.03481399640440941\n",
       "32097c718bf4f324   46500 0.030131926760077477\n",
       "6feeb1e433071e35    78863 0.12324310839176178"
      ]
     },
     "execution_count": 53,
     "metadata": {},
     "output_type": "execute_result"
    }
   ],
   "source": [
    "# predict test set\n",
    "#from fastprogress import master_bar, progress_bar\n",
    "\n",
    "for fn in progress_bar(submission.index):\n",
    "    try:\n",
    "        img = open_image(path_test / (fn + '.jpg'))\n",
    "    except:\n",
    "        #print(\"file not found:\"+ fn + '.jpg')\n",
    "        submission.loc[fn]=\"\"\n",
    "    else:\n",
    "        pred_class,pred_idx,outputs = learn.predict(img)\n",
    "        #print(pred_class, pred_idx,outputs[pred_idx])\n",
    "        submission.loc[fn]=str(pred_class)+ \" \"+ str(outputs[pred_idx].item())\n",
    "submission[0:20]\n",
    "    "
   ]
  },
  {
   "cell_type": "code",
   "execution_count": 55,
   "metadata": {},
   "outputs": [],
   "source": [
    "submission.to_csv(path / 'submission1.csv',index=True)"
   ]
  },
  {
   "cell_type": "markdown",
   "metadata": {},
   "source": [
    "https://www.kaggle.com/c/landmark-recognition-2019/discussion/89903#latest-530343\n",
    "\n",
    "Hello everyone,\n",
    "in train data Landmark with Id = 138982 has 10247 images. I looked at some of them and found that they are from rather different places.\n",
    "So i think that images with this Landmark_Id are not associated with any real landmark. "
   ]
  },
  {
   "cell_type": "code",
   "execution_count": 57,
   "metadata": {},
   "outputs": [],
   "source": [
    "#blank out the results to indicate no mandmarl for this id\n",
    "submission.loc[submission['landmarks'].str.contains('138982 '), 'landmarks'] = \"\""
   ]
  },
  {
   "cell_type": "code",
   "execution_count": 58,
   "metadata": {},
   "outputs": [],
   "source": [
    "submission.to_csv(path / 'submission1.1.csv',index=True)"
   ]
  },
  {
   "cell_type": "markdown",
   "metadata": {},
   "source": [
    "## Training: resnet50"
   ]
  },
  {
   "cell_type": "markdown",
   "metadata": {},
   "source": [
    "Now we will train in the same way as before but with one caveat: instead of using resnet34 as our backbone we will use resnet50 (resnet34 is a 34 layer residual network while resnet50 has 50 layers. It will be explained later in the course and you can learn the details in the [resnet paper](https://arxiv.org/pdf/1512.03385.pdf)).\n",
    "\n",
    "Basically, resnet50 usually performs better because it is a deeper network with more parameters. Let's see if we can achieve a higher performance here. To help it along, let's us use larger images too, since that way the network can see more detail. We reduce the batch size a bit since otherwise this larger network will require more GPU memory."
   ]
  },
  {
   "cell_type": "code",
   "execution_count": null,
   "metadata": {},
   "outputs": [],
   "source": [
    "data = ImageDataBunch.from_name_re(path_img, fnames, pat, ds_tfms=get_transforms(),\n",
    "                                   size=299, bs=bs//2).normalize(imagenet_stats)"
   ]
  },
  {
   "cell_type": "code",
   "execution_count": null,
   "metadata": {},
   "outputs": [],
   "source": [
    "learn = cnn_learner(data, models.resnet50, metrics=error_rate)"
   ]
  },
  {
   "cell_type": "code",
   "execution_count": null,
   "metadata": {},
   "outputs": [],
   "source": [
    "learn.lr_find()\n",
    "learn.recorder.plot()"
   ]
  },
  {
   "cell_type": "code",
   "execution_count": null,
   "metadata": {},
   "outputs": [],
   "source": [
    "learn.fit_one_cycle(8)"
   ]
  },
  {
   "cell_type": "code",
   "execution_count": null,
   "metadata": {},
   "outputs": [],
   "source": [
    "learn.save('stage-1-50')"
   ]
  },
  {
   "cell_type": "markdown",
   "metadata": {},
   "source": [
    "It's astonishing that it's possible to recognize pet breeds so accurately! Let's see if full fine-tuning helps:"
   ]
  },
  {
   "cell_type": "code",
   "execution_count": null,
   "metadata": {},
   "outputs": [],
   "source": [
    "learn.unfreeze()\n",
    "learn.fit_one_cycle(3, max_lr=slice(1e-6,1e-4))"
   ]
  },
  {
   "cell_type": "markdown",
   "metadata": {},
   "source": [
    "If it doesn't, you can always go back to your previous model."
   ]
  },
  {
   "cell_type": "code",
   "execution_count": null,
   "metadata": {},
   "outputs": [],
   "source": [
    "learn.load('stage-1-50');"
   ]
  },
  {
   "cell_type": "code",
   "execution_count": null,
   "metadata": {},
   "outputs": [],
   "source": [
    "interp = ClassificationInterpretation.from_learner(learn)"
   ]
  },
  {
   "cell_type": "code",
   "execution_count": null,
   "metadata": {},
   "outputs": [],
   "source": [
    "interp.most_confused(min_val=2)"
   ]
  },
  {
   "cell_type": "markdown",
   "metadata": {},
   "source": [
    "## Other data formats"
   ]
  },
  {
   "cell_type": "code",
   "execution_count": null,
   "metadata": {},
   "outputs": [],
   "source": [
    "path = untar_data(URLs.MNIST_SAMPLE); path"
   ]
  },
  {
   "cell_type": "code",
   "execution_count": null,
   "metadata": {},
   "outputs": [],
   "source": [
    "tfms = get_transforms(do_flip=False)\n",
    "data = ImageDataBunch.from_folder(path, ds_tfms=tfms, size=26)"
   ]
  },
  {
   "cell_type": "code",
   "execution_count": null,
   "metadata": {},
   "outputs": [],
   "source": [
    "data.show_batch(rows=3, figsize=(5,5))"
   ]
  },
  {
   "cell_type": "code",
   "execution_count": null,
   "metadata": {},
   "outputs": [],
   "source": [
    "learn = cnn_learner(data, models.resnet18, metrics=accuracy)\n",
    "learn.fit(2)"
   ]
  },
  {
   "cell_type": "code",
   "execution_count": null,
   "metadata": {},
   "outputs": [],
   "source": [
    "df = pd.read_csv(path/'labels.csv')\n",
    "df.head()"
   ]
  },
  {
   "cell_type": "code",
   "execution_count": null,
   "metadata": {},
   "outputs": [],
   "source": [
    "data = ImageDataBunch.from_csv(path, ds_tfms=tfms, size=28)"
   ]
  },
  {
   "cell_type": "code",
   "execution_count": null,
   "metadata": {},
   "outputs": [],
   "source": [
    "data.show_batch(rows=3, figsize=(5,5))\n",
    "data.classes"
   ]
  },
  {
   "cell_type": "code",
   "execution_count": null,
   "metadata": {},
   "outputs": [],
   "source": [
    "data = ImageDataBunch.from_df(path, df, ds_tfms=tfms, size=24)\n",
    "data.classes"
   ]
  },
  {
   "cell_type": "code",
   "execution_count": null,
   "metadata": {},
   "outputs": [],
   "source": [
    "fn_paths = [path/name for name in df['name']]; fn_paths[:2]"
   ]
  },
  {
   "cell_type": "code",
   "execution_count": null,
   "metadata": {},
   "outputs": [],
   "source": [
    "pat = r\"/(\\d)/\\d+\\.png$\"\n",
    "data = ImageDataBunch.from_name_re(path, fn_paths, pat=pat, ds_tfms=tfms, size=24)\n",
    "data.classes"
   ]
  },
  {
   "cell_type": "code",
   "execution_count": null,
   "metadata": {},
   "outputs": [],
   "source": [
    "data = ImageDataBunch.from_name_func(path, fn_paths, ds_tfms=tfms, size=24,\n",
    "        label_func = lambda x: '3' if '/3/' in str(x) else '7')\n",
    "data.classes"
   ]
  },
  {
   "cell_type": "code",
   "execution_count": null,
   "metadata": {},
   "outputs": [],
   "source": [
    "labels = [('3' if '/3/' in str(x) else '7') for x in fn_paths]\n",
    "labels[:5]"
   ]
  },
  {
   "cell_type": "code",
   "execution_count": null,
   "metadata": {},
   "outputs": [],
   "source": [
    "data = ImageDataBunch.from_lists(path, fn_paths, labels=labels, ds_tfms=tfms, size=24)\n",
    "data.classes"
   ]
  },
  {
   "cell_type": "code",
   "execution_count": null,
   "metadata": {},
   "outputs": [],
   "source": []
  }
 ],
 "metadata": {
  "kernelspec": {
   "display_name": "Python 3",
   "language": "python",
   "name": "python3"
  },
  "language_info": {
   "codemirror_mode": {
    "name": "ipython",
    "version": 3
   },
   "file_extension": ".py",
   "mimetype": "text/x-python",
   "name": "python",
   "nbconvert_exporter": "python",
   "pygments_lexer": "ipython3",
   "version": "3.7.4"
  }
 },
 "nbformat": 4,
 "nbformat_minor": 2
}
