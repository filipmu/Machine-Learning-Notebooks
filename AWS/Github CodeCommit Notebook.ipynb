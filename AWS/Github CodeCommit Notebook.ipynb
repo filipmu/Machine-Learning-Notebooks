{
 "cells": [
  {
   "cell_type": "markdown",
   "metadata": {},
   "source": [
    "# Git CodeCommit Check-in Notebook\n",
    "\n",
    "### Use this notebook to check in notebook files that have been edited.  This notebook contains both a python function or the manual steps that can be used to commit all notebook changes back to the repository\n",
    "\n",
    "\n"
   ]
  },
  {
   "cell_type": "markdown",
   "metadata": {},
   "source": [
    "### Python function that can be used to commit changes.\n",
    "To use:\n",
    "1. confirm we are in the local repository directory - can use `!pwd`\n",
    "2. call `git_push(\"your commit message here\")` to commit all the changes that have been made."
   ]
  },
  {
   "cell_type": "code",
   "execution_count": 1,
   "metadata": {},
   "outputs": [],
   "source": [
    "def git_push(update_message=\"updated\"):\n",
    "    !git add .\n",
    "    !git commit -a -m \"{update_message}\"\n",
    "    !git push\n",
    "    return()\n"
   ]
  },
  {
   "cell_type": "code",
   "execution_count": 2,
   "metadata": {},
   "outputs": [
    {
     "name": "stdout",
     "output_type": "stream",
     "text": [
      "/home/ec2-user/SageMaker/AmazonSageMaker-fmm-notebook-repository\r\n"
     ]
    }
   ],
   "source": [
    "# Check that you are in the local repository directory before using this script\n",
    "!pwd"
   ]
  },
  {
   "cell_type": "markdown",
   "metadata": {},
   "source": [
    "<span style=\"color:red\">**<<<<<<< local**</span>"
   ]
  },
  {
   "cell_type": "code",
   "execution_count": 5,
   "metadata": {},
   "outputs": [
    {
     "name": "stdout",
     "output_type": "stream",
     "text": [
      "[master 010a760] added sensor data converter\n",
      " Committer: EC2 Default User <ec2-user@ip-172-16-47-27.us-east-2.compute.internal>\n",
      "Your name and email address were configured automatically based\n",
      "on your username and hostname. Please check that they are accurate.\n",
      "You can suppress this message by setting them explicitly:\n",
      "\n",
      "    git config --global user.name \"Your Name\"\n",
      "    git config --global user.email you@example.com\n",
      "\n",
      "After doing this, you may fix the identity used for this commit with:\n",
      "\n",
      "    git commit --amend --reset-author\n",
      "\n",
      "Counting objects: 13, done.\n",
      "Delta compression using up to 2 threads.\n",
      "Compressing objects: 100% (13/13), done.\n",
      "Writing objects: 100% (13/13), 3.43 KiB | 3.43 MiB/s, done.\n",
      "Total 13 (delta 11), reused 0 (delta 0)\n",
      "To https://git-codecommit.us-east-2.amazonaws.com/v1/repos/AmazonSageMaker-fmm-notebook-repository\n",
      "   4c530f4..010a760  master -> master\n"
     ]
    },
    {
     "data": {
      "text/plain": [
       "()"
      ]
     },
     "execution_count": 5,
     "metadata": {},
     "output_type": "execute_result"
    }
   ],
   "source": [
    "git_push(\"added sensor data converter\")"
   ]
  },
  {
   "cell_type": "markdown",
   "metadata": {},
   "source": [
    "<span style=\"color:red\">**=======**</span>"
   ]
  },
  {
   "cell_type": "code",
   "execution_count": 3,
   "metadata": {},
   "outputs": [
    {
     "name": "stdout",
     "output_type": "stream",
     "text": [
      "[master 6f97ae6] code to convert sensor data\n",
      " Committer: EC2 Default User <ec2-user@ip-172-16-27-98.us-east-2.compute.internal>\n",
      "Your name and email address were configured automatically based\n",
      "on your username and hostname. Please check that they are accurate.\n",
      "You can suppress this message by setting them explicitly:\n",
      "\n",
      "    git config --global user.name \"Your Name\"\n",
      "    git config --global user.email you@example.com\n",
      "\n",
      "After doing this, you may fix the identity used for this commit with:\n",
      "\n",
      "    git commit --amend --reset-author\n",
      "\n",
      " 3 files changed, 4103 insertions(+), 29 deletions(-)\n",
      "Counting objects: 6, done.\n",
      "Delta compression using up to 4 threads.\n",
      "Compressing objects: 100% (6/6), done.\n",
      "Writing objects: 100% (6/6), 14.26 KiB | 7.13 MiB/s, done.\n",
      "Total 6 (delta 4), reused 0 (delta 0)\n",
      "To https://git-codecommit.us-east-2.amazonaws.com/v1/repos/AmazonSageMaker-fmm-notebook-repository\n",
      "   010a760..6f97ae6  master -> master\n"
     ]
    },
    {
     "data": {
      "text/plain": [
       "()"
      ]
     },
     "execution_count": 3,
     "metadata": {},
     "output_type": "execute_result"
    }
   ],
   "source": [
    "git_push(\"code to convert sensor data\")"
   ]
  },
  {
   "cell_type": "markdown",
   "metadata": {},
   "source": [
    "<span style=\"color:red\">**>>>>>>> remote**</span>"
   ]
  },
  {
   "cell_type": "markdown",
   "metadata": {},
   "source": [
    "### Manual Steps to commit to CodeCommit"
   ]
  },
  {
   "cell_type": "code",
   "execution_count": 1,
   "metadata": {},
   "outputs": [
    {
     "name": "stdout",
     "output_type": "stream",
     "text": [
      "/home/ec2-user/SageMaker/AmazonSageMaker-fmm-notebook-repository\r\n"
     ]
    }
   ],
   "source": [
    "# Check that you are in the local repository directory before using this script\n",
    "!pwd"
   ]
  },
  {
   "cell_type": "code",
   "execution_count": 2,
   "metadata": {},
   "outputs": [],
   "source": [
    "# add all untracked files\n",
    "!git add ."
   ]
  },
  {
   "cell_type": "code",
   "execution_count": 3,
   "metadata": {},
   "outputs": [
    {
     "name": "stdout",
     "output_type": "stream",
     "text": [
      "[master 217c677] update\n",
      " Committer: EC2 Default User <ec2-user@ip-10-10-29-212.us-east-2.compute.internal>\n",
      "Your name and email address were configured automatically based\n",
      "on your username and hostname. Please check that they are accurate.\n",
      "You can suppress this message by setting them explicitly:\n",
      "\n",
      "    git config --global user.name \"Your Name\"\n",
      "    git config --global user.email you@example.com\n",
      "\n",
      "After doing this, you may fix the identity used for this commit with:\n",
      "\n",
      "    git commit --amend --reset-author\n",
      "\n",
      " 2 files changed, 786 insertions(+), 106 deletions(-)\n"
     ]
    }
   ],
   "source": [
    "# commit changes locally\n",
    "!git commit -a -m \"update\""
   ]
  },
  {
   "cell_type": "code",
   "execution_count": 4,
   "metadata": {},
   "outputs": [
    {
     "name": "stdout",
     "output_type": "stream",
     "text": [
      "Counting objects: 4, done.\n",
      "Delta compression using up to 2 threads.\n",
      "Compressing objects: 100% (4/4), done.\n",
      "Writing objects: 100% (4/4), 154.25 KiB | 5.93 MiB/s, done.\n",
      "Total 4 (delta 3), reused 0 (delta 0)\n",
      "To https://git-codecommit.us-east-2.amazonaws.com/v1/repos/AmazonSageMaker-fmm-notebook-repository\n",
      "   045d530..217c677  master -> master\n"
     ]
    }
   ],
   "source": [
    "# push to the CodeCommit repository\n",
    "!git push"
   ]
  },
  {
   "cell_type": "code",
   "execution_count": 4,
   "metadata": {},
   "outputs": [
    {
     "name": "stdout",
     "output_type": "stream",
     "text": [
      "[I nbmergeapp:70] Merge result written to .merge_file_dL2NJv\n",
      "Auto-merging NanoLambda/cameralambda.py\n",
      "CONFLICT (add/add): Merge conflict in NanoLambda/cameralambda.py\n",
      "Auto-merging NanoLambda/Notebook script.ipynb\n",
      "Automatic merge failed; fix conflicts and then commit the result.\n"
     ]
    }
   ],
   "source": [
    "! git pull"
   ]
  },
  {
   "cell_type": "code",
   "execution_count": null,
   "metadata": {},
   "outputs": [],
   "source": []
  }
 ],
 "metadata": {
  "kernelspec": {
   "display_name": "conda_python3",
   "language": "python",
   "name": "conda_python3"
  },
  "language_info": {
   "codemirror_mode": {
    "name": "ipython",
    "version": 3
   },
   "file_extension": ".py",
   "mimetype": "text/x-python",
   "name": "python",
   "nbconvert_exporter": "python",
   "pygments_lexer": "ipython3",
   "version": "3.6.5"
  }
 },
 "nbformat": 4,
 "nbformat_minor": 2
}
