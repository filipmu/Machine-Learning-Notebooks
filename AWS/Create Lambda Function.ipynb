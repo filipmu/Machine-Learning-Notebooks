{
 "cells": [
  {
   "cell_type": "markdown",
   "metadata": {},
   "source": [
    "# Notebook to set up Lambda function via BOTO3\n",
    "\n",
    "This is a work in progress.  It should be possible to create a virtual env and then deploy to lambda using chalice.  Stumbling block is that the notebook does not have internet access so all libraries need to be pulled from S3.  Easier to do on a local machine"
   ]
  },
  {
   "cell_type": "code",
   "execution_count": 1,
   "metadata": {},
   "outputs": [],
   "source": [
    "import boto3"
   ]
  },
  {
   "cell_type": "code",
   "execution_count": 2,
   "metadata": {},
   "outputs": [],
   "source": [
    "s3 = boto3.resource('s3')\n",
    "mybucket = s3.Bucket('fmm-sagemaker-12-31-19/python-install-packages')"
   ]
  },
  {
   "cell_type": "code",
   "execution_count": 3,
   "metadata": {},
   "outputs": [
    {
     "name": "stdout",
     "output_type": "stream",
     "text": [
      "cf-templates-18jfww1evdni9-us-east-1\n",
      "config-bucket-827872114900\n",
      "ehv-swsh\n",
      "ev-test1\n",
      "fmm-example-client-bucket\n",
      "fmm-sagemaker-12-31-19\n",
      "pdi-s3-bucket-access-log\n",
      "pdi-vpc-flowlogs\n",
      "phv-process-data-insights-general-audit-cloudtrail\n"
     ]
    }
   ],
   "source": [
    "for bucket in s3.buckets.all():\n",
    "    print(bucket.name)\n"
   ]
  },
  {
   "cell_type": "code",
   "execution_count": 36,
   "metadata": {},
   "outputs": [
    {
     "name": "stdout",
     "output_type": "stream",
     "text": [
      "python-install-packages/attrs-19.3.0-py2.py3-none-any.whl\n",
      "python-install-packages/chalice-1.14.0-py2.py3-none-any.whl\n",
      "python-install-packages/enum_compat-0.0.3-py3-none-any.whl\n",
      "python-install-packages/fastai-1.0.60-py3-none-any.whl\n",
      "python-install-packages/opencv_python-4.2.0.34-cp36-cp36m-manylinux1_x86_64.whl\n",
      "python-install-packages/tqdm-4.42.1-py2.py3-none-any.whl\n",
      "python-install-packages/xgboost-0.90-py2.py3-none-manylinux1_x86_64.whl\n"
     ]
    }
   ],
   "source": [
    "s3c = boto3.client('s3')\n",
    "blist = s3c.list_objects_v2(Bucket='fmm-sagemaker-12-31-19', Prefix='python-install-packages/')['Contents']\n",
    "for it  in blist[1:]:\n",
    "    print(it['Key'])"
   ]
  },
  {
   "cell_type": "code",
   "execution_count": 33,
   "metadata": {},
   "outputs": [
    {
     "name": "stdout",
     "output_type": "stream",
     "text": [
      "python-install-packages/attrs-19.3.0-py2.py3-none-any.whl\n",
      "python-install-packages/chalice-1.14.0-py2.py3-none-any.whl\n",
      "python-install-packages/enum_compat-0.0.3-py3-none-any.whl\n",
      "python-install-packages/fastai-1.0.60-py3-none-any.whl\n",
      "python-install-packages/opencv_python-4.2.0.34-cp36-cp36m-manylinux1_x86_64.whl\n",
      "python-install-packages/tqdm-4.42.1-py2.py3-none-any.whl\n",
      "python-install-packages/xgboost-0.90-py2.py3-none-manylinux1_x86_64.whl\n"
     ]
    }
   ],
   "source": []
  },
  {
   "cell_type": "code",
   "execution_count": 19,
   "metadata": {},
   "outputs": [],
   "source": [
    "import boto3\n",
    "import pkginfo\n",
    "def install(package_whl):\n",
    "    bucket = 'fmm-sagemaker-12-31-19' # put your s3 bucket name here\n",
    "    package_folder = 'python-install-packages/'\n",
    "    #package_whl = \"chalice-1.14.0-py2.py3-none-any.whl\"\n",
    "    #pull from s3\n",
    "    print(\"Downloading \", package_whl, \" from:\")\n",
    "    print(\"s3://\",bucket,'/',package_folder+package_whl)\n",
    "    s3 = boto3.client('s3').download_file(bucket,package_folder+package_whl,package_whl)\n",
    "\n",
    "    metadata = pkginfo.get_metadata(package_whl)\n",
    "    print(\"\\n\\nDependencies Needed:\")\n",
    "    print('\\n'.join(metadata.requires_dist))\n",
    "    print(\"\\n\\nRunning pip\\n\\n\")\n",
    "    #Install xgboost on the jupyter server to run locally too\n",
    "    !pip install {package_whl}\n",
    "    print(\"\\n\\nDeleting package wheel from local server\\n\\n\")\n",
    "    !rm {package_whl}\n",
    "\n"
   ]
  },
  {
   "cell_type": "code",
   "execution_count": 20,
   "metadata": {},
   "outputs": [
    {
     "name": "stdout",
     "output_type": "stream",
     "text": [
      "Downloading  enum_compat-0.0.3-py3-none-any.whl  from:\n",
      "s3:// fmm-sagemaker-12-31-19 / python-install-packages/enum_compat-0.0.3-py3-none-any.whl\n",
      "\n",
      "\n",
      "Dependencies Needed:\n",
      "enum34; python_version < \"3.4\"\n",
      "\n",
      "\n",
      "Running pip\n",
      "\n",
      "\n",
      "Requirement already satisfied: enum-compat==0.0.3 from file:///home/ec2-user/SageMaker/AmazonSageMaker-fmm-notebook-repository/enum_compat-0.0.3-py3-none-any.whl in /home/ec2-user/anaconda3/envs/python3/lib/python3.6/site-packages (0.0.3)\n",
      "\n",
      "\n",
      "Deleting package wheel from local server\n",
      "\n",
      "\n",
      "Downloading  attrs-19.3.0-py2.py3-none-any.whl  from:\n",
      "s3:// fmm-sagemaker-12-31-19 / python-install-packages/attrs-19.3.0-py2.py3-none-any.whl\n",
      "\n",
      "\n",
      "Dependencies Needed:\n",
      "coverage ; extra == 'azure-pipelines'\n",
      "hypothesis ; extra == 'azure-pipelines'\n",
      "pympler ; extra == 'azure-pipelines'\n",
      "pytest (>=4.3.0) ; extra == 'azure-pipelines'\n",
      "six ; extra == 'azure-pipelines'\n",
      "zope.interface ; extra == 'azure-pipelines'\n",
      "pytest-azurepipelines ; extra == 'azure-pipelines'\n",
      "coverage ; extra == 'dev'\n",
      "hypothesis ; extra == 'dev'\n",
      "pympler ; extra == 'dev'\n",
      "pytest (>=4.3.0) ; extra == 'dev'\n",
      "six ; extra == 'dev'\n",
      "zope.interface ; extra == 'dev'\n",
      "sphinx ; extra == 'dev'\n",
      "pre-commit ; extra == 'dev'\n",
      "sphinx ; extra == 'docs'\n",
      "zope.interface ; extra == 'docs'\n",
      "coverage ; extra == 'tests'\n",
      "hypothesis ; extra == 'tests'\n",
      "pympler ; extra == 'tests'\n",
      "pytest (>=4.3.0) ; extra == 'tests'\n",
      "six ; extra == 'tests'\n",
      "zope.interface ; extra == 'tests'\n",
      "\n",
      "\n",
      "Running pip\n",
      "\n",
      "\n",
      "Requirement already satisfied: attrs==19.3.0 from file:///home/ec2-user/SageMaker/AmazonSageMaker-fmm-notebook-repository/attrs-19.3.0-py2.py3-none-any.whl in /home/ec2-user/anaconda3/envs/python3/lib/python3.6/site-packages (19.3.0)\n",
      "\n",
      "\n",
      "Deleting package wheel from local server\n",
      "\n",
      "\n",
      "Downloading  chalice-1.14.0-py2.py3-none-any.whl  from:\n",
      "s3:// fmm-sagemaker-12-31-19 / python-install-packages/chalice-1.14.0-py2.py3-none-any.whl\n",
      "\n",
      "\n",
      "Dependencies Needed:\n",
      "attrs (>=19.3.0,<20.0.0)\n",
      "botocore (>=1.12.86,<2.0.0)\n",
      "click (>=6.6,<8.0)\n",
      "enum-compat (>=0.0.2)\n",
      "jmespath (>=0.9.3,<1.0.0)\n",
      "pip (>=9,<20.1)\n",
      "setuptools\n",
      "six (>=1.10.0,<2.0.0)\n",
      "wheel\n",
      "typing (==3.6.4); python_version < \"3.7\"\n",
      "watchdog (==0.9.0); extra == 'event-file-poller'\n",
      "\n",
      "\n",
      "Running pip\n",
      "\n",
      "\n",
      "Requirement already satisfied: chalice==1.14.0 from file:///home/ec2-user/SageMaker/AmazonSageMaker-fmm-notebook-repository/chalice-1.14.0-py2.py3-none-any.whl in /home/ec2-user/anaconda3/envs/python3/lib/python3.6/site-packages (1.14.0)\n",
      "Requirement already satisfied: setuptools in /home/ec2-user/anaconda3/envs/python3/lib/python3.6/site-packages (from chalice==1.14.0) (39.1.0)\n",
      "Requirement already satisfied: wheel in /home/ec2-user/anaconda3/envs/python3/lib/python3.6/site-packages (from chalice==1.14.0) (0.31.1)\n",
      "Requirement already satisfied: six<2.0.0,>=1.10.0 in /home/ec2-user/anaconda3/envs/python3/lib/python3.6/site-packages (from chalice==1.14.0) (1.11.0)\n",
      "Requirement already satisfied: enum-compat>=0.0.2 in /home/ec2-user/anaconda3/envs/python3/lib/python3.6/site-packages (from chalice==1.14.0) (0.0.3)\n",
      "Requirement already satisfied: typing==3.6.4; python_version < \"3.7\" in /home/ec2-user/anaconda3/envs/python3/lib/python3.6/site-packages (from chalice==1.14.0) (3.6.4)\n",
      "Requirement already satisfied: attrs<20.0.0,>=19.3.0 in /home/ec2-user/anaconda3/envs/python3/lib/python3.6/site-packages (from chalice==1.14.0) (19.3.0)\n",
      "Requirement already satisfied: jmespath<1.0.0,>=0.9.3 in /home/ec2-user/anaconda3/envs/python3/lib/python3.6/site-packages (from chalice==1.14.0) (0.9.4)\n",
      "Requirement already satisfied: pip<20.1,>=9 in /home/ec2-user/anaconda3/envs/python3/lib/python3.6/site-packages (from chalice==1.14.0) (10.0.1)\n",
      "Requirement already satisfied: click<8.0,>=6.6 in /home/ec2-user/anaconda3/envs/python3/lib/python3.6/site-packages (from chalice==1.14.0) (6.7)\n",
      "Requirement already satisfied: botocore<2.0.0,>=1.12.86 in /home/ec2-user/anaconda3/envs/python3/lib/python3.6/site-packages (from chalice==1.14.0) (1.15.47)\n",
      "Requirement already satisfied: urllib3<1.26,>=1.20; python_version != \"3.4\" in /home/ec2-user/anaconda3/envs/python3/lib/python3.6/site-packages (from botocore<2.0.0,>=1.12.86->chalice==1.14.0) (1.23)\n",
      "Requirement already satisfied: docutils<0.16,>=0.10 in /home/ec2-user/anaconda3/envs/python3/lib/python3.6/site-packages (from botocore<2.0.0,>=1.12.86->chalice==1.14.0) (0.14)\n",
      "Requirement already satisfied: python-dateutil<3.0.0,>=2.1 in /home/ec2-user/anaconda3/envs/python3/lib/python3.6/site-packages (from botocore<2.0.0,>=1.12.86->chalice==1.14.0) (2.7.3)\n",
      "\n",
      "\n",
      "Deleting package wheel from local server\n",
      "\n",
      "\n"
     ]
    }
   ],
   "source": [
    "install(\"enum_compat-0.0.3-py3-none-any.whl\")\n",
    "install(\"attrs-19.3.0-py2.py3-none-any.whl\")\n",
    "install(\"chalice-1.14.0-py2.py3-none-any.whl\")\n",
    "\n"
   ]
  },
  {
   "cell_type": "code",
   "execution_count": 8,
   "metadata": {},
   "outputs": [],
   "source": [
    "import chalice"
   ]
  },
  {
   "cell_type": "code",
   "execution_count": 22,
   "metadata": {},
   "outputs": [
    {
     "name": "stdout",
     "output_type": "stream",
     "text": [
      "Writing requirements-lambda.txt\n"
     ]
    }
   ],
   "source": [
    "%%writefile requirements-lambda.txt\n",
    "chalice\n",
    "numpy"
   ]
  },
  {
   "cell_type": "code",
   "execution_count": 54,
   "metadata": {},
   "outputs": [
    {
     "name": "stdout",
     "output_type": "stream",
     "text": [
      "/home/ec2-user/SageMaker/AmazonSageMaker-fmm-notebook-repository\r\n"
     ]
    }
   ],
   "source": [
    "!pwd"
   ]
  },
  {
   "cell_type": "code",
   "execution_count": 49,
   "metadata": {},
   "outputs": [],
   "source": [
    "!rm -fr '/home/ec2-user/SageMaker/env_lambda'"
   ]
  },
  {
   "cell_type": "code",
   "execution_count": 50,
   "metadata": {},
   "outputs": [],
   "source": [
    "!python3.6 -m venv '/home/ec2-user/SageMaker/env_lambda'"
   ]
  },
  {
   "cell_type": "code",
   "execution_count": 52,
   "metadata": {},
   "outputs": [],
   "source": [
    "bucket = 'fmm-sagemaker-12-31-19'\n",
    "package_folder = 'python-install-packages/'\n",
    "\n",
    "package_whl = \"enum_compat-0.0.3-py3-none-any.whl\"\n",
    "s3 = boto3.client('s3').download_file(bucket,package_folder+package_whl,package_whl)\n",
    "\n",
    "package_whl = \"attrs-19.3.0-py2.py3-none-any.whl\"\n",
    "s3 = boto3.client('s3').download_file(bucket,package_folder+package_whl,package_whl)\n",
    "\n",
    "package_whl = \"chalice-1.14.0-py2.py3-none-any.whl\"\n",
    "s3 = boto3.client('s3').download_file(bucket,package_folder+package_whl,package_whl)\n"
   ]
  },
  {
   "cell_type": "code",
   "execution_count": 53,
   "metadata": {},
   "outputs": [
    {
     "name": "stdout",
     "output_type": "stream",
     "text": [
      "Processing ./enum_compat-0.0.3-py3-none-any.whl\n",
      "Processing ./attrs-19.3.0-py2.py3-none-any.whl\n",
      "Processing ./chalice-1.14.0-py2.py3-none-any.whl\n",
      "Collecting typing==3.6.4; python_version < \"3.7\" (from chalice==1.14.0)\n",
      "\u001b[33m  Retrying (Retry(total=4, connect=None, read=None, redirect=None, status=None)) after connection broken by 'NewConnectionError('<pip._vendor.urllib3.connection.VerifiedHTTPSConnection object at 0x7f8d359b0dd8>: Failed to establish a new connection: [Errno 101] Network is unreachable',)': /simple/typing/\u001b[0m\n",
      "\u001b[33m  Retrying (Retry(total=3, connect=None, read=None, redirect=None, status=None)) after connection broken by 'NewConnectionError('<pip._vendor.urllib3.connection.VerifiedHTTPSConnection object at 0x7f8d359b0cc0>: Failed to establish a new connection: [Errno 101] Network is unreachable',)': /simple/typing/\u001b[0m\n",
      "\u001b[33m  Retrying (Retry(total=2, connect=None, read=None, redirect=None, status=None)) after connection broken by 'NewConnectionError('<pip._vendor.urllib3.connection.VerifiedHTTPSConnection object at 0x7f8d359b0400>: Failed to establish a new connection: [Errno 101] Network is unreachable',)': /simple/typing/\u001b[0m\n",
      "\u001b[33m  Retrying (Retry(total=1, connect=None, read=None, redirect=None, status=None)) after connection broken by 'NewConnectionError('<pip._vendor.urllib3.connection.VerifiedHTTPSConnection object at 0x7f8d359b0b00>: Failed to establish a new connection: [Errno 101] Network is unreachable',)': /simple/typing/\u001b[0m\n",
      "\u001b[33m  Retrying (Retry(total=0, connect=None, read=None, redirect=None, status=None)) after connection broken by 'NewConnectionError('<pip._vendor.urllib3.connection.VerifiedHTTPSConnection object at 0x7f8d359b0d30>: Failed to establish a new connection: [Errno 101] Network is unreachable',)': /simple/typing/\u001b[0m\n",
      "\u001b[31m  Could not find a version that satisfies the requirement typing==3.6.4; python_version < \"3.7\" (from chalice==1.14.0) (from versions: )\u001b[0m\n",
      "\u001b[31mNo matching distribution found for typing==3.6.4; python_version < \"3.7\" (from chalice==1.14.0)\u001b[0m\n"
     ]
    }
   ],
   "source": [
    "\n",
    "!/home/ec2-user/SageMaker/env_lambda/bin/pip install \"enum_compat-0.0.3-py3-none-any.whl\" \"attrs-19.3.0-py2.py3-none-any.whl\" \"chalice-1.14.0-py2.py3-none-any.whl\""
   ]
  },
  {
   "cell_type": "code",
   "execution_count": 62,
   "metadata": {},
   "outputs": [
    {
     "name": "stdout",
     "output_type": "stream",
     "text": [
      "\r\n",
      "\r\n",
      "   ___  _  _    _    _     ___  ___  ___\r\n",
      "  / __|| || |  /_\\  | |   |_ _|/ __|| __|\r\n",
      " | (__ | __ | / _ \\ | |__  | || (__ | _|\r\n",
      "  \\___||_||_|/_/ \\_\\|____||___|\\___||___|\r\n",
      "\r\n",
      "\r\n",
      "The python serverless microframework for AWS allows\r\n",
      "you to quickly create and deploy applications using\r\n",
      "Amazon API Gateway and AWS Lambda.\r\n",
      "\r\n",
      "Please enter the project name: "
     ]
    }
   ],
   "source": [
    "!echo test_project | chalice new-project"
   ]
  },
  {
   "cell_type": "code",
   "execution_count": 65,
   "metadata": {},
   "outputs": [
    {
     "name": "stdout",
     "output_type": "stream",
     "text": [
      "Creating deployment package.\n",
      "Traceback (most recent call last):\n",
      "  File \"/home/ec2-user/anaconda3/envs/python3/lib/python3.6/site-packages/urllib3/connection.py\", line 171, in _new_conn\n",
      "    (self._dns_host, self.port), self.timeout, **extra_kw)\n",
      "  File \"/home/ec2-user/anaconda3/envs/python3/lib/python3.6/site-packages/urllib3/util/connection.py\", line 79, in create_connection\n",
      "    raise err\n",
      "  File \"/home/ec2-user/anaconda3/envs/python3/lib/python3.6/site-packages/urllib3/util/connection.py\", line 69, in create_connection\n",
      "    sock.connect(sa)\n",
      "socket.timeout: timed out\n",
      "\n",
      "During handling of the above exception, another exception occurred:\n",
      "\n",
      "Traceback (most recent call last):\n",
      "  File \"/home/ec2-user/anaconda3/envs/python3/lib/python3.6/site-packages/botocore/httpsession.py\", line 263, in send\n",
      "    chunked=self._chunked(request.headers),\n",
      "  File \"/home/ec2-user/anaconda3/envs/python3/lib/python3.6/site-packages/urllib3/connectionpool.py\", line 638, in urlopen\n",
      "    _stacktrace=sys.exc_info()[2])\n",
      "  File \"/home/ec2-user/anaconda3/envs/python3/lib/python3.6/site-packages/urllib3/util/retry.py\", line 343, in increment\n",
      "    raise six.reraise(type(error), error, _stacktrace)\n",
      "  File \"/home/ec2-user/anaconda3/envs/python3/lib/python3.6/site-packages/urllib3/packages/six.py\", line 686, in reraise\n",
      "    raise value\n",
      "  File \"/home/ec2-user/anaconda3/envs/python3/lib/python3.6/site-packages/urllib3/connectionpool.py\", line 600, in urlopen\n",
      "    chunked=chunked)\n",
      "  File \"/home/ec2-user/anaconda3/envs/python3/lib/python3.6/site-packages/urllib3/connectionpool.py\", line 343, in _make_request\n",
      "    self._validate_conn(conn)\n",
      "  File \"/home/ec2-user/anaconda3/envs/python3/lib/python3.6/site-packages/urllib3/connectionpool.py\", line 849, in _validate_conn\n",
      "    conn.connect()\n",
      "  File \"/home/ec2-user/anaconda3/envs/python3/lib/python3.6/site-packages/urllib3/connection.py\", line 314, in connect\n",
      "    conn = self._new_conn()\n",
      "  File \"/home/ec2-user/anaconda3/envs/python3/lib/python3.6/site-packages/urllib3/connection.py\", line 176, in _new_conn\n",
      "    (self.host, self.timeout))\n",
      "urllib3.exceptions.ConnectTimeoutError: (<botocore.awsrequest.AWSHTTPSConnection object at 0x7f1df0628438>, 'Connection to iam.amazonaws.com timed out. (connect timeout=60)')\n",
      "\n",
      "During handling of the above exception, another exception occurred:\n",
      "\n",
      "Traceback (most recent call last):\n",
      "  File \"/home/ec2-user/anaconda3/envs/python3/lib/python3.6/site-packages/chalice/cli/__init__.py\", line 599, in main\n",
      "    return cli(obj={})\n",
      "  File \"/home/ec2-user/anaconda3/envs/python3/lib/python3.6/site-packages/click/core.py\", line 722, in __call__\n",
      "    return self.main(*args, **kwargs)\n",
      "  File \"/home/ec2-user/anaconda3/envs/python3/lib/python3.6/site-packages/click/core.py\", line 697, in main\n",
      "    rv = self.invoke(ctx)\n",
      "  File \"/home/ec2-user/anaconda3/envs/python3/lib/python3.6/site-packages/click/core.py\", line 1066, in invoke\n",
      "    return _process_result(sub_ctx.command.invoke(sub_ctx))\n",
      "  File \"/home/ec2-user/anaconda3/envs/python3/lib/python3.6/site-packages/click/core.py\", line 895, in invoke\n",
      "    return ctx.invoke(self.callback, **ctx.params)\n",
      "  File \"/home/ec2-user/anaconda3/envs/python3/lib/python3.6/site-packages/click/core.py\", line 535, in invoke\n",
      "    return callback(*args, **kwargs)\n",
      "  File \"/home/ec2-user/anaconda3/envs/python3/lib/python3.6/site-packages/click/decorators.py\", line 17, in new_func\n",
      "    return f(get_current_context(), *args, **kwargs)\n",
      "  File \"/home/ec2-user/anaconda3/envs/python3/lib/python3.6/site-packages/chalice/cli/__init__.py\", line 206, in deploy\n",
      "    deployed_values = d.deploy(config, chalice_stage_name=stage)\n",
      "  File \"/home/ec2-user/anaconda3/envs/python3/lib/python3.6/site-packages/chalice/deploy/deployer.py\", line 353, in deploy\n",
      "    return self._deploy(config, chalice_stage_name)\n",
      "  File \"/home/ec2-user/anaconda3/envs/python3/lib/python3.6/site-packages/chalice/deploy/deployer.py\", line 364, in _deploy\n",
      "    plan = self._plan_stage.execute(resources)\n",
      "  File \"/home/ec2-user/anaconda3/envs/python3/lib/python3.6/site-packages/chalice/deploy/planner.py\", line 139, in execute\n",
      "    result = handler(resource)\n",
      "  File \"/home/ec2-user/anaconda3/envs/python3/lib/python3.6/site-packages/chalice/deploy/planner.py\", line 265, in _plan_managediamrole\n",
      "    role_exists = self._remote_state.resource_exists(resource)\n",
      "  File \"/home/ec2-user/anaconda3/envs/python3/lib/python3.6/site-packages/chalice/deploy/planner.py\", line 61, in resource_exists\n",
      "    result = handler(resource)\n",
      "  File \"/home/ec2-user/anaconda3/envs/python3/lib/python3.6/site-packages/chalice/deploy/planner.py\", line 99, in _resource_exists_managediamrole\n",
      "    self._client.get_role_arn_for_name(resource.role_name)\n",
      "  File \"/home/ec2-user/anaconda3/envs/python3/lib/python3.6/site-packages/chalice/awsclient.py\", line 383, in get_role_arn_for_name\n",
      "    role = self.get_role(name)\n",
      "  File \"/home/ec2-user/anaconda3/envs/python3/lib/python3.6/site-packages/chalice/awsclient.py\", line 390, in get_role\n",
      "    role = client.get_role(RoleName=name)\n",
      "  File \"/home/ec2-user/anaconda3/envs/python3/lib/python3.6/site-packages/botocore/client.py\", line 316, in _api_call\n",
      "    return self._make_api_call(operation_name, kwargs)\n",
      "  File \"/home/ec2-user/anaconda3/envs/python3/lib/python3.6/site-packages/botocore/client.py\", line 613, in _make_api_call\n",
      "    operation_model, request_dict, request_context)\n",
      "  File \"/home/ec2-user/anaconda3/envs/python3/lib/python3.6/site-packages/botocore/client.py\", line 632, in _make_request\n",
      "    return self._endpoint.make_request(operation_model, request_dict)\n",
      "  File \"/home/ec2-user/anaconda3/envs/python3/lib/python3.6/site-packages/botocore/endpoint.py\", line 102, in make_request\n",
      "    return self._send_request(request_dict, operation_model)\n",
      "  File \"/home/ec2-user/anaconda3/envs/python3/lib/python3.6/site-packages/botocore/endpoint.py\", line 137, in _send_request\n",
      "    success_response, exception):\n",
      "  File \"/home/ec2-user/anaconda3/envs/python3/lib/python3.6/site-packages/botocore/endpoint.py\", line 231, in _needs_retry\n",
      "    caught_exception=caught_exception, request_dict=request_dict)\n",
      "  File \"/home/ec2-user/anaconda3/envs/python3/lib/python3.6/site-packages/botocore/hooks.py\", line 356, in emit\n",
      "    return self._emitter.emit(aliased_event_name, **kwargs)\n",
      "  File \"/home/ec2-user/anaconda3/envs/python3/lib/python3.6/site-packages/botocore/hooks.py\", line 228, in emit\n",
      "    return self._emit(event_name, kwargs)\n",
      "  File \"/home/ec2-user/anaconda3/envs/python3/lib/python3.6/site-packages/botocore/hooks.py\", line 211, in _emit\n",
      "    response = handler(**kwargs)\n",
      "  File \"/home/ec2-user/anaconda3/envs/python3/lib/python3.6/site-packages/botocore/retryhandler.py\", line 183, in __call__\n",
      "    if self._checker(attempts, response, caught_exception):\n",
      "  File \"/home/ec2-user/anaconda3/envs/python3/lib/python3.6/site-packages/botocore/retryhandler.py\", line 251, in __call__\n",
      "    caught_exception)\n",
      "  File \"/home/ec2-user/anaconda3/envs/python3/lib/python3.6/site-packages/botocore/retryhandler.py\", line 277, in _should_retry\n",
      "    return self._checker(attempt_number, response, caught_exception)\n",
      "  File \"/home/ec2-user/anaconda3/envs/python3/lib/python3.6/site-packages/botocore/retryhandler.py\", line 317, in __call__\n",
      "    caught_exception)\n",
      "  File \"/home/ec2-user/anaconda3/envs/python3/lib/python3.6/site-packages/botocore/retryhandler.py\", line 223, in __call__\n",
      "    attempt_number, caught_exception)\n",
      "  File \"/home/ec2-user/anaconda3/envs/python3/lib/python3.6/site-packages/botocore/retryhandler.py\", line 359, in _check_caught_exception\n",
      "    raise caught_exception\n",
      "  File \"/home/ec2-user/anaconda3/envs/python3/lib/python3.6/site-packages/botocore/endpoint.py\", line 200, in _do_get_response\n",
      "    http_response = self._send(request)\n",
      "  File \"/home/ec2-user/anaconda3/envs/python3/lib/python3.6/site-packages/botocore/endpoint.py\", line 244, in _send\n",
      "    return self.http_session.send(request)\n",
      "  File \"/home/ec2-user/anaconda3/envs/python3/lib/python3.6/site-packages/botocore/httpsession.py\", line 287, in send\n",
      "    raise ConnectTimeoutError(endpoint_url=request.url, error=e)\n",
      "botocore.exceptions.ConnectTimeoutError: Connect timeout on endpoint URL: \"https://iam.amazonaws.com/\"\n",
      "\n"
     ]
    }
   ],
   "source": [
    "!cd test_project; chalice deploy\n"
   ]
  },
  {
   "cell_type": "code",
   "execution_count": 60,
   "metadata": {},
   "outputs": [
    {
     "name": "stdout",
     "output_type": "stream",
     "text": [
      "Traceback (most recent call last):\r\n",
      "  File \"/home/ec2-user/anaconda3/envs/python3/lib/python3.6/site-packages/chalice/cli/__init__.py\", line 599, in main\r\n",
      "    return cli(obj={})\r\n",
      "  File \"/home/ec2-user/anaconda3/envs/python3/lib/python3.6/site-packages/click/core.py\", line 722, in __call__\r\n",
      "    return self.main(*args, **kwargs)\r\n",
      "  File \"/home/ec2-user/anaconda3/envs/python3/lib/python3.6/site-packages/click/core.py\", line 697, in main\r\n",
      "    rv = self.invoke(ctx)\r\n",
      "  File \"/home/ec2-user/anaconda3/envs/python3/lib/python3.6/site-packages/click/core.py\", line 1063, in invoke\r\n",
      "    Command.invoke(self, ctx)\r\n",
      "  File \"/home/ec2-user/anaconda3/envs/python3/lib/python3.6/site-packages/click/core.py\", line 895, in invoke\r\n",
      "    return ctx.invoke(self.callback, **ctx.params)\r\n",
      "  File \"/home/ec2-user/anaconda3/envs/python3/lib/python3.6/site-packages/click/core.py\", line 535, in invoke\r\n",
      "    return callback(*args, **kwargs)\r\n",
      "  File \"/home/ec2-user/anaconda3/envs/python3/lib/python3.6/site-packages/click/decorators.py\", line 17, in new_func\r\n",
      "    return f(get_current_context(), *args, **kwargs)\r\n",
      "  File \"/home/ec2-user/anaconda3/envs/python3/lib/python3.6/site-packages/chalice/cli/__init__.py\", line 115, in cli\r\n",
      "    os.chdir(project_dir)\r\n",
      "FileNotFoundError: [Errno 2] No such file or directory: '/home/ec2-user/SageMaker/AmazonSageMaker-fmm-notebook-repository/test_proj'\r\n",
      "\r\n"
     ]
    }
   ],
   "source": [
    "!chalice --project-dir test_proj new-project"
   ]
  },
  {
   "cell_type": "markdown",
   "metadata": {},
   "source": [
    "# Try using BOTO3 to make a lambda fn"
   ]
  },
  {
   "cell_type": "code",
   "execution_count": null,
   "metadata": {},
   "outputs": [],
   "source": []
  }
 ],
 "metadata": {
  "kernelspec": {
   "display_name": "conda_python3",
   "language": "python",
   "name": "conda_python3"
  },
  "language_info": {
   "codemirror_mode": {
    "name": "ipython",
    "version": 3
   },
   "file_extension": ".py",
   "mimetype": "text/x-python",
   "name": "python",
   "nbconvert_exporter": "python",
   "pygments_lexer": "ipython3",
   "version": "3.6.5"
  }
 },
 "nbformat": 4,
 "nbformat_minor": 4
}
