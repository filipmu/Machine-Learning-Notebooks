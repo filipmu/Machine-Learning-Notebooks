{
  "nbformat": 4,
  "nbformat_minor": 0,
  "metadata": {
    "colab": {
      "name": "streamlit through localtunnel.ipynb",
      "provenance": [],
      "collapsed_sections": [],
      "authorship_tag": "ABX9TyOXdcKleYGTnB5PTfvsCy1i",
      "include_colab_link": true
    },
    "kernelspec": {
      "name": "python3",
      "display_name": "Python 3"
    },
    "language_info": {
      "name": "python"
    }
  },
  "cells": [
    {
      "cell_type": "markdown",
      "metadata": {
        "id": "view-in-github",
        "colab_type": "text"
      },
      "source": [
        "<a href=\"https://colab.research.google.com/github/filipmu/Machine-Learning-Notebooks/blob/master/streamlit_through_localtunnel.ipynb\" target=\"_parent\"><img src=\"https://colab.research.google.com/assets/colab-badge.svg\" alt=\"Open In Colab\"/></a>"
      ]
    },
    {
      "cell_type": "code",
      "metadata": {
        "colab": {
          "base_uri": "https://localhost:8080/"
        },
        "id": "TxGiHLpML3ao",
        "outputId": "fa32f077-8f44-4d5a-b8b5-66dbaf9fe0af"
      },
      "source": [
        "!pip install streamlit -q\n",
        "\n"
      ],
      "execution_count": null,
      "outputs": [
        {
          "output_type": "stream",
          "name": "stdout",
          "text": [
            "\u001b[K     |████████████████████████████████| 9.1 MB 22.5 MB/s \n",
            "\u001b[K     |████████████████████████████████| 178 kB 35.8 MB/s \n",
            "\u001b[K     |████████████████████████████████| 111 kB 37.0 MB/s \n",
            "\u001b[K     |████████████████████████████████| 76 kB 2.3 MB/s \n",
            "\u001b[K     |████████████████████████████████| 4.3 MB 33.7 MB/s \n",
            "\u001b[K     |████████████████████████████████| 180 kB 40.1 MB/s \n",
            "\u001b[K     |████████████████████████████████| 63 kB 1.1 MB/s \n",
            "\u001b[K     |████████████████████████████████| 125 kB 48.1 MB/s \n",
            "\u001b[K     |████████████████████████████████| 790 kB 42.7 MB/s \n",
            "\u001b[K     |████████████████████████████████| 374 kB 34.3 MB/s \n",
            "\u001b[?25h  Building wheel for pympler (setup.py) ... \u001b[?25l\u001b[?25hdone\n",
            "  Building wheel for blinker (setup.py) ... \u001b[?25l\u001b[?25hdone\n",
            "\u001b[31mERROR: pip's dependency resolver does not currently take into account all the packages that are installed. This behaviour is the source of the following dependency conflicts.\n",
            "jupyter-console 5.2.0 requires prompt-toolkit<2.0.0,>=1.0.0, but you have prompt-toolkit 3.0.22 which is incompatible.\n",
            "google-colab 1.0.0 requires ipykernel~=4.10, but you have ipykernel 6.5.1 which is incompatible.\n",
            "google-colab 1.0.0 requires ipython~=5.5.0, but you have ipython 7.29.0 which is incompatible.\u001b[0m\n"
          ]
        }
      ]
    },
    {
      "cell_type": "code",
      "metadata": {
        "colab": {
          "base_uri": "https://localhost:8080/"
        },
        "id": "FbTEoc1lPjHl",
        "outputId": "007d5886-c2dd-404f-90e8-aed85c2b69a0"
      },
      "source": [
        "%%writefile app.py\n",
        "import streamlit as st\n",
        "import pandas as pd\n",
        "import numpy as np\n",
        "\n",
        "st.title('Uber pickups in NYC')\n",
        "\n",
        "DATE_COLUMN = 'date/time'\n",
        "DATA_URL = ('https://s3-us-west-2.amazonaws.com/'\n",
        "            'streamlit-demo-data/uber-raw-data-sep14.csv.gz')\n",
        "\n",
        "@st.cache\n",
        "def load_data(nrows):\n",
        "    data = pd.read_csv(DATA_URL, nrows=nrows)\n",
        "    lowercase = lambda x: str(x).lower()\n",
        "    data.rename(lowercase, axis='columns', inplace=True)\n",
        "    data[DATE_COLUMN] = pd.to_datetime(data[DATE_COLUMN])\n",
        "    return data\n",
        "\n",
        "data_load_state = st.text('Loading data...')\n",
        "data = load_data(10000)\n",
        "data_load_state.text(\"Done! (using st.cache)\")\n",
        "\n",
        "if st.checkbox('Show raw data'):\n",
        "    st.subheader('Raw data')\n",
        "    st.write(data)\n",
        "\n",
        "st.subheader('Number of pickups by hour')\n",
        "hist_values = np.histogram(data[DATE_COLUMN].dt.hour, bins=24, range=(0,24))[0]\n",
        "st.bar_chart(hist_values)\n",
        "\n",
        "# Some number in the range 0-23\n",
        "hour_to_filter = st.slider('hour', 0, 23, 17)\n",
        "filtered_data = data[data[DATE_COLUMN].dt.hour == hour_to_filter]\n",
        "\n",
        "st.subheader('Map of all pickups at %s:00' % hour_to_filter)\n",
        "st.map(filtered_data)"
      ],
      "execution_count": null,
      "outputs": [
        {
          "output_type": "stream",
          "name": "stdout",
          "text": [
            "Overwriting app.py\n"
          ]
        }
      ]
    },
    {
      "cell_type": "code",
      "metadata": {
        "colab": {
          "base_uri": "https://localhost:8080/"
        },
        "id": "UhJW5eveQjTT",
        "outputId": "6a6021bc-c13d-4144-bea2-e343f7eca833"
      },
      "source": [
        "!streamlit run app.py & npx localtunnel --port 8501"
      ],
      "execution_count": null,
      "outputs": [
        {
          "output_type": "stream",
          "name": "stdout",
          "text": [
            "\u001b[K\u001b[?25hnpx: installed 22 in 3.294s\n",
            "\u001b[0m\n",
            "\u001b[34m\u001b[1m  You can now view your Streamlit app in your browser.\u001b[0m\n",
            "\u001b[0m\n",
            "\u001b[34m  Network URL: \u001b[0m\u001b[1mhttp://172.28.0.2:8501\u001b[0m\n",
            "\u001b[34m  External URL: \u001b[0m\u001b[1mhttp://35.221.47.170:8501\u001b[0m\n",
            "\u001b[0m\n",
            "your url is: https://yellow-bird-45.loca.lt\n",
            "2021-11-25 13:35:14.748 NumExpr defaulting to 2 threads.\n",
            "\u001b[34m  Stopping...\u001b[0m\n",
            "^C\n"
          ]
        }
      ]
    },
    {
      "cell_type": "markdown",
      "metadata": {
        "id": "5O24a2wZTCKE"
      },
      "source": [
        "This also works - removes the streamlit output which gives the internal urls"
      ]
    },
    {
      "cell_type": "code",
      "metadata": {
        "colab": {
          "base_uri": "https://localhost:8080/"
        },
        "id": "OcYlQihSL5Ka",
        "outputId": "8ee8f5f4-3dd5-456d-fb75-58cd074bb1ca"
      },
      "source": [
        "!streamlit run app.py &>/dev/null&\n",
        "!npx localtunnel --port 8501"
      ],
      "execution_count": null,
      "outputs": [
        {
          "output_type": "stream",
          "name": "stdout",
          "text": [
            "\u001b[K\u001b[?25hnpx: installed 22 in 3.135s\n",
            "your url is: https://warm-goat-30.loca.lt\n",
            "^C\n"
          ]
        }
      ]
    },
    {
      "cell_type": "markdown",
      "metadata": {
        "id": "XfYZ5mT6Urhe"
      },
      "source": [
        "Can pass a github gist to streamlit"
      ]
    },
    {
      "cell_type": "code",
      "metadata": {
        "colab": {
          "base_uri": "https://localhost:8080/"
        },
        "id": "ONc7epbqMtpB",
        "outputId": "b54fc068-d109-409f-e23a-bf1019c016fb"
      },
      "source": [
        "!streamlit run https://raw.githubusercontent.com/streamlit/demo-uber-nyc-pickups/master/streamlit_app.py &>./log.txt& npx localtunnel --port 8501\n",
        "!"
      ],
      "execution_count": null,
      "outputs": [
        {
          "output_type": "stream",
          "name": "stdout",
          "text": [
            "\u001b[K\u001b[?25hnpx: installed 22 in 2.773s\n",
            "your url is: https://gentle-snake-58.loca.lt\n",
            "^C\n"
          ]
        }
      ]
    },
    {
      "cell_type": "code",
      "metadata": {
        "colab": {
          "base_uri": "https://localhost:8080/"
        },
        "id": "o1VmF2aEY0OW",
        "outputId": "3008f948-5565-4299-b1f5-6aa3e6f9b77e"
      },
      "source": [
        "!npx localtunnel --port 8501"
      ],
      "execution_count": null,
      "outputs": [
        {
          "output_type": "stream",
          "name": "stdout",
          "text": [
            "\u001b[K\u001b[?25hnpx: installed 22 in 2.069s\n",
            "your url is: https://ugly-dodo-31.loca.lt\n",
            "^C\n"
          ]
        }
      ]
    },
    {
      "cell_type": "code",
      "metadata": {
        "id": "PQPxtxiAXiox"
      },
      "source": [
        "import subprocess as sp"
      ],
      "execution_count": null,
      "outputs": []
    },
    {
      "cell_type": "code",
      "metadata": {
        "id": "uv2jOpGNU1OP"
      },
      "source": [
        "def streamlit_process(streamlit_path):\n",
        "  command = ['streamlit',\n",
        "             'run',\n",
        "             str(streamlit_path)\n",
        "             ]\n",
        "  proc = sp.Popen(command,stdout=sp.PIPE, bufsize=1)\n",
        "\n",
        "  return proc"
      ],
      "execution_count": 74,
      "outputs": []
    },
    {
      "cell_type": "code",
      "metadata": {
        "id": "_WQMBZYMZF04"
      },
      "source": [
        "def localtunnel():\n",
        "  command = 'npx localtunnel --port 8501'\n",
        "  proc = sp.Popen(command.split(), stdout=sp.PIPE, bufsize=1, universal_newlines=True)\n",
        "  print(proc.stdout.readline())\n",
        "  \n",
        "  return proc"
      ],
      "execution_count": 75,
      "outputs": []
    },
    {
      "cell_type": "code",
      "metadata": {
        "id": "KAb23sG0ZG0l"
      },
      "source": [
        "stproc = streamlit_process('/content/app.py')"
      ],
      "execution_count": 79,
      "outputs": []
    },
    {
      "cell_type": "code",
      "metadata": {
        "id": "3SbrSRZQaaA4",
        "colab": {
          "base_uri": "https://localhost:8080/"
        },
        "outputId": "349faa83-e621-413a-dcd4-ef8c80bb2242"
      },
      "source": [
        "tproc = localtunnel()"
      ],
      "execution_count": 80,
      "outputs": [
        {
          "output_type": "stream",
          "name": "stdout",
          "text": [
            "your url is: https://polite-hound-16.loca.lt\n",
            "\n"
          ]
        }
      ]
    },
    {
      "cell_type": "code",
      "metadata": {
        "id": "iIsj9TPdaoRp"
      },
      "source": [
        "tproc.terminate()\n",
        "stproc.terminate()"
      ],
      "execution_count": 78,
      "outputs": []
    },
    {
      "cell_type": "code",
      "metadata": {
        "id": "tIAu3UHxR7re"
      },
      "source": [
        ""
      ],
      "execution_count": null,
      "outputs": []
    }
  ]
}
