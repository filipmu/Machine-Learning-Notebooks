{
  "nbformat": 4,
  "nbformat_minor": 0,
  "metadata": {
    "colab": {
      "name": "voila through localtunnel.ipynb",
      "provenance": [],
      "collapsed_sections": [],
      "authorship_tag": "ABX9TyN+jjFTOLzU+wzXhL1MnO/O",
      "include_colab_link": true
    },
    "kernelspec": {
      "name": "python3",
      "display_name": "Python 3"
    },
    "language_info": {
      "name": "python"
    }
  },
  "cells": [
    {
      "cell_type": "markdown",
      "metadata": {
        "id": "view-in-github",
        "colab_type": "text"
      },
      "source": [
        "<a href=\"https://colab.research.google.com/github/filipmu/Machine-Learning-Notebooks/blob/master/voila_through_localtunnel.ipynb\" target=\"_parent\"><img src=\"https://colab.research.google.com/assets/colab-badge.svg\" alt=\"Open In Colab\"/></a>"
      ]
    },
    {
      "cell_type": "markdown",
      "metadata": {
        "id": "2DjBdtAdpUtO"
      },
      "source": [
        "# Running Voila through Colab\n",
        "Allows you to use voila to turn a notebook on your google drive into a dashboard.\n",
        "All this within a colab notebook!"
      ]
    },
    {
      "cell_type": "code",
      "metadata": {
        "id": "TxGiHLpML3ao"
      },
      "source": [
        "!pip install voila -q"
      ],
      "execution_count": 13,
      "outputs": []
    },
    {
      "cell_type": "markdown",
      "metadata": {
        "id": "PPPxuBpspzCW"
      },
      "source": [
        "## Mount your google drive"
      ]
    },
    {
      "cell_type": "code",
      "metadata": {
        "colab": {
          "base_uri": "https://localhost:8080/"
        },
        "id": "Ut_kQpMLobUz",
        "outputId": "e610b7ce-924b-437c-d8e8-9180f16b3632"
      },
      "source": [
        "from google.colab import drive\n",
        "drive.mount('/content/drive')"
      ],
      "execution_count": 14,
      "outputs": [
        {
          "output_type": "stream",
          "name": "stdout",
          "text": [
            "Mounted at /content/drive\n"
          ]
        }
      ]
    },
    {
      "cell_type": "markdown",
      "metadata": {
        "id": "T8q84M-lp3ir"
      },
      "source": [
        "## List your notebooks in google drive"
      ]
    },
    {
      "cell_type": "code",
      "metadata": {
        "colab": {
          "base_uri": "https://localhost:8080/"
        },
        "id": "LiNzmVyeokzn",
        "outputId": "a1e2fa03-d24d-46cb-9a10-f2e94b6a7711"
      },
      "source": [
        "!ls -d /content/drive/MyDrive/'Colab Notebooks'/*"
      ],
      "execution_count": 26,
      "outputs": [
        {
          "output_type": "stream",
          "name": "stdout",
          "text": [
            "'/content/drive/MyDrive/Colab Notebooks/streamlit through localtunnel.ipynb'\n",
            "'/content/drive/MyDrive/Colab Notebooks/Using localtunnel to get tensorboard in colab.ipynb'\n",
            "'/content/drive/MyDrive/Colab Notebooks/voila dashboard.ipynb'\n",
            "'/content/drive/MyDrive/Colab Notebooks/voila through localtunnel.ipynb'\n"
          ]
        }
      ]
    },
    {
      "cell_type": "markdown",
      "metadata": {
        "id": "jDUD-m98tKYz"
      },
      "source": [
        "## Pick your notebook\n",
        "Voila can also work on a directory of notebooks"
      ]
    },
    {
      "cell_type": "code",
      "metadata": {
        "id": "-qqA8PQ9qoOP"
      },
      "source": [
        "notebook_path = '/content/drive/MyDrive/Colab Notebooks/voila dashboard.ipynb'"
      ],
      "execution_count": 27,
      "outputs": []
    },
    {
      "cell_type": "markdown",
      "metadata": {
        "id": "WFr-QeAVp_lJ"
      },
      "source": [
        "## One liner using shell escape in notebook to serve your notebook\n",
        "\n",
        "The first URL is local, click the second URL for your notebook served via localtunnel"
      ]
    },
    {
      "cell_type": "code",
      "metadata": {
        "id": "Nej8xaTchR5T"
      },
      "source": [
        "!voila \"{notebook_path}\" & npx localtunnel --port 8866"
      ],
      "execution_count": null,
      "outputs": []
    },
    {
      "cell_type": "markdown",
      "metadata": {
        "id": "-2m7rn78s1QY"
      },
      "source": [
        "## Alternatively create some wrapper functions\n",
        "\n",
        "If you want to stay away from the shell"
      ]
    },
    {
      "cell_type": "code",
      "metadata": {
        "id": "PQPxtxiAXiox"
      },
      "source": [
        "import subprocess as sp\n",
        "\n",
        "def voila_process(notebook_path):\n",
        "  command = ['voila',\n",
        "             str(notebook_path)\n",
        "             ]\n",
        "  proc = sp.Popen(command,stdout=sp.PIPE, bufsize=1)\n",
        "\n",
        "  return proc\n",
        "\n",
        "def localtunnel(port=8866):\n",
        "  command = ['npx',\n",
        "              'localtunnel',\n",
        "              '--port',\n",
        "              str(port)]\n",
        "  proc = sp.Popen(command, stdout=sp.PIPE, bufsize=1, universal_newlines=True)\n",
        "  print(proc.stdout.readline())\n",
        "\n",
        "  return proc\n",
        "\n",
        "def voila_app(notebook_path):\n",
        "  procs = {'vproc':voila_process(notebook_path),\n",
        "            'tproc':localtunnel(port=8866)}\n",
        "  return procs\n",
        "\n",
        "def terminate(procs):\n",
        "  for key,val in procs.items():\n",
        "    val.terminate()"
      ],
      "execution_count": 44,
      "outputs": []
    },
    {
      "cell_type": "markdown",
      "metadata": {
        "id": "DEwNNiavwrzt"
      },
      "source": [
        "## Launch a voila generated dashboard and use localtunnel to create URL"
      ]
    },
    {
      "cell_type": "code",
      "metadata": {
        "id": "uv2jOpGNU1OP",
        "colab": {
          "base_uri": "https://localhost:8080/"
        },
        "outputId": "f1dd06cc-e31c-4bf7-dd52-77f511c14d67"
      },
      "source": [
        "processes = voila_app(notebook_path)"
      ],
      "execution_count": 45,
      "outputs": [
        {
          "output_type": "stream",
          "name": "stdout",
          "text": [
            "your url is: https://wise-mayfly-49.loca.lt\n",
            "\n"
          ]
        }
      ]
    },
    {
      "cell_type": "markdown",
      "metadata": {
        "id": "sOHuNsU1w8bk"
      },
      "source": [
        "## Terminate our processes when we want to finish"
      ]
    },
    {
      "cell_type": "code",
      "metadata": {
        "id": "_WQMBZYMZF04"
      },
      "source": [
        "terminate(processes)"
      ],
      "execution_count": 46,
      "outputs": []
    },
    {
      "cell_type": "code",
      "metadata": {
        "id": "Sd0s1_qevuln"
      },
      "source": [
        ""
      ],
      "execution_count": null,
      "outputs": []
    }
  ]
}