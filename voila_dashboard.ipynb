{
  "nbformat": 4,
  "nbformat_minor": 0,
  "metadata": {
    "celltoolbar": "Edit Metadata",
    "kernelspec": {
      "display_name": "Python 3",
      "language": "python",
      "name": "python3"
    },
    "language_info": {
      "codemirror_mode": {
        "name": "ipython",
        "version": 3
      },
      "file_extension": ".py",
      "mimetype": "text/x-python",
      "name": "python",
      "nbconvert_exporter": "python",
      "pygments_lexer": "ipython3",
      "version": "3.6.4"
    },
    "colab": {
      "name": "voila dashboard.ipynb",
      "provenance": [],
      "include_colab_link": true
    },
    "widgets": {
      "application/vnd.jupyter.widget-state+json": {
        "10b15f510a0c4db89e57fb99903796b5": {
          "model_module": "@jupyter-widgets/controls",
          "model_name": "LabelModel",
          "model_module_version": "1.5.0",
          "state": {
            "_view_name": "LabelView",
            "style": "IPY_MODEL_efe4532ebfd84db09f178d4e61d6d0ef",
            "_dom_classes": [],
            "description": "",
            "_model_name": "LabelModel",
            "placeholder": "​",
            "_view_module": "@jupyter-widgets/controls",
            "_model_module_version": "1.5.0",
            "value": "Selected range [2.04650431 4.83191488]",
            "_view_count": null,
            "_view_module_version": "1.5.0",
            "description_tooltip": null,
            "_model_module": "@jupyter-widgets/controls",
            "layout": "IPY_MODEL_3a4add83385a4c80a1d7edad0dc277a8"
          }
        },
        "efe4532ebfd84db09f178d4e61d6d0ef": {
          "model_module": "@jupyter-widgets/controls",
          "model_name": "DescriptionStyleModel",
          "model_module_version": "1.5.0",
          "state": {
            "_view_name": "StyleView",
            "_model_name": "DescriptionStyleModel",
            "description_width": "",
            "_view_module": "@jupyter-widgets/base",
            "_model_module_version": "1.5.0",
            "_view_count": null,
            "_view_module_version": "1.2.0",
            "_model_module": "@jupyter-widgets/controls"
          }
        },
        "3a4add83385a4c80a1d7edad0dc277a8": {
          "model_module": "@jupyter-widgets/base",
          "model_name": "LayoutModel",
          "model_module_version": "1.2.0",
          "state": {
            "_view_name": "LayoutView",
            "grid_template_rows": null,
            "right": null,
            "justify_content": null,
            "_view_module": "@jupyter-widgets/base",
            "overflow": null,
            "_model_module_version": "1.2.0",
            "_view_count": null,
            "flex_flow": null,
            "width": null,
            "min_width": null,
            "border": null,
            "align_items": null,
            "bottom": null,
            "_model_module": "@jupyter-widgets/base",
            "top": null,
            "grid_column": null,
            "overflow_y": null,
            "overflow_x": null,
            "grid_auto_flow": null,
            "grid_area": null,
            "grid_template_columns": null,
            "flex": null,
            "_model_name": "LayoutModel",
            "justify_items": null,
            "grid_row": null,
            "max_height": null,
            "align_content": null,
            "visibility": null,
            "align_self": null,
            "height": null,
            "min_height": null,
            "padding": null,
            "grid_auto_rows": null,
            "grid_gap": null,
            "max_width": null,
            "order": null,
            "_view_module_version": "1.2.0",
            "grid_template_areas": null,
            "object_position": null,
            "object_fit": null,
            "grid_auto_columns": null,
            "margin": null,
            "display": null,
            "left": null
          }
        },
        "4691d427dcdd4f68bb3e2ebb310feed5": {
          "model_module": "bqplot",
          "model_name": "FigureModel",
          "model_module_version": "^0.5.32",
          "state": {
            "_view_name": "Figure",
            "max_aspect_ratio": 100,
            "_view_module": "bqplot",
            "_model_module_version": "^0.5.32",
            "_view_count": null,
            "fig_margin": {
              "top": 60,
              "left": 60,
              "right": 60,
              "bottom": 60
            },
            "_model_module": "bqplot",
            "layout": "IPY_MODEL_133882fc7e7242ee97319d7c21b25043",
            "pixel_ratio": null,
            "title": "Histogram",
            "axes": [
              "IPY_MODEL_ce914b3f9f774b9fb6f5c0397adede43",
              "IPY_MODEL_ee204e7e9a4147cfb9ef862c234cf5bb"
            ],
            "legend_location": "top-right",
            "theme": "classic",
            "marks": [
              "IPY_MODEL_3cd8118c99e74c24985f4b8ad7362d15"
            ],
            "scale_x": "IPY_MODEL_478327b35c624a0ba5e899c11a8934d6",
            "scale_y": "IPY_MODEL_597854b1adca4c74b92677dc1c2c5512",
            "padding_y": 0.025,
            "padding_x": 0,
            "_dom_classes": [],
            "background_style": {},
            "_model_name": "FigureModel",
            "legend_style": {},
            "min_aspect_ratio": 0.01,
            "title_style": {},
            "animation_duration": 0,
            "interaction": null,
            "legend_text": {},
            "_view_module_version": "^0.5.32"
          }
        },
        "133882fc7e7242ee97319d7c21b25043": {
          "model_module": "@jupyter-widgets/base",
          "model_name": "LayoutModel",
          "model_module_version": "1.2.0",
          "state": {
            "_view_name": "LayoutView",
            "grid_template_rows": null,
            "right": null,
            "justify_content": null,
            "_view_module": "@jupyter-widgets/base",
            "overflow": null,
            "_model_module_version": "1.2.0",
            "_view_count": null,
            "flex_flow": null,
            "width": "auto",
            "min_width": null,
            "border": null,
            "align_items": null,
            "bottom": null,
            "_model_module": "@jupyter-widgets/base",
            "top": null,
            "grid_column": null,
            "overflow_y": null,
            "overflow_x": null,
            "grid_auto_flow": null,
            "grid_area": null,
            "grid_template_columns": null,
            "flex": "1",
            "_model_name": "LayoutModel",
            "justify_items": null,
            "grid_row": null,
            "max_height": null,
            "align_content": null,
            "visibility": null,
            "align_self": null,
            "height": "auto",
            "min_height": "300px",
            "padding": null,
            "grid_auto_rows": null,
            "grid_gap": null,
            "max_width": null,
            "order": null,
            "_view_module_version": "1.2.0",
            "grid_template_areas": null,
            "object_position": null,
            "object_fit": null,
            "grid_auto_columns": null,
            "margin": null,
            "display": null,
            "left": null
          }
        },
        "ce914b3f9f774b9fb6f5c0397adede43": {
          "model_module": "bqplot",
          "model_name": "AxisModel",
          "model_module_version": "^0.5.32",
          "state": {
            "_view_name": "Axis",
            "orientation": "vertical",
            "color": null,
            "label_offset": null,
            "grid_color": null,
            "_view_module": "bqplot",
            "_model_module_version": "^0.5.32",
            "_view_count": null,
            "visible": true,
            "_model_module": "bqplot",
            "label_color": null,
            "scale": "IPY_MODEL_8075a00dc730475e94504387179eb4f6",
            "label": "",
            "num_ticks": null,
            "label_location": "middle",
            "_model_name": "AxisModel",
            "tick_values": null,
            "offset": {},
            "tick_style": {},
            "grid_lines": "solid",
            "tick_format": null,
            "_view_module_version": "^0.5.32",
            "tick_rotate": 0,
            "side": "left"
          }
        },
        "ee204e7e9a4147cfb9ef862c234cf5bb": {
          "model_module": "bqplot",
          "model_name": "AxisModel",
          "model_module_version": "^0.5.32",
          "state": {
            "_view_name": "Axis",
            "orientation": "horizontal",
            "color": null,
            "label_offset": null,
            "grid_color": null,
            "_view_module": "bqplot",
            "_model_module_version": "^0.5.32",
            "_view_count": null,
            "visible": true,
            "_model_module": "bqplot",
            "label_color": null,
            "scale": "IPY_MODEL_a31714e66b164ac281cd5cf7e11a5719",
            "label": "",
            "num_ticks": null,
            "label_location": "middle",
            "_model_name": "AxisModel",
            "tick_values": null,
            "offset": {},
            "tick_style": {},
            "grid_lines": "solid",
            "tick_format": null,
            "_view_module_version": "^0.5.32",
            "tick_rotate": 0,
            "side": "bottom"
          }
        },
        "3cd8118c99e74c24985f4b8ad7362d15": {
          "model_module": "bqplot",
          "model_name": "HistModel",
          "model_module_version": "^0.5.32",
          "state": {
            "_view_name": "Hist",
            "selected": null,
            "scales": {
              "count": "IPY_MODEL_8075a00dc730475e94504387179eb4f6",
              "sample": "IPY_MODEL_a31714e66b164ac281cd5cf7e11a5719"
            },
            "labels": [],
            "_model_module_version": "^0.5.32",
            "_view_count": null,
            "sample": {
              "dtype": "int32",
              "shape": [
                56
              ],
              "type": null
            },
            "visible": true,
            "colors": [
              "steelblue"
            ],
            "tooltip_style": {
              "opacity": 0.9
            },
            "tooltip_location": "mouse",
            "opacities": [],
            "_model_module": "bqplot",
            "scales_metadata": {
              "sample": {
                "orientation": "horizontal",
                "dimension": "x"
              },
              "count": {
                "orientation": "vertical",
                "dimension": "y"
              }
            },
            "display_legend": false,
            "interactions": {
              "hover": "tooltip"
            },
            "tooltip": null,
            "midpoints": [
              -97.64,
              -88.92,
              -80.2,
              -71.48,
              -62.760000000000005,
              -54.03999999999999,
              -45.31999999999999,
              -36.599999999999994,
              -27.879999999999995,
              -19.159999999999997,
              -10.439999999999998,
              -1.7199999999999918,
              7.000000000000014,
              15.720000000000013,
              24.440000000000012,
              33.16000000000001,
              41.88000000000001,
              50.60000000000001,
              59.32000000000001,
              68.04,
              76.76,
              85.48,
              94.2,
              102.92000000000002
            ],
            "enable_hover": true,
            "apply_clip": true,
            "_view_module": "bqplot",
            "_model_name": "HistModel",
            "selected_style": {},
            "normalized": false,
            "count": {
              "dtype": "float64",
              "shape": [
                15
              ],
              "type": null
            },
            "preserve_domain": {},
            "unselected_style": {},
            "stroke": null,
            "_view_module_version": "^0.5.32",
            "bins": 25
          }
        },
        "478327b35c624a0ba5e899c11a8934d6": {
          "model_module": "bqplot",
          "model_name": "LinearScaleModel",
          "model_module_version": "^0.5.32",
          "state": {
            "_view_name": "LinearScale",
            "min": 0,
            "min_range": 0.6,
            "reverse": false,
            "_model_name": "LinearScaleModel",
            "max": 1,
            "_view_module": "bqplot",
            "_model_module_version": "^0.5.32",
            "_view_count": null,
            "_view_module_version": "^0.5.32",
            "stabilized": false,
            "allow_padding": false,
            "mid_range": 0.8,
            "_model_module": "bqplot"
          }
        },
        "597854b1adca4c74b92677dc1c2c5512": {
          "model_module": "bqplot",
          "model_name": "LinearScaleModel",
          "model_module_version": "^0.5.32",
          "state": {
            "_view_name": "LinearScale",
            "min": 0,
            "min_range": 0.6,
            "reverse": false,
            "_model_name": "LinearScaleModel",
            "max": 1,
            "_view_module": "bqplot",
            "_model_module_version": "^0.5.32",
            "_view_count": null,
            "_view_module_version": "^0.5.32",
            "stabilized": false,
            "allow_padding": false,
            "mid_range": 0.8,
            "_model_module": "bqplot"
          }
        },
        "8075a00dc730475e94504387179eb4f6": {
          "model_module": "bqplot",
          "model_name": "LinearScaleModel",
          "model_module_version": "^0.5.32",
          "state": {
            "_view_name": "LinearScale",
            "min": null,
            "min_range": 0.6,
            "reverse": false,
            "_model_name": "LinearScaleModel",
            "max": null,
            "_view_module": "bqplot",
            "_model_module_version": "^0.5.32",
            "_view_count": null,
            "_view_module_version": "^0.5.32",
            "stabilized": false,
            "allow_padding": true,
            "mid_range": 0.8,
            "_model_module": "bqplot"
          }
        },
        "a31714e66b164ac281cd5cf7e11a5719": {
          "model_module": "bqplot",
          "model_name": "LinearScaleModel",
          "model_module_version": "^0.5.32",
          "state": {
            "_view_name": "LinearScale",
            "min": -102,
            "min_range": 0.6,
            "reverse": false,
            "_model_name": "LinearScaleModel",
            "max": 116,
            "_view_module": "bqplot",
            "_model_module_version": "^0.5.32",
            "_view_count": null,
            "_view_module_version": "^0.5.32",
            "stabilized": false,
            "allow_padding": true,
            "mid_range": 0.8,
            "_model_module": "bqplot"
          }
        },
        "361d80a6d5bf460aaaad4633fe1e8a9c": {
          "model_module": "bqplot",
          "model_name": "FigureModel",
          "model_module_version": "^0.5.32",
          "state": {
            "_view_name": "Figure",
            "max_aspect_ratio": 100,
            "_view_module": "bqplot",
            "_model_module_version": "^0.5.32",
            "_view_count": null,
            "fig_margin": {
              "top": 60,
              "left": 60,
              "right": 60,
              "bottom": 60
            },
            "_model_module": "bqplot",
            "layout": "IPY_MODEL_551efec20fd943ca9b645615571bb477",
            "pixel_ratio": null,
            "title": "Line Chart",
            "axes": [
              "IPY_MODEL_87f949c3a6ee49879714cad9b250ba46",
              "IPY_MODEL_1a3e4bb81f524d409dd092f4ff7cde07"
            ],
            "legend_location": "top-right",
            "theme": "classic",
            "marks": [
              "IPY_MODEL_c1b1587d4af44dfb9678963ce47e9759"
            ],
            "scale_x": "IPY_MODEL_ea27e9a8be48449283659f85e8ae30c7",
            "scale_y": "IPY_MODEL_f9e66eb1b5ed4e7280606944d9759c0f",
            "padding_y": 0.025,
            "padding_x": 0,
            "_dom_classes": [],
            "background_style": {},
            "_model_name": "FigureModel",
            "legend_style": {},
            "min_aspect_ratio": 0.01,
            "title_style": {},
            "animation_duration": 0,
            "interaction": "IPY_MODEL_590f68a4573940a48581dfc630be492a",
            "legend_text": {},
            "_view_module_version": "^0.5.32"
          }
        },
        "551efec20fd943ca9b645615571bb477": {
          "model_module": "@jupyter-widgets/base",
          "model_name": "LayoutModel",
          "model_module_version": "1.2.0",
          "state": {
            "_view_name": "LayoutView",
            "grid_template_rows": null,
            "right": null,
            "justify_content": null,
            "_view_module": "@jupyter-widgets/base",
            "overflow": null,
            "_model_module_version": "1.2.0",
            "_view_count": null,
            "flex_flow": null,
            "width": "auto",
            "min_width": null,
            "border": null,
            "align_items": null,
            "bottom": null,
            "_model_module": "@jupyter-widgets/base",
            "top": null,
            "grid_column": null,
            "overflow_y": null,
            "overflow_x": null,
            "grid_auto_flow": null,
            "grid_area": null,
            "grid_template_columns": null,
            "flex": "1",
            "_model_name": "LayoutModel",
            "justify_items": null,
            "grid_row": null,
            "max_height": null,
            "align_content": null,
            "visibility": null,
            "align_self": null,
            "height": "auto",
            "min_height": "300px",
            "padding": null,
            "grid_auto_rows": null,
            "grid_gap": null,
            "max_width": null,
            "order": null,
            "_view_module_version": "1.2.0",
            "grid_template_areas": null,
            "object_position": null,
            "object_fit": null,
            "grid_auto_columns": null,
            "margin": null,
            "display": null,
            "left": null
          }
        },
        "87f949c3a6ee49879714cad9b250ba46": {
          "model_module": "bqplot",
          "model_name": "AxisModel",
          "model_module_version": "^0.5.32",
          "state": {
            "_view_name": "Axis",
            "orientation": "horizontal",
            "color": null,
            "label_offset": null,
            "grid_color": null,
            "_view_module": "bqplot",
            "_model_module_version": "^0.5.32",
            "_view_count": null,
            "visible": true,
            "_model_module": "bqplot",
            "label_color": null,
            "scale": "IPY_MODEL_a03cdc3fe24d411fb4de79e0c233e071",
            "label": "",
            "num_ticks": null,
            "label_location": "middle",
            "_model_name": "AxisModel",
            "tick_values": null,
            "offset": {},
            "tick_style": {},
            "grid_lines": "solid",
            "tick_format": null,
            "_view_module_version": "^0.5.32",
            "tick_rotate": 0,
            "side": "bottom"
          }
        },
        "1a3e4bb81f524d409dd092f4ff7cde07": {
          "model_module": "bqplot",
          "model_name": "AxisModel",
          "model_module_version": "^0.5.32",
          "state": {
            "_view_name": "Axis",
            "orientation": "vertical",
            "color": null,
            "label_offset": null,
            "grid_color": null,
            "_view_module": "bqplot",
            "_model_module_version": "^0.5.32",
            "_view_count": null,
            "visible": true,
            "_model_module": "bqplot",
            "label_color": null,
            "scale": "IPY_MODEL_7be965773b7743d6805e0e67a7522ff5",
            "label": "",
            "num_ticks": null,
            "label_location": "middle",
            "_model_name": "AxisModel",
            "tick_values": null,
            "offset": {},
            "tick_style": {},
            "grid_lines": "solid",
            "tick_format": null,
            "_view_module_version": "^0.5.32",
            "tick_rotate": 0,
            "side": "left"
          }
        },
        "c1b1587d4af44dfb9678963ce47e9759": {
          "model_module": "bqplot",
          "model_name": "LinesModel",
          "model_module_version": "^0.5.32",
          "state": {
            "_view_name": "Lines",
            "selected": null,
            "scales": {
              "y": "IPY_MODEL_7be965773b7743d6805e0e67a7522ff5",
              "x": "IPY_MODEL_a03cdc3fe24d411fb4de79e0c233e071"
            },
            "color": null,
            "labels": [],
            "curves_subset": [],
            "_model_module_version": "^0.5.32",
            "_view_count": null,
            "visible": true,
            "colors": [
              "#1f77b4",
              "#ff7f0e",
              "#2ca02c",
              "#d62728",
              "#9467bd",
              "#8c564b",
              "#e377c2",
              "#7f7f7f",
              "#bcbd22",
              "#17becf"
            ],
            "fill_colors": [],
            "tooltip_style": {
              "opacity": 0.9
            },
            "marker": null,
            "tooltip_location": "mouse",
            "opacities": [],
            "_model_module": "bqplot",
            "fill": "none",
            "close_path": false,
            "display_legend": false,
            "marker_size": 64,
            "interactions": {
              "hover": "tooltip"
            },
            "stroke_width": 2,
            "tooltip": null,
            "fill_opacities": [],
            "enable_hover": true,
            "interpolation": "linear",
            "_view_module": "bqplot",
            "_model_name": "LinesModel",
            "labels_visibility": "none",
            "selected_style": {},
            "scales_metadata": {
              "y": {
                "orientation": "vertical",
                "dimension": "y"
              },
              "x": {
                "orientation": "horizontal",
                "dimension": "x"
              },
              "color": {
                "dimension": "color"
              }
            },
            "preserve_domain": {},
            "unselected_style": {},
            "_view_module_version": "^0.5.32",
            "y": {
              "dtype": "int32",
              "shape": [
                200
              ],
              "type": null
            },
            "x": {
              "dtype": "float64",
              "shape": [
                200
              ],
              "type": null
            },
            "line_style": "solid",
            "apply_clip": true
          }
        },
        "ea27e9a8be48449283659f85e8ae30c7": {
          "model_module": "bqplot",
          "model_name": "LinearScaleModel",
          "model_module_version": "^0.5.32",
          "state": {
            "_view_name": "LinearScale",
            "min": 0,
            "min_range": 0.6,
            "reverse": false,
            "_model_name": "LinearScaleModel",
            "max": 1,
            "_view_module": "bqplot",
            "_model_module_version": "^0.5.32",
            "_view_count": null,
            "_view_module_version": "^0.5.32",
            "stabilized": false,
            "allow_padding": false,
            "mid_range": 0.8,
            "_model_module": "bqplot"
          }
        },
        "f9e66eb1b5ed4e7280606944d9759c0f": {
          "model_module": "bqplot",
          "model_name": "LinearScaleModel",
          "model_module_version": "^0.5.32",
          "state": {
            "_view_name": "LinearScale",
            "min": 0,
            "min_range": 0.6,
            "reverse": false,
            "_model_name": "LinearScaleModel",
            "max": 1,
            "_view_module": "bqplot",
            "_model_module_version": "^0.5.32",
            "_view_count": null,
            "_view_module_version": "^0.5.32",
            "stabilized": false,
            "allow_padding": false,
            "mid_range": 0.8,
            "_model_module": "bqplot"
          }
        },
        "a03cdc3fe24d411fb4de79e0c233e071": {
          "model_module": "bqplot",
          "model_name": "LinearScaleModel",
          "model_module_version": "^0.5.32",
          "state": {
            "_view_name": "LinearScale",
            "min": null,
            "min_range": 0.6,
            "reverse": false,
            "_model_name": "LinearScaleModel",
            "max": null,
            "_view_module": "bqplot",
            "_model_module_version": "^0.5.32",
            "_view_count": null,
            "_view_module_version": "^0.5.32",
            "stabilized": false,
            "allow_padding": true,
            "mid_range": 0.8,
            "_model_module": "bqplot"
          }
        },
        "7be965773b7743d6805e0e67a7522ff5": {
          "model_module": "bqplot",
          "model_name": "LinearScaleModel",
          "model_module_version": "^0.5.32",
          "state": {
            "_view_name": "LinearScale",
            "min": null,
            "min_range": 0.6,
            "reverse": false,
            "_model_name": "LinearScaleModel",
            "max": null,
            "_view_module": "bqplot",
            "_model_module_version": "^0.5.32",
            "_view_count": null,
            "_view_module_version": "^0.5.32",
            "stabilized": false,
            "allow_padding": true,
            "mid_range": 0.8,
            "_model_module": "bqplot"
          }
        },
        "590f68a4573940a48581dfc630be492a": {
          "model_module": "bqplot",
          "model_name": "BrushIntervalSelectorModel",
          "model_module_version": "^0.5.32",
          "state": {
            "_view_name": "BrushIntervalSelector",
            "brushing": false,
            "scale": "IPY_MODEL_a03cdc3fe24d411fb4de79e0c233e071",
            "orientation": "horizontal",
            "_model_name": "BrushIntervalSelectorModel",
            "color": null,
            "_view_module": "bqplot",
            "_model_module_version": "^0.5.32",
            "_view_count": null,
            "_view_module_version": "^0.5.32",
            "selected": {
              "dtype": "float64",
              "shape": [
                2
              ],
              "type": null
            },
            "marks": [],
            "_model_module": "bqplot"
          }
        }
      }
    }
  },
  "cells": [
    {
      "cell_type": "markdown",
      "metadata": {
        "id": "view-in-github",
        "colab_type": "text"
      },
      "source": [
        "<a href=\"https://colab.research.google.com/github/filipmu/Machine-Learning-Notebooks/blob/master/voila_dashboard.ipynb\" target=\"_parent\"><img src=\"https://colab.research.google.com/assets/colab-badge.svg\" alt=\"Open In Colab\"/></a>"
      ]
    },
    {
      "cell_type": "code",
      "metadata": {
        "id": "bkqr73hmjpdg"
      },
      "source": [
        "!pip install bqplot  >/dev/null"
      ],
      "execution_count": 3,
      "outputs": []
    },
    {
      "cell_type": "markdown",
      "metadata": {
        "id": "xaKyfcoPjaOr"
      },
      "source": [
        "This demo uses Voilà to render a notebook to a custom HTML page using gridstack.js for the layout of each output. In the cell metadata you can change the default cell with and height (in grid units between 1 and 12) by specifying.\n",
        " * `grid_row`\n",
        " * `grid_columns`"
      ]
    },
    {
      "cell_type": "code",
      "metadata": {
        "id": "xVDBkPKtjaOw"
      },
      "source": [
        "import numpy as np\n",
        "n = 200\n",
        "\n",
        "x = np.linspace(0.0, 10.0, n)\n",
        "y = np.cumsum(np.random.randn(n)*10).astype(int)\n"
      ],
      "execution_count": null,
      "outputs": []
    },
    {
      "cell_type": "code",
      "metadata": {
        "id": "5gtfbQI5jaOz"
      },
      "source": [
        "import ipywidgets as widgets"
      ],
      "execution_count": null,
      "outputs": []
    },
    {
      "cell_type": "code",
      "metadata": {
        "id": "f2CCLYg5jaOz",
        "colab": {
          "base_uri": "https://localhost:8080/",
          "height": 49,
          "referenced_widgets": [
            "10b15f510a0c4db89e57fb99903796b5",
            "efe4532ebfd84db09f178d4e61d6d0ef",
            "3a4add83385a4c80a1d7edad0dc277a8"
          ]
        },
        "outputId": "5ae8e498-d712-4314-adda-2aadcf14108c"
      },
      "source": [
        "label_selected = widgets.Label(value=\"Selected: 0\")\n",
        "label_selected"
      ],
      "execution_count": null,
      "outputs": [
        {
          "output_type": "display_data",
          "data": {
            "application/vnd.jupyter.widget-view+json": {
              "model_id": "10b15f510a0c4db89e57fb99903796b5",
              "version_minor": 0,
              "version_major": 2
            },
            "text/plain": [
              "Label(value='Selected: 0')"
            ]
          },
          "metadata": {}
        }
      ]
    },
    {
      "cell_type": "code",
      "metadata": {
        "id": "89Bgp-Eyj00F"
      },
      "source": [
        "from google.colab import output\n",
        "output.enable_custom_widget_manager()"
      ],
      "execution_count": null,
      "outputs": []
    },
    {
      "cell_type": "code",
      "metadata": {
        "grid_columns": 8,
        "grid_rows": 4,
        "id": "pIgOWaj8jaO0",
        "colab": {
          "base_uri": "https://localhost:8080/",
          "height": 341,
          "referenced_widgets": [
            "4691d427dcdd4f68bb3e2ebb310feed5",
            "133882fc7e7242ee97319d7c21b25043",
            "ce914b3f9f774b9fb6f5c0397adede43",
            "ee204e7e9a4147cfb9ef862c234cf5bb",
            "3cd8118c99e74c24985f4b8ad7362d15",
            "478327b35c624a0ba5e899c11a8934d6",
            "597854b1adca4c74b92677dc1c2c5512",
            "8075a00dc730475e94504387179eb4f6",
            "a31714e66b164ac281cd5cf7e11a5719"
          ]
        },
        "outputId": "7872349d-abd1-4e39-b3f5-a20bbcd24455"
      },
      "source": [
        "import numpy as np\n",
        "from bqplot import pyplot as plt\n",
        "import bqplot\n",
        "\n",
        "fig = plt.figure( title='Histogram')\n",
        "np.random.seed(0)\n",
        "hist = plt.hist(y, bins=25)\n",
        "hist.scales['sample'].min = float(y.min())\n",
        "hist.scales['sample'].max = float(y.max())\n",
        "display(fig)\n",
        "fig.layout.width = 'auto'\n",
        "fig.layout.height = 'auto'\n",
        "fig.layout.min_height = '300px' # so it shows nicely in the notebook\n",
        "fig.layout.flex = '1'"
      ],
      "execution_count": null,
      "outputs": [
        {
          "output_type": "display_data",
          "data": {
            "application/vnd.jupyter.widget-view+json": {
              "model_id": "4691d427dcdd4f68bb3e2ebb310feed5",
              "version_minor": 0,
              "version_major": 2
            },
            "text/plain": [
              "Figure(axes=[Axis(orientation='vertical', scale=LinearScale()), Axis(scale=LinearScale(max=116.0, min=-102.0))…"
            ]
          },
          "metadata": {
            "application/vnd.jupyter.widget-view+json": {
              "colab": {
                "custom_widget_manager": {
                  "url": "https://ssl.gstatic.com/colaboratory-static/widgets/colab-cdn-widget-manager/a8874ba6619b6106/manager.min.js"
                }
              }
            }
          }
        }
      ]
    },
    {
      "cell_type": "code",
      "metadata": {
        "grid_columns": 12,
        "grid_rows": 6,
        "id": "f5aletm7jaO1",
        "colab": {
          "base_uri": "https://localhost:8080/",
          "height": 341,
          "referenced_widgets": [
            "361d80a6d5bf460aaaad4633fe1e8a9c",
            "551efec20fd943ca9b645615571bb477",
            "87f949c3a6ee49879714cad9b250ba46",
            "1a3e4bb81f524d409dd092f4ff7cde07",
            "c1b1587d4af44dfb9678963ce47e9759",
            "ea27e9a8be48449283659f85e8ae30c7",
            "f9e66eb1b5ed4e7280606944d9759c0f",
            "a03cdc3fe24d411fb4de79e0c233e071",
            "7be965773b7743d6805e0e67a7522ff5",
            "590f68a4573940a48581dfc630be492a"
          ]
        },
        "outputId": "f77d4420-97b1-490c-ed2d-e679f7a52124"
      },
      "source": [
        "import numpy as np\n",
        "from bqplot import pyplot as plt\n",
        "import bqplot\n",
        "\n",
        "fig = plt.figure( title='Line Chart')\n",
        "np.random.seed(0)\n",
        "n = 200\n",
        "p = plt.plot(x, y)\n",
        "fig"
      ],
      "execution_count": null,
      "outputs": [
        {
          "output_type": "display_data",
          "data": {
            "application/vnd.jupyter.widget-view+json": {
              "model_id": "361d80a6d5bf460aaaad4633fe1e8a9c",
              "version_minor": 0,
              "version_major": 2
            },
            "text/plain": [
              "Figure(axes=[Axis(scale=LinearScale()), Axis(orientation='vertical', scale=LinearScale())], fig_margin={'top':…"
            ]
          },
          "metadata": {
            "application/vnd.jupyter.widget-view+json": {
              "colab": {
                "custom_widget_manager": {
                  "url": "https://ssl.gstatic.com/colaboratory-static/widgets/colab-cdn-widget-manager/a8874ba6619b6106/manager.min.js"
                }
              }
            }
          }
        }
      ]
    },
    {
      "cell_type": "code",
      "metadata": {
        "id": "1vSRRNTdjaO2"
      },
      "source": [
        "fig.layout.width = 'auto'\n",
        "fig.layout.height = 'auto'\n",
        "fig.layout.min_height = '300px' # so it shows nicely in the notebook\n",
        "fig.layout.flex = '1'"
      ],
      "execution_count": null,
      "outputs": []
    },
    {
      "cell_type": "code",
      "metadata": {
        "id": "RXs68i4ojaO3"
      },
      "source": [
        "brushintsel = bqplot.interacts.BrushIntervalSelector(scale=p.scales['x'])"
      ],
      "execution_count": null,
      "outputs": []
    },
    {
      "cell_type": "code",
      "metadata": {
        "id": "7UMm9yiKjaO3"
      },
      "source": [
        "def update_range(*args):\n",
        "    label_selected.value = \"Selected range {}\".format(brushintsel.selected)\n",
        "    mask = (x > brushintsel.selected[0]) & (x < brushintsel.selected[1])\n",
        "    hist.sample = y[mask]\n",
        "    \n",
        "brushintsel.observe(update_range, 'selected')\n",
        "fig.interaction = brushintsel"
      ],
      "execution_count": null,
      "outputs": []
    },
    {
      "cell_type": "code",
      "metadata": {
        "id": "lixAu0LWj7Wb"
      },
      "source": [
        ""
      ],
      "execution_count": null,
      "outputs": []
    }
  ]
}