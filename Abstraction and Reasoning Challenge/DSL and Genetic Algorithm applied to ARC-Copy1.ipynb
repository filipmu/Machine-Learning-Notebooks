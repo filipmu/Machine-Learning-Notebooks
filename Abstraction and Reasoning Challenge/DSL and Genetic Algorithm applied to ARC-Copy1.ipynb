{
 "cells": [
  {
   "cell_type": "markdown",
   "metadata": {},
   "source": [
    "# A DSL alongside a Genetic Algorithm applied to the ARC Dataset\n",
    "\n",
    "In this notebook, we present a minimalistic *Domain Specific Language* for some ARC tasks. We also implement an evaluation function able to run a such program against an input image.\n",
    "\n",
    "In a second time, we implement a simple genetic algorithm that is able to generate programs written in this DSL and demonstrate its usage on an ARC task.\n",
    "\n",
    "!!begin"
   ]
  },
  {
   "cell_type": "markdown",
   "metadata": {},
   "source": [
    "### Additions\n",
    "\n",
    "* Added function to increase size of images - provides ability to representation on a 90x90 grid providing space around the image\n",
    "* Additional scratchpad in the image - hidden colors on top of existing to indicate awareness of patterns to next operators - can be used for identifying filling, size/rank of objects, boundaries, special pixels, other features - this may not be necessary, since operators create multiple images, and other operators combine them.\n",
    "* create operators "
   ]
  },
  {
   "cell_type": "code",
   "execution_count": 68,
   "metadata": {},
   "outputs": [],
   "source": [
    "%matplotlib inline"
   ]
  },
  {
   "cell_type": "code",
   "execution_count": 69,
   "metadata": {},
   "outputs": [],
   "source": [
    "import functools\n",
    "import operator\n",
    "## see https://stackoverflow.com/questions/952914/how-to-make-a-flat-list-out-of-list-of-lists\n",
    "def list_flatten(a):\n",
    "    return functools.reduce(operator.iconcat, a, [])"
   ]
  },
  {
   "cell_type": "code",
   "execution_count": 70,
   "metadata": {
    "_cell_guid": "b1076dfc-b9ad-4769-8c92-a6c4dae69d19",
    "_uuid": "8f2839f25d086af736a60e9eeb907d3b93b6e0e5"
   },
   "outputs": [],
   "source": [
    "import numpy as np\n",
    "import pandas as pd\n",
    "import itertools\n",
    "import random\n",
    "\n",
    "import os\n",
    "import json\n",
    "from pathlib import Path\n",
    "\n",
    "import matplotlib.pyplot as plt\n",
    "from matplotlib import colors\n",
    "\n",
    "import ast\n",
    "import re \n",
    "\n",
    "from joblib import Parallel, delayed\n",
    "import multiprocessing\n",
    "\n",
    "#data_path = Path('/kaggle/input/abstraction-and-reasoning-challenge/')\n",
    "\n",
    "data_path = Path('/media/SSD/Abstraction and Reasoning/')\n",
    "training_path = data_path / 'training'\n",
    "test_path = data_path / 'test'\n",
    "program_path = data_path/'programs'\n",
    "\n",
    "training_tasks = sorted(os.listdir(training_path))\n",
    "testing_tasks = sorted(os.listdir(test_path))\n"
   ]
  },
  {
   "cell_type": "markdown",
   "metadata": {},
   "source": [
    "# Plotting\n",
    "\n",
    "!!plot"
   ]
  },
  {
   "cell_type": "code",
   "execution_count": 71,
   "metadata": {},
   "outputs": [],
   "source": [
    "#\n",
    "# This code is used to display a task\n",
    "# It accepts 11 colors, one more than the images, in case we want to use it\n",
    "# \n",
    "\n",
    "cmap = colors.ListedColormap(\n",
    "        ['#000000', '#0074D9','#FF4136','#2ECC40','#FFDC00',\n",
    "         '#AAAAAA', '#F012BE', '#FF851B', '#7FDBFF', '#870C25','#4a4d4a'])\n",
    "norm = colors.Normalize(vmin=0, vmax=10)\n",
    "def plot_one(ax,task, i,train_or_test,input_or_output):\n",
    "    cmap = colors.ListedColormap(\n",
    "        ['#000000', '#0074D9','#FF4136','#2ECC40','#FFDC00',\n",
    "         '#AAAAAA', '#F012BE', '#FF851B', '#7FDBFF', '#870C25','#4a4d4a'])\n",
    "    norm = colors.Normalize(vmin=0, vmax=10)\n",
    "    \n",
    "    try:\n",
    "        input_matrix = task[train_or_test][i][input_or_output]\n",
    "    except KeyError:\n",
    "        print(\"No\",train_or_test,input_or_output)\n",
    "    \n",
    "    else:\n",
    "    \n",
    "        ax.imshow(input_matrix, cmap=cmap, norm=norm)\n",
    "        ax.grid(True,which='both',color='lightgrey', linewidth=0.5)    \n",
    "        ax.set_yticks([x-0.5 for x in range(1+len(input_matrix))])\n",
    "        ax.set_xticks([x-0.5 for x in range(1+len(input_matrix[0]))])     \n",
    "        ax.set_xticklabels([])\n",
    "        ax.set_yticklabels([])\n",
    "        ax.set_title(train_or_test + ' '+input_or_output)\n",
    "    \n",
    "\n",
    "def plot_task(task):\n",
    "    \"\"\"\n",
    "    Plots the first train and test pairs of a specified task,\n",
    "    using same color scheme as the ARC app\n",
    "    \"\"\"    \n",
    "    num_train = len(task['train'])\n",
    "    fig, axs = plt.subplots(2, num_train, figsize=(3*num_train,3*2))\n",
    "    for i in range(num_train):     \n",
    "        plot_one(axs[0,i],task,i,'train','input')\n",
    "        plot_one(axs[1,i],task,i,'train','output')        \n",
    "    plt.tight_layout()\n",
    "    plt.show()        \n",
    "        \n",
    "    num_test = len(task['test'])\n",
    "    fig, axs = plt.subplots(2, num_test, figsize=(3*num_test,3*2))\n",
    "    if num_test==1: \n",
    "        plot_one(axs[0],task,0,'test','input')\n",
    "        plot_one(axs[1],task,0,'test','output')     \n",
    "    else:\n",
    "        for i in range(num_test):      \n",
    "            plot_one(axs[0,i],task,i,'test','input')\n",
    "            plot_one(axs[1,i],task,i,'test','output')  \n",
    "    plt.tight_layout()\n",
    "    plt.show() \n",
    "\n",
    "    \n",
    "# Display each output of the function\n",
    "def show_image_list(images):\n",
    "    \"\"\" Show each image contained in a list. \"\"\"\n",
    "    p = plt.figure(figsize=[17,5]).subplots(1, len(images))\n",
    "    \n",
    "    if len(images) > 1:\n",
    "        for i, image in enumerate(images):\n",
    "            p[i].imshow(image, cmap=cmap, norm=norm)\n",
    "    elif len(images) == 1:\n",
    "        p.imshow(images[0], cmap=cmap, norm=norm)\n",
    "    \n",
    "    plt.show()"
   ]
  },
  {
   "cell_type": "markdown",
   "metadata": {},
   "source": [
    "## Using some logical rule detection for analyzing the examples"
   ]
  },
  {
   "cell_type": "code",
   "execution_count": 72,
   "metadata": {},
   "outputs": [],
   "source": [
    "data_frame = pd.DataFrame({'a': [0,1,1,1,0], 'b': [0,1,0,1,0], 'c': [0,0,0,1,0], 'd':[0,0,0,1,1], 'e': [1,1,1,1,0], 'f': [1,1,0,1,0], 'g': [0,1,1,0,0], 'h': [0,1,0,0,0], 'i': [0,0,0,0,0]})"
   ]
  },
  {
   "cell_type": "code",
   "execution_count": 73,
   "metadata": {},
   "outputs": [],
   "source": [
    "data_frame = pd.DataFrame.from_dict({'1': [0,1,1,1,0], '2': [0,1,0,1,0], '3': [0,0,0,1,0], '4':[0,0,0,1,1], '5': [1,1,1,1,0], '6': [1,1,0,1,0], '7': [0,1,1,0,0], '8': [0,1,0,0,0], '9': [0,0,0,0,0]}, orient='index', columns = ['a','b','c','d','e'])"
   ]
  },
  {
   "cell_type": "code",
   "execution_count": 74,
   "metadata": {},
   "outputs": [
    {
     "data": {
      "text/html": [
       "<div>\n",
       "<style scoped>\n",
       "    .dataframe tbody tr th:only-of-type {\n",
       "        vertical-align: middle;\n",
       "    }\n",
       "\n",
       "    .dataframe tbody tr th {\n",
       "        vertical-align: top;\n",
       "    }\n",
       "\n",
       "    .dataframe thead th {\n",
       "        text-align: right;\n",
       "    }\n",
       "</style>\n",
       "<table border=\"1\" class=\"dataframe\">\n",
       "  <thead>\n",
       "    <tr style=\"text-align: right;\">\n",
       "      <th></th>\n",
       "      <th>a</th>\n",
       "      <th>b</th>\n",
       "      <th>c</th>\n",
       "      <th>d</th>\n",
       "      <th>e</th>\n",
       "    </tr>\n",
       "  </thead>\n",
       "  <tbody>\n",
       "    <tr>\n",
       "      <th>1</th>\n",
       "      <td>0</td>\n",
       "      <td>1</td>\n",
       "      <td>1</td>\n",
       "      <td>1</td>\n",
       "      <td>0</td>\n",
       "    </tr>\n",
       "    <tr>\n",
       "      <th>2</th>\n",
       "      <td>0</td>\n",
       "      <td>1</td>\n",
       "      <td>0</td>\n",
       "      <td>1</td>\n",
       "      <td>0</td>\n",
       "    </tr>\n",
       "    <tr>\n",
       "      <th>3</th>\n",
       "      <td>0</td>\n",
       "      <td>0</td>\n",
       "      <td>0</td>\n",
       "      <td>1</td>\n",
       "      <td>0</td>\n",
       "    </tr>\n",
       "    <tr>\n",
       "      <th>4</th>\n",
       "      <td>0</td>\n",
       "      <td>0</td>\n",
       "      <td>0</td>\n",
       "      <td>1</td>\n",
       "      <td>1</td>\n",
       "    </tr>\n",
       "    <tr>\n",
       "      <th>5</th>\n",
       "      <td>1</td>\n",
       "      <td>1</td>\n",
       "      <td>1</td>\n",
       "      <td>1</td>\n",
       "      <td>0</td>\n",
       "    </tr>\n",
       "    <tr>\n",
       "      <th>6</th>\n",
       "      <td>1</td>\n",
       "      <td>1</td>\n",
       "      <td>0</td>\n",
       "      <td>1</td>\n",
       "      <td>0</td>\n",
       "    </tr>\n",
       "    <tr>\n",
       "      <th>7</th>\n",
       "      <td>0</td>\n",
       "      <td>1</td>\n",
       "      <td>1</td>\n",
       "      <td>0</td>\n",
       "      <td>0</td>\n",
       "    </tr>\n",
       "    <tr>\n",
       "      <th>8</th>\n",
       "      <td>0</td>\n",
       "      <td>1</td>\n",
       "      <td>0</td>\n",
       "      <td>0</td>\n",
       "      <td>0</td>\n",
       "    </tr>\n",
       "    <tr>\n",
       "      <th>9</th>\n",
       "      <td>0</td>\n",
       "      <td>0</td>\n",
       "      <td>0</td>\n",
       "      <td>0</td>\n",
       "      <td>0</td>\n",
       "    </tr>\n",
       "  </tbody>\n",
       "</table>\n",
       "</div>"
      ],
      "text/plain": [
       "   a  b  c  d  e\n",
       "1  0  1  1  1  0\n",
       "2  0  1  0  1  0\n",
       "3  0  0  0  1  0\n",
       "4  0  0  0  1  1\n",
       "5  1  1  1  1  0\n",
       "6  1  1  0  1  0\n",
       "7  0  1  1  0  0\n",
       "8  0  1  0  0  0\n",
       "9  0  0  0  0  0"
      ]
     },
     "execution_count": 74,
     "metadata": {},
     "output_type": "execute_result"
    }
   ],
   "source": [
    "data_frame"
   ]
  },
  {
   "cell_type": "code",
   "execution_count": 75,
   "metadata": {},
   "outputs": [],
   "source": [
    "data_frame[\"na\"] = 1-data_frame['a']"
   ]
  },
  {
   "cell_type": "code",
   "execution_count": 76,
   "metadata": {},
   "outputs": [],
   "source": [
    "data_frame[\"nb\"] = 1-data_frame['b']\n",
    "data_frame[\"nc\"] = 1-data_frame['c']\n",
    "data_frame[\"nd\"] = 1-data_frame['d']\n",
    "data_frame[\"ne\"] = 1-data_frame['e']"
   ]
  },
  {
   "cell_type": "markdown",
   "metadata": {},
   "source": [
    "Item Tree Analysis\n",
    "\n",
    "https://github.com/milansegedinac/kst\n",
    "https://en.wikipedia.org/wiki/Item_tree_analysis"
   ]
  },
  {
   "cell_type": "code",
   "execution_count": 77,
   "metadata": {},
   "outputs": [],
   "source": [
    "from kst import iita\n",
    "from kst import hasse"
   ]
  },
  {
   "cell_type": "code",
   "execution_count": 78,
   "metadata": {},
   "outputs": [],
   "source": [
    "response = iita(data_frame, v=1)"
   ]
  },
  {
   "cell_type": "code",
   "execution_count": 93,
   "metadata": {},
   "outputs": [
    {
     "name": "stdout",
     "output_type": "stream",
     "text": [
      "[(2, 1), (4, 3), (8, 5), (4, 6), (0, 3), (6, 7), (6, 5), (8, 9), (0, 1), (1, 9)]\n"
     ]
    },
    {
     "data": {
      "image/png": "[encoded data removed]",
      "text/plain": [
       "<Figure size 432x288 with 1 Axes>"
      ]
     },
     "metadata": {
      "needs_background": "light"
     },
     "output_type": "display_data"
    },
    {
     "data": {
      "text/plain": [
       "[]"
      ]
     },
     "execution_count": 93,
     "metadata": {},
     "output_type": "execute_result"
    }
   ],
   "source": [
    "hasse(response['implications'],10,labels = list(data_frame))"
   ]
  },
  {
   "cell_type": "code",
   "execution_count": 80,
   "metadata": {},
   "outputs": [],
   "source": [
    "from sklearn import tree"
   ]
  },
  {
   "cell_type": "code",
   "execution_count": 81,
   "metadata": {},
   "outputs": [],
   "source": [
    "clf = tree.DecisionTreeClassifier()"
   ]
  },
  {
   "cell_type": "code",
   "execution_count": 82,
   "metadata": {},
   "outputs": [
    {
     "data": {
      "text/html": [
       "<div>\n",
       "<style scoped>\n",
       "    .dataframe tbody tr th:only-of-type {\n",
       "        vertical-align: middle;\n",
       "    }\n",
       "\n",
       "    .dataframe tbody tr th {\n",
       "        vertical-align: top;\n",
       "    }\n",
       "\n",
       "    .dataframe thead th {\n",
       "        text-align: right;\n",
       "    }\n",
       "</style>\n",
       "<table border=\"1\" class=\"dataframe\">\n",
       "  <thead>\n",
       "    <tr style=\"text-align: right;\">\n",
       "      <th></th>\n",
       "      <th>a</th>\n",
       "      <th>b</th>\n",
       "      <th>c</th>\n",
       "      <th>d</th>\n",
       "      <th>e</th>\n",
       "      <th>na</th>\n",
       "      <th>nb</th>\n",
       "      <th>nc</th>\n",
       "      <th>nd</th>\n",
       "      <th>ne</th>\n",
       "    </tr>\n",
       "  </thead>\n",
       "  <tbody>\n",
       "    <tr>\n",
       "      <th>1</th>\n",
       "      <td>0</td>\n",
       "      <td>1</td>\n",
       "      <td>1</td>\n",
       "      <td>1</td>\n",
       "      <td>0</td>\n",
       "      <td>1</td>\n",
       "      <td>0</td>\n",
       "      <td>0</td>\n",
       "      <td>0</td>\n",
       "      <td>1</td>\n",
       "    </tr>\n",
       "    <tr>\n",
       "      <th>2</th>\n",
       "      <td>0</td>\n",
       "      <td>1</td>\n",
       "      <td>0</td>\n",
       "      <td>1</td>\n",
       "      <td>0</td>\n",
       "      <td>1</td>\n",
       "      <td>0</td>\n",
       "      <td>1</td>\n",
       "      <td>0</td>\n",
       "      <td>1</td>\n",
       "    </tr>\n",
       "    <tr>\n",
       "      <th>3</th>\n",
       "      <td>0</td>\n",
       "      <td>0</td>\n",
       "      <td>0</td>\n",
       "      <td>1</td>\n",
       "      <td>0</td>\n",
       "      <td>1</td>\n",
       "      <td>1</td>\n",
       "      <td>1</td>\n",
       "      <td>0</td>\n",
       "      <td>1</td>\n",
       "    </tr>\n",
       "    <tr>\n",
       "      <th>4</th>\n",
       "      <td>0</td>\n",
       "      <td>0</td>\n",
       "      <td>0</td>\n",
       "      <td>1</td>\n",
       "      <td>1</td>\n",
       "      <td>1</td>\n",
       "      <td>1</td>\n",
       "      <td>1</td>\n",
       "      <td>0</td>\n",
       "      <td>0</td>\n",
       "    </tr>\n",
       "    <tr>\n",
       "      <th>5</th>\n",
       "      <td>1</td>\n",
       "      <td>1</td>\n",
       "      <td>1</td>\n",
       "      <td>1</td>\n",
       "      <td>0</td>\n",
       "      <td>0</td>\n",
       "      <td>0</td>\n",
       "      <td>0</td>\n",
       "      <td>0</td>\n",
       "      <td>1</td>\n",
       "    </tr>\n",
       "    <tr>\n",
       "      <th>6</th>\n",
       "      <td>1</td>\n",
       "      <td>1</td>\n",
       "      <td>0</td>\n",
       "      <td>1</td>\n",
       "      <td>0</td>\n",
       "      <td>0</td>\n",
       "      <td>0</td>\n",
       "      <td>1</td>\n",
       "      <td>0</td>\n",
       "      <td>1</td>\n",
       "    </tr>\n",
       "    <tr>\n",
       "      <th>7</th>\n",
       "      <td>0</td>\n",
       "      <td>1</td>\n",
       "      <td>1</td>\n",
       "      <td>0</td>\n",
       "      <td>0</td>\n",
       "      <td>1</td>\n",
       "      <td>0</td>\n",
       "      <td>0</td>\n",
       "      <td>1</td>\n",
       "      <td>1</td>\n",
       "    </tr>\n",
       "    <tr>\n",
       "      <th>8</th>\n",
       "      <td>0</td>\n",
       "      <td>1</td>\n",
       "      <td>0</td>\n",
       "      <td>0</td>\n",
       "      <td>0</td>\n",
       "      <td>1</td>\n",
       "      <td>0</td>\n",
       "      <td>1</td>\n",
       "      <td>1</td>\n",
       "      <td>1</td>\n",
       "    </tr>\n",
       "    <tr>\n",
       "      <th>9</th>\n",
       "      <td>0</td>\n",
       "      <td>0</td>\n",
       "      <td>0</td>\n",
       "      <td>0</td>\n",
       "      <td>0</td>\n",
       "      <td>1</td>\n",
       "      <td>1</td>\n",
       "      <td>1</td>\n",
       "      <td>1</td>\n",
       "      <td>1</td>\n",
       "    </tr>\n",
       "  </tbody>\n",
       "</table>\n",
       "</div>"
      ],
      "text/plain": [
       "   a  b  c  d  e  na  nb  nc  nd  ne\n",
       "1  0  1  1  1  0   1   0   0   0   1\n",
       "2  0  1  0  1  0   1   0   1   0   1\n",
       "3  0  0  0  1  0   1   1   1   0   1\n",
       "4  0  0  0  1  1   1   1   1   0   0\n",
       "5  1  1  1  1  0   0   0   0   0   1\n",
       "6  1  1  0  1  0   0   0   1   0   1\n",
       "7  0  1  1  0  0   1   0   0   1   1\n",
       "8  0  1  0  0  0   1   0   1   1   1\n",
       "9  0  0  0  0  0   1   1   1   1   1"
      ]
     },
     "execution_count": 82,
     "metadata": {},
     "output_type": "execute_result"
    }
   ],
   "source": [
    "data_frame"
   ]
  },
  {
   "cell_type": "code",
   "execution_count": 83,
   "metadata": {},
   "outputs": [
    {
     "data": {
      "text/plain": [
       "[Text(200.88000000000002, 181.2, 'X[1] <= 0.5\\ngini = 0.198\\nsamples = 9\\nvalue = [1, 8]'),\n",
       " Text(133.92000000000002, 108.72, 'X[3] <= 0.5\\ngini = 0.444\\nsamples = 3\\nvalue = [1, 2]'),\n",
       " Text(66.96000000000001, 36.23999999999998, 'gini = 0.0\\nsamples = 1\\nvalue = [0, 1]'),\n",
       " Text(200.88000000000002, 36.23999999999998, 'gini = 0.5\\nsamples = 2\\nvalue = [1, 1]'),\n",
       " Text(267.84000000000003, 108.72, 'gini = 0.0\\nsamples = 6\\nvalue = [0, 6]')]"
      ]
     },
     "execution_count": 83,
     "metadata": {},
     "output_type": "execute_result"
    },
    {
     "data": {
      "image/png": "[encoded data removed]",
      "text/plain": [
       "<Figure size 432x288 with 1 Axes>"
      ]
     },
     "metadata": {
      "needs_background": "light"
     },
     "output_type": "display_data"
    }
   ],
   "source": [
    "tree.plot_tree(clf.fit(data_frame[['a','b','c','d']], data_frame[['ne']]))"
   ]
  },
  {
   "cell_type": "code",
   "execution_count": 84,
   "metadata": {},
   "outputs": [
    {
     "name": "stdout",
     "output_type": "stream",
     "text": [
      "|--- b <= 0.50\n",
      "|   |--- d <= 0.50\n",
      "|   |   |--- class: 1\n",
      "|   |--- d >  0.50\n",
      "|   |   |--- class: 0\n",
      "|--- b >  0.50\n",
      "|   |--- class: 1\n",
      "\n"
     ]
    }
   ],
   "source": [
    "print(tree.export_text(clf.fit(data_frame[['a','b','c','d']], data_frame[['ne']]),feature_names = ['a','b','c','d']))"
   ]
  },
  {
   "cell_type": "code",
   "execution_count": 85,
   "metadata": {},
   "outputs": [
    {
     "data": {
      "text/plain": [
       "[Text(200.88000000000002, 181.2, 'X[1] <= 0.5\\ngini = 0.198\\nsamples = 9\\nvalue = [8, 1]'),\n",
       " Text(133.92000000000002, 108.72, 'X[3] <= 0.5\\ngini = 0.444\\nsamples = 3\\nvalue = [2, 1]'),\n",
       " Text(66.96000000000001, 36.23999999999998, 'gini = 0.0\\nsamples = 1\\nvalue = [1, 0]'),\n",
       " Text(200.88000000000002, 36.23999999999998, 'gini = 0.5\\nsamples = 2\\nvalue = [1, 1]'),\n",
       " Text(267.84000000000003, 108.72, 'gini = 0.0\\nsamples = 6\\nvalue = [6, 0]')]"
      ]
     },
     "execution_count": 85,
     "metadata": {},
     "output_type": "execute_result"
    },
    {
     "data": {
      "image/png": "[encoded data removed]",
      "text/plain": [
       "<Figure size 432x288 with 1 Axes>"
      ]
     },
     "metadata": {
      "needs_background": "light"
     },
     "output_type": "display_data"
    }
   ],
   "source": [
    "tree.plot_tree(clf.fit(data_frame[['a','b','c','d']], data_frame[['e']]))"
   ]
  },
  {
   "cell_type": "markdown",
   "metadata": {},
   "source": [
    "# Task Analysis Functions\n",
    "Used to characterize facts about a task\n",
    "\n",
    "\n",
    "!!analysis"
   ]
  },
  {
   "cell_type": "code",
   "execution_count": 86,
   "metadata": {},
   "outputs": [],
   "source": [
    "\n",
    "\n",
    "def analyze_size(task, ignore_test_after = True):\n",
    "    \n",
    "    #print(\"\\n\\nSize\")\n",
    "    \n",
    "    \n",
    "    # scan befores training and test\n",
    "    di=np.zeros((0,2),int)\n",
    "    for i, t in enumerate(task[\"train\"]):\n",
    "        t_in = np.array(t[\"input\"])\n",
    "        di = np.vstack([di, t_in.shape])\n",
    "    \n",
    "    for i, t in enumerate(task[\"test\"]):\n",
    "        t_in = np.array(t[\"input\"])\n",
    "        di = np.vstack([di, t_in.shape])\n",
    "    #print(di) \n",
    "    \n",
    "    # scan afters training and test\n",
    "    do=np.zeros((0,2),int)\n",
    "    for i, t in enumerate(task[\"train\"]):\n",
    "        t_in = np.array(t[\"output\"])\n",
    "        do = np.vstack([do, t_in.shape])\n",
    "    \n",
    "    if not ignore_test_after:\n",
    "        for i, t in enumerate(task[\"test\"]):\n",
    "            t_in = np.array(t[\"input\"])\n",
    "            do = np.vstack([do, t_in.shape])\n",
    "    #print(do)        \n",
    "    \n",
    "    \n",
    "    \n",
    "    \n",
    "    \n",
    "    d=np.zeros((len(task[\"train\"]),4),int)\n",
    "    \n",
    "    \n",
    "    for i, t in enumerate(task[\"train\"]):\n",
    "        t_in, t_out = np.array(t[\"input\"]), np.array(t[\"output\"])\n",
    "        d[i] = [t_in.shape[0], t_in.shape[1], t_out.shape[0], t_out.shape[1]]\n",
    "    \n",
    "    \n",
    "    \n",
    "    d2=np.zeros((len(task[\"test\"]),2),int)\n",
    "    for i, t in enumerate(task[\"test\"]):\n",
    "        t_in = np.array(t[\"input\"])\n",
    "        d2[i] = [t_in.shape[0], t_in.shape[1]]\n",
    "\n",
    "\n",
    "    #before_vert_test_train = np.unique(np.concatenate((d[:,0],d2[:,0])))\n",
    "    #before_hor_test_train = np.unique(np.concatenate((d[:,1],d2[:,1])))\n",
    "    \n",
    "    before_vert_test_train = np.unique(di[:,0])\n",
    "    before_hor_test_train = np.unique(di[:,1])\n",
    "   \n",
    "            \n",
    "            \n",
    "    #before_vert = np.unique(d[:,0])\n",
    "    #before_hor = np.unique(d[:,1])\n",
    "    #after_vert = np.unique(d[:,2])\n",
    "    #after_hor = np.unique(d[:,3])\n",
    "    \n",
    "    before_vert = np.unique(di[:,0])\n",
    "    before_hor = np.unique(di[:,1])\n",
    "    after_vert = np.unique(do[:,0])\n",
    "    after_hor = np.unique(do[:,1])\n",
    "    \n",
    "    #print(\"Unique before vertical:\",before_vert_test_train)    \n",
    "    #print(\"Unique before horizontal:\",before_hor_test_train)\n",
    "    #print(\"Unique after vertical:\",after_vert)\n",
    "    #print(\"Unique after horizontal:\",after_hor)\n",
    "    \n",
    "    \n",
    "    \n",
    "    ## Before == const 1 and After == Const 2\n",
    "    test1_before_vert = len(before_vert_test_train)  == 1\n",
    "    test1_after_vert = len(after_vert) == 1\n",
    "    test1_vert = test1_before_vert and test1_after_vert\n",
    "    \n",
    "    test1_before_hor = len(before_hor_test_train)  == 1\n",
    "    test1_after_hor = len(after_hor) == 1\n",
    "    test1_hor = test1_before_hor  == 1 and test1_after_hor\n",
    "    \n",
    "    ## Before == After == const\n",
    "    test2_vert = test1_vert and before_vert_test_train[0] == after_vert[0]\n",
    "    test2_hor = test1_hor and before_hor_test_train[0] == after_hor[0]\n",
    "    \n",
    "    ## Before(i) == After(i) all i\n",
    "    #test3_vert = np.all(d[:,0] == d[:,2])\n",
    "    #test3_hor = np.all(d[:,1] == d[:,3])\n",
    "    test3_vert = np.all(di[0:do.shape[0],0] == do[:,0])  # ignore any outputs without inputs\n",
    "    test3_hor = np.all(di[0:do.shape[0],1] == do[:,1])\n",
    "    \n",
    "    ##Test all Before are square\n",
    "    #test4 = np.all(np.concatenate((d[:,0],d2[:,0])) == np.concatenate((d[:,1],d2[:,1])))\n",
    "    test4 = np.all(di[:,0] == di[:,1])\n",
    "    \n",
    "    ## Test all After are square\n",
    "    #test5 = np.all(d[:,2] == d[:,3])\n",
    "    test5 = np.all(do[:,0] == do[:,1])\n",
    "\n",
    "    if test1_before_vert:\n",
    "        #print(\"Vertical: All Before ==\",before_vert[0])\n",
    "        test1_before_vert = before_vert[0]\n",
    "\n",
    "    if test1_before_hor:\n",
    "        #print(\"Horizontal: All Before ==\",before_hor[0])\n",
    "        test1_before_hor = before_hor[0]\n",
    "        \n",
    "    if test1_after_vert:\n",
    "        #print(\"Vertical: All After ==\",after_vert[0])\n",
    "        test1_after_vert = after_vert[0]\n",
    "\n",
    "    if test1_after_hor:\n",
    "        #print(\"Horizontal: All After ==\",after_hor[0])\n",
    "        test1_after_hor = after_hor[0]       \n",
    "                    \n",
    "    \n",
    "    if test2_vert:\n",
    "        #print(\"Vertical: All Before == After  == const : \", before_vert[0])\n",
    "        test2_vert = before_vert[0]\n",
    "    \n",
    "    if test2_hor:\n",
    "        #print(\"Horizontal: All Before == After  == const : \", before_hor[0])\n",
    "        test2_hor = before_hor[0]\n",
    "        \n",
    "    #if test3_vert:\n",
    "        #print(\"Vertical: For all i Before(i) == After(i) == const:\",d[:,0])\n",
    "        \n",
    "    \n",
    "    #if test3_hor:\n",
    "        #print(\"Horizontal: For all i Before(i) == After(i) == const:\",d[:,1])\n",
    "\n",
    "        \n",
    "    #if test4:\n",
    "        #print(\"All Befores are square.\")\n",
    "    #if test5:\n",
    "        #print(\"All Afters are square\")\n",
    "      \n",
    "    dt = {}\n",
    "    dt[\"Befores are Square\"] = test4\n",
    "    dt[\"Afters are Square\"] = test5\n",
    "    dt[\"All Befores have same Vertical\"] = test1_before_vert\n",
    "    dt[\"All Befores have same Horizontal\"] = test1_before_hor\n",
    "    dt[\"All Afters have same Vertical\"] = test1_after_vert\n",
    "    dt[\"All Afters have same Horizontal\"] = test1_after_hor\n",
    "    dt[\"All Befores and Afters have same Vertical\"] = test2_vert\n",
    "    dt[\"All Befores and Afters have same Horizontal\"] = test2_hor\n",
    "    dt[\"Every Before and After has same Vertical\"] = test3_vert\n",
    "    dt[\"Every Before and After has same Horizontal\"] = test3_hor\n",
    "    \n",
    "    \n",
    "    return dt"
   ]
  },
  {
   "cell_type": "code",
   "execution_count": 87,
   "metadata": {},
   "outputs": [],
   "source": [
    "def analyze_color(task, ignore_test_after = True):\n",
    "    #print(\"\\n\\nColor\")\n",
    "    b=[]\n",
    "    a=[]\n",
    "    dt={}\n",
    "    \n",
    "    after_m_before={}\n",
    "    before_m_after={}\n",
    "    before_after_union={}\n",
    "    before_after_intersection={}\n",
    "    before_after_symdiff={}\n",
    "    \n",
    "    before_sets=[]\n",
    "    after_sets=[]\n",
    "    \n",
    "    unions_after_m_before=set()\n",
    "    \n",
    "    for i, t in enumerate(task[\"train\"]):\n",
    "        \n",
    "        before_set = set(list_flatten(t[\"input\"]))\n",
    "        after_set = set(list_flatten(t[\"output\"]))\n",
    "        \n",
    "\n",
    "        \n",
    "        before_sets.append(before_set)\n",
    "        after_sets.append(after_set)\n",
    "        \n",
    "        \n",
    "        after_m_before[i] = after_set-before_set\n",
    "        before_m_after[i] = before_set-after_set\n",
    "        before_after_union[i] = before_set | after_set\n",
    "        before_after_intersection[i]=before_set & after_set\n",
    "        before_after_symdiff[i] = before_set ^ after_set\n",
    "        \n",
    "        # collect some sets across the examples\n",
    "        \n",
    "        if i == 0:\n",
    "            before_intersections = before_set\n",
    "            after_intersections = after_set\n",
    "            before_m_after_intersections = before_m_after[i]\n",
    "        else:\n",
    "            before_intersections = before_intersections & before_set\n",
    "            after_intersections = after_intersections & after_set\n",
    "            before_m_after_intersections = before_m_after_intersections & before_m_after[i]        \n",
    "        \n",
    "        unions_after_m_before = unions_after_m_before | after_m_before[i]\n",
    "        \n",
    "        \n",
    "        \n",
    "        #print(\"\\nbefore set=\",before_set)\n",
    "        #print(\"after set=\",after_set)\n",
    "        #print(\"Union=\",before_after_union[i])\n",
    "        #print(\"Intersection=\",before_after_intersection[i])\n",
    "        #print(\"before-after set=\",before_m_after[i])\n",
    "        #print(\"after-before set=\", after_m_before[i])\n",
    "        #print(\"Symm Diff=\",before_after_symdiff[i])\n",
    "        \n",
    "        # Get some counts\n",
    "        \n",
    "        t_in, t_out = np.array(t[\"input\"]), np.array(t[\"output\"])\n",
    "        before_unique, before_counts = np.unique(t_in,return_counts=True)\n",
    "        after_unique, after_counts = np.unique(t_out,return_counts=True)\n",
    "        #print(\"i=\",i,\" before=\",before_unique,\" after=\", after_unique)\n",
    "        b.append(before_unique)\n",
    "        a.append(after_unique)\n",
    "        \n",
    "\n",
    "        \n",
    "    bt=[]    \n",
    "    for i, t in enumerate(task[\"test\"]):\n",
    "        \n",
    "        before_set = set(list_flatten(t[\"input\"]))\n",
    "        before_sets.append(before_set)\n",
    "        \n",
    "        before_intersections = before_intersections & before_set\n",
    "        \n",
    "        t_in = np.array(t[\"input\"])\n",
    "        before_unique, before_counts = np.unique(t_in,return_counts=True)\n",
    "        bt.append(before_unique)\n",
    "        #print(\"i=\",i,\" before=\",before_unique)\n",
    "        \n",
    "        # Get some counts\n",
    "        t_in = np.array(t[\"input\"])\n",
    "        before_unique, before_counts = np.unique(t_in,return_counts=True)\n",
    "        b.append(before_unique)\n",
    "        \n",
    "        if not ignore_test_after and len(t)>1:  # check if there is an after test example\n",
    "            \n",
    "            after_set = set(list_flatten(t[\"output\"]))\n",
    "            after_sets.append(after_set)\n",
    " \n",
    "            after_m_before[i] = after_set-before_set\n",
    "            before_m_after[i] = before_set-after_set\n",
    "            before_after_union[i] = before_set | after_set\n",
    "            before_after_intersection[i]=before_set & after_set\n",
    "            before_after_symdiff[i] = before_set ^ after_set\n",
    "\n",
    "            # collect some sets across the examples\n",
    "            before_intersections = before_intersections & before_set\n",
    "            after_intersections = after_intersections & after_set\n",
    "            before_m_after_intersections = before_m_after_intersections & before_m_after[i]        \n",
    "        \n",
    "            unions_after_m_before = unions_after_m_before | after_m_before[i]\n",
    "\n",
    "            # Get some counts\n",
    "        \n",
    "            t_out = np.array(t[\"output\"])\n",
    "            print(\"t_out=\",t_out)\n",
    "            after_unique, after_counts = np.unique(t_out,return_counts=True)\n",
    "            a.append(after_unique)\n",
    "        \n",
    "        #unique colors that match\n",
    "        \n",
    "        #colors of unchanged pixels before and after\n",
    "        \n",
    "        \n",
    "        #Colors not in common in the befores\n",
    "        not_common_in_befores = set()\n",
    "        for i,s in enumerate(before_sets):\n",
    "            not_common_in_befores = not_common_in_befores | (s - before_intersections)\n",
    "        \n",
    "        #Colors not in common in the afters\n",
    "        not_common_in_afters = set()\n",
    "        for i,s in enumerate(after_sets):\n",
    "            not_common_in_afters = not_common_in_afters | (s - after_intersections)\n",
    "            \n",
    "    #print(\"Common colors=\"),before_intersections & after_intersections)\n",
    "    #print(\"Common colors in all Befores=\",before_intersections)\n",
    "    #print(\"Common colors in all Afters=\",after_intersections)\n",
    "    #print(\"Common colors taken from all Befores (Intersection of all Before-After)=\",before_m_after_intersections)\n",
    "    #print(\"All Colors Added to Afters (Union of all After-Before)=\",unions_after_m_before)\n",
    "    #print(\"Colors not common in Befores=\",not_common_in_befores)\n",
    "    #print(\"Colors not common in Afters=\",not_common_in_afters)\n",
    "    \n",
    "    dt={}\n",
    "    dt[\"Common colors\"] = before_intersections & after_intersections\n",
    "    dt[\"Common colors in all Befores\"] = before_intersections\n",
    "    dt[\"Common colors in all Afters\"] = after_intersections\n",
    "    dt[\"Common colors taken from all Befores\"] = before_m_after_intersections\n",
    "    dt[\"Colors not common in Befores\"] = not_common_in_befores\n",
    "    dt[\"Colors not common in Afters\"] = not_common_in_afters\n",
    "    \n",
    "    return dt"
   ]
  },
  {
   "cell_type": "code",
   "execution_count": 188,
   "metadata": {},
   "outputs": [],
   "source": [
    "def logic_color(task, ignore_test_after = True):\n",
    "    \n",
    "    color_b = np.zeros((len(task[\"train\"]),11), dtype=int)\n",
    "    color_a = np.zeros((len(task[\"train\"]),11), dtype=int)\n",
    "    \n",
    "    for i, t in enumerate(task[\"train\"]):\n",
    "        \n",
    "        before_list = list(set(list_flatten(t[\"input\"])))\n",
    "        after_list = list(set(list_flatten(t[\"output\"])))\n",
    "        color_b[i,before_list] = 1\n",
    "        color_a[i,after_list] = 1\n",
    "        \n",
    "        print(\"bf\",before_list)\n",
    "        \n",
    "    \n",
    "    \n",
    "    color_l = np.concatenate((color_b, color_a), axis = 1)\n",
    "    \n",
    "    \n",
    "    response = iita(color_l, v=1)\n",
    "    print(color_l)\n",
    "    hasse(response['implications'],21,labels = ['0b','1b', '2b', '3b', '4b', '5b','6b','7b','8b','9b','10b','0a', '1a', '2a', '3a', '4a', '5a','6a','7a','8a','9a','10a','11a'])\n",
    "    \n",
    "    "
   ]
  },
  {
   "cell_type": "code",
   "execution_count": 189,
   "metadata": {},
   "outputs": [],
   "source": [
    "analysis={}\n",
    "\n",
    "def analyze(task,ignore_test_after = True):\n",
    "    \n",
    "    global analysis\n",
    "    \n",
    "    analysis={}\n",
    "\n",
    "    analysis.update(analyze_size(task, ignore_test_after = True))\n",
    "    \n",
    "    analysis.update(analyze_color(task, ignore_test_after = True))\n",
    "    \n",
    "    return"
   ]
  },
  {
   "cell_type": "code",
   "execution_count": 190,
   "metadata": {},
   "outputs": [],
   "source": [
    "def get_analysis():\n",
    "    global analysis\n",
    "    return(analysis)"
   ]
  },
  {
   "cell_type": "code",
   "execution_count": 191,
   "metadata": {},
   "outputs": [],
   "source": [
    "def print_dict(dt):\n",
    "    for x in dt:\n",
    "\n",
    "        print (x,':',dt[x])"
   ]
  },
  {
   "cell_type": "code",
   "execution_count": 192,
   "metadata": {},
   "outputs": [
    {
     "name": "stdout",
     "output_type": "stream",
     "text": [
      "/media/SSD/Abstraction and Reasoning/test/00576224.json\n",
      "bf [8, 4, 6]\n",
      "bf [9, 3, 4, 7]\n",
      "[[0 0 0 0 1 0 1 0 1 0 0 0 0 0 0 1 0 1 0 1 0 0]\n",
      " [0 0 0 1 1 0 0 1 0 1 0 0 0 0 1 1 0 0 1 0 1 0]]\n",
      "[(2, 6), (3, 4), (6, 4), (0, 2), (2, 3)]\n"
     ]
    },
    {
     "data": {
      "image/png": "[encoded data removed]",
      "text/plain": [
       "<Figure size 432x288 with 1 Axes>"
      ]
     },
     "metadata": {
      "needs_background": "light"
     },
     "output_type": "display_data"
    },
    {
     "name": "stdout",
     "output_type": "stream",
     "text": [
      "Befores are Square : True\n",
      "Afters are Square : True\n",
      "All Befores have same Vertical : 2\n",
      "All Befores have same Horizontal : 2\n",
      "All Afters have same Vertical : 6\n",
      "All Afters have same Horizontal : 6\n",
      "All Befores and Afters have same Vertical : False\n",
      "All Befores and Afters have same Horizontal : False\n",
      "Every Before and After has same Vertical : False\n",
      "Every Before and After has same Horizontal : False\n",
      "Common colors : set()\n",
      "Common colors in all Befores : set()\n",
      "Common colors in all Afters : {4}\n",
      "Common colors taken from all Befores : set()\n",
      "Colors not common in Befores : {2, 3, 4, 6, 7, 8, 9}\n",
      "Colors not common in Afters : {3, 6, 7, 8, 9}\n"
     ]
    },
    {
     "data": {
      "image/png": "[encoded data removed]",
      "text/plain": [
       "<Figure size 432x432 with 4 Axes>"
      ]
     },
     "metadata": {
      "needs_background": "light"
     },
     "output_type": "display_data"
    },
    {
     "name": "stdout",
     "output_type": "stream",
     "text": [
      "No test output\n"
     ]
    },
    {
     "data": {
      "image/png": "[encoded data removed]",
      "text/plain": [
       "<Figure size 216x432 with 2 Axes>"
      ]
     },
     "metadata": {
      "needs_background": "light"
     },
     "output_type": "display_data"
    }
   ],
   "source": [
    "# Load my favorite task\n",
    "#task_file = str(training_path / training_tasks[1])\n",
    "task_file = str(test_path / testing_tasks[0])\n",
    "\n",
    "def load_task(task_file):\n",
    "    \n",
    "    print(task_file)\n",
    "    with open(task_file, 'r') as f:\n",
    "        task = json.load(f)\n",
    "        \n",
    "    logic_color(task, ignore_test_after=True)\n",
    "    \n",
    "    analyze(task, ignore_test_after=True)\n",
    "\n",
    "    print_dict(get_analysis())\n",
    "\n",
    "    #show_image_list([[[0,1,2,3,4,5,6,7,8,9,10]]])\n",
    "    plot_task(task)\n",
    "    \n",
    "    return task\n",
    "        \n",
    "task = load_task(task_file)"
   ]
  },
  {
   "cell_type": "markdown",
   "metadata": {},
   "source": [
    "# Domain Specific Language (DSL)**\n",
    "\n",
    "Our DSL will be a collection of functions of type `np.array -> [np.array]` and `[np.array] -> [np.array]`.\n",
    "\n",
    "The first kind of function take an image, and produce a list of images (for example, the image split by different colors). The second type of function take a list of images and produce a new list (for exemple, intersect).\n",
    "[](http://)"
   ]
  },
  {
   "cell_type": "markdown",
   "metadata": {},
   "source": [
    "## DSL Implementation\n",
    "\n",
    "We start with the functions that take *one image* and produce an *a list of images*.](http://)\n",
    "\n",
    "!!functions"
   ]
  },
  {
   "cell_type": "code",
   "execution_count": 40,
   "metadata": {
    "_cell_guid": "79c7e3d0-c299-4dcb-8224-4455121ee9b0",
    "_uuid": "d629ff2d2480ee46fbb7e2d37f6b5fab8052498a"
   },
   "outputs": [],
   "source": [
    "# np.array -> [np.array]\n",
    "def groupByColorx_unlifted(pixmap):\n",
    "    \"\"\" Split an image into a collection of images with unique color \"\"\"    \n",
    "    # Count the number of colors\n",
    "    nb_colors = int(pixmap.max()) + 1\n",
    "    # Create a pixmap for each color\n",
    "    splited = [(pixmap == i) * i for i in range(1, nb_colors)]\n",
    "    # Filter out empty images - might not be needed since done in evaluate\n",
    "    return [x for x in splited if np.any(x)]\n",
    "\n",
    "def groupByColor_unlifted(pixmap):\n",
    "    \"\"\" Split an image into a collection of images with unique color \"\"\"\n",
    "    #Additions\n",
    "    #order the output based on common colors in after esp if in before too\n",
    "    \n",
    "    # Identify the colors\n",
    "    rng = np.unique(pixmap)\n",
    "    \n",
    "    # Create a pixmap for each color\n",
    "    splited = [ (pixmap == i) * i for i in rng]\n",
    "    #splited.append(pixmap)\n",
    "    return splited\n",
    "\n",
    "def agroupByColor_unlifted(pixmap):\n",
    "    \"\"\" Split an image into a collection of images with unique color \"\"\"\n",
    "    #Additions\n",
    "    #order the output based on common colors in befores\n",
    "    global analysis\n",
    "    \n",
    "    \n",
    "    \n",
    "    # Identify the colors\n",
    "    rng = list(analysis['Common colors in all Befores'])\n",
    "    \n",
    "    # Create a pixmap for each color\n",
    "    splited = [ (pixmap == i) * i for i in rng]\n",
    "    #splited.append(pixmap)\n",
    "    return splited\n",
    "\n",
    "\n",
    "# np.array -> [np.array]\n",
    "def cropToContent_unlifted(pixmap):\n",
    "    \"\"\" Crop an image to fit exactly the non 0 pixels \"\"\"\n",
    "    \n",
    "    #Additions\n",
    "    #Crop to common colors\n",
    "    #Crop to common After size\n",
    "    \n",
    "    # Op argwhere will give us the coordinates of every non-zero point\n",
    "    true_points = np.argwhere(pixmap)\n",
    "    if len(true_points) == 0:\n",
    "        return []\n",
    "    # Take the smallest points and use them as the top left of our crop\n",
    "    top_left = true_points.min(axis=0)\n",
    "    # Take the largest points and use them as the bottom right of our crop\n",
    "    bottom_right = true_points.max(axis=0)\n",
    "    # Crop inside the defined rectangle\n",
    "    res = pixmap[top_left[0]:bottom_right[0]+1, top_left[1]:bottom_right[1]+1]\n",
    "    return [res]\n",
    "\n",
    "# np.array -> [np.array]\n",
    "def splitH_unlifted2(pixmap):\n",
    "    \"\"\" Split horizontally an image \"\"\"\n",
    "    h = pixmap.shape[0]\n",
    "    if h % 2 == 1:\n",
    "        h = h // 2\n",
    "        return [pixmap[:h,:], pixmap[h+1:,:]]\n",
    "    else:\n",
    "        h = h // 2\n",
    "        return [pixmap[:h,:], pixmap[h:,:]]\n",
    "    \n",
    "    \n",
    "def splitHn_unlifted(pixmap):\n",
    "    \"\"\" Split horizontally an image \"\"\"\n",
    "    \n",
    "    #Additions\n",
    "    #Split using common colors in before (not black first)\n",
    "    #Split based on common after horizontal size change\n",
    "    \n",
    "    ## find the split point based on the vertical line in the image\n",
    "    #look for vertical lines (unchnging color)\n",
    "    d=np.diff(pixmap, axis=0)\n",
    "    da=np.sum(np.abs(d), axis=0)  #columns with 0 are split options\n",
    "    loc=np.where(da == 0)[0]\n",
    "    im=[pixmap]\n",
    "    for p in loc:\n",
    "        #print(p)\n",
    "        im.append(pixmap[:,:p]) # left half no line\n",
    "        im.append(pixmap[:,p+1:])  # right half with no line\n",
    "\n",
    "    return(im)\n",
    "\n",
    "def splitH_unlifted(pixmap):\n",
    "    \"\"\" Split horizontally an image \"\"\"\n",
    "    \n",
    "    #Additions\n",
    "    #Split using common colors in before (not black first)\n",
    "    #Split based on common after horizontal size change\n",
    "    \n",
    "    ## find the split point based on the vertical line in the image\n",
    "    #look for vertical lines (unchnging color)\n",
    "    d=np.diff(pixmap, axis=0)\n",
    "    da=np.sum(np.abs(d), axis=0)  #columns with 0 are split options\n",
    "    loc=np.where(da == 0)[0]\n",
    "    im=[pixmap]\n",
    "    for p in loc:\n",
    "        #print(p)\n",
    "        im.append(pixmap[:,p:]) # right half with line\n",
    "        im.append(pixmap[:,:p+1]) # left half with line\n",
    "    return(im)\n",
    "\n",
    "\n",
    "def splitV_unlifted(pixmap):\n",
    "    \"\"\" Split horizontally an image \"\"\"\n",
    "    \n",
    "    #Additions\n",
    "    #Split using common colors in before (not black first)\n",
    "    #Split based on common after vertical size change\n",
    "    # Split on diagonal\n",
    "    \n",
    "    ## find the split point based on the horizontal line in the image\n",
    "    #look for horizontal lines (unchnging color)\n",
    "    d=np.diff(pixmap, axis=1)\n",
    "    da=np.sum(np.abs(d), axis=1)  #rows with 0 are split options\n",
    "    loc=np.where(da == 0)[0]\n",
    "    im=[pixmap]\n",
    "    for p in loc:\n",
    "        #print(p)\n",
    "        im.append(pixmap[p:,:]) # bot half with line\n",
    "        im.append(pixmap[:p+1,:]) # top half with line\n",
    "    return(im)\n",
    "\n",
    "def splitVn_unlifted(pixmap):\n",
    "    \"\"\" Split horizontally an image \"\"\"\n",
    "    \n",
    "    #Additions\n",
    "    #Split using common colors in before (not black first)\n",
    "    #Split based on common after vertical size change\n",
    "    # Split on diagonal\n",
    "     \n",
    "    ## find the split point based on the horizontal line in the image\n",
    "    #look for horizontal lines (unchnging color)\n",
    "    d=np.diff(pixmap, axis=1)\n",
    "    da=np.sum(np.abs(d), axis=1)  #rows with 0 are split options\n",
    "    loc=np.where(da == 0)[0]\n",
    "    im=[pixmap]\n",
    "    for p in loc:\n",
    "        #print(p)\n",
    "        im.append(pixmap[:p,:]) # top half no line\n",
    "        im.append(pixmap[p+1:,:])  # bot half with no line\n",
    "    return(im)\n",
    "\n",
    "\n",
    "\n",
    "def splitRD_unlifted(pixmap):\n",
    "    \"\"\" Split diagonally an image \"\"\"\n",
    "    \n",
    "    #Additions\n",
    "    #Split using common colors in before (not black first)\n",
    "    #Split based on common after vertical size change\n",
    "    # Split on diagonal\n",
    "    \n",
    "    ## find the split point based on the horizontal line in the image\n",
    "    #look for horizontal lines (unchnging color)\n",
    "\n",
    "    (v,h) = pixmap.shape\n",
    "    im=[pixmap]\n",
    "    if(v+h>4):\n",
    "        di = np.zeros((v+h-3, min(v,h)+1))\n",
    "\n",
    "        #create diagonal and find difference to search for solid diag\n",
    "        for t in range(2-v,h-1):\n",
    "            m = np.diag(pixmap,k=t)\n",
    "            p = 1+min(v,h)-len(m)\n",
    "            mp = np.pad(m,(1,p),mode = 'edge')\n",
    "            mpd =np.diff(mp) \n",
    "            #print(\"t=\",t,\"mp=\",mp)\n",
    "            i=t-(2-v)\n",
    "\n",
    "            di[i] = mpd\n",
    "\n",
    "        #print(\"di=\",di)\n",
    "        da=np.sum(np.abs(di), axis=1)  #rows with 0 are split options\n",
    "        loc=np.where(da == 0)[0]-v+2   \n",
    "        #print(\"loc=\",loc)\n",
    "\n",
    "        \n",
    "        for p in loc:\n",
    "            #print(p)\n",
    "            im.append(np.triu(pixmap,k=p)) # top part with line\n",
    "            im.append(np.tril(pixmap,k=p)) # bottom part with line\n",
    "    return(im)\n",
    "\n",
    "def splitLD_unlifted(pixmap):\n",
    "    res = splitRD_unlifted(np.rot90(pixmap, k=1))\n",
    "    \n",
    "    im=[np.rot90(m,k=-1 ) for m in res]\n",
    "    return(im)\n",
    "    \n",
    "\n",
    "# np.array -> [np.array]\n",
    "def negative_unlifted(pixmap):\n",
    "    \"\"\" Compute the negative of an image (and conserve the color) \"\"\"\n",
    "    #Additions\n",
    "    #choose color based on color changes between before and after\n",
    "    \n",
    "    negative = np.logical_not(pixmap).astype(int)\n",
    "    color = max(pixmap.max(), 1)  ##I think this picks largest color?\n",
    "    return [pixmap, negative * color]\n",
    "\n",
    "def extend_unlifted(pixmap):\n",
    "    \"\"\" Create image where original is padded by 30 pixels all around \"\"\"\n",
    "    \n",
    "    #Additions\n",
    "    #Pad to common size of After image, or rule (factor or addition)\n",
    "    \n",
    "    ##Check if already padded enough?  min dim >=90\n",
    "    if min(pixmap.shape) < 90 :\n",
    "        padded=np.pad(pixmap, ((30,30), (30, 30)), 'constant', constant_values=(0))\n",
    "        #return [padded, pixmap]\n",
    "        return [padded]\n",
    "    else:\n",
    "        #return [pixmap, pixmap]\n",
    "        return [pixmap]\n",
    "    \n",
    "\n",
    "\n",
    "def rotate_unlifted(pixmap):   \n",
    "    \n",
    "    #Additions\n",
    "    #Use pattern matching to decide rotation amount\n",
    "    return [pixmap, np.rot90(pixmap)]# rotated image by 90 deg\n",
    "\n",
    "def mirror_unlifted(pixmap):\n",
    "    return [pixmap, np.fliplr(pixmap)]# mirror image flip H\n",
    "\n",
    "def tile2_unlifted(pixmap):\n",
    "    \n",
    "    #Additions\n",
    "    #Use Common sizes to identify tiling amount\n",
    "    \n",
    "    image =  np.tile(pixmap, (2,2))\n",
    "    s = image.shape\n",
    "    h = min(s[0],90)\n",
    "    v = min(s[1],90)\n",
    "    #print(\"h=\",h,\" v=\",v)\n",
    "    return [pixmap, image[:h,:v]]\n",
    "\n",
    "def tile3_unlifted(pixmap):\n",
    "    \n",
    "    #Additions\n",
    "    #Use Common sizes to identify tiling amount\n",
    "    \n",
    "    image =  np.tile(pixmap, (3,3))\n",
    "    s = image.shape\n",
    "    h = min(s[0],90)\n",
    "    v = min(s[1],90)\n",
    "    #print(\"h=\",h,\" v=\",v)\n",
    "    return [pixmap, image[:h,:v]]\n",
    "\n",
    "def atile_unlifted(pixmap):\n",
    "    \n",
    "    #Additions\n",
    "    #Use Common sizes to identify tiling amount\n",
    "    global analysis\n",
    "        \n",
    "    h=3\n",
    "    v=3\n",
    "    \n",
    "    if analysis['All Befores have same Vertical'] and analysis['All Afters have same Vertical']:\n",
    "        v=int(analysis['All Afters have same Vertical']/analysis['All Befores have same Vertical'])\n",
    "        v=max(v,1)\n",
    "\n",
    "    if analysis['All Befores have same Horizontal'] and analysis['All Afters have same Horizontal']:\n",
    "        h=int(analysis['All Afters have same Horizontal']/analysis['All Befores have same Horizontal'])\n",
    "        h=max(h,1)\n",
    "    \n",
    "    \n",
    "    image =  np.tile(pixmap, (h,v))\n",
    "    s = image.shape\n",
    "    h = min(s[0],90)\n",
    "    v = min(s[1],90)\n",
    "    #print(\"h=\",h,\" v=\",v)\n",
    "    return [pixmap, image[:h,:v]]\n",
    "\n",
    "\n",
    "def tile3h_unlifted(pixmap):\n",
    "    \n",
    "    #Additions\n",
    "    #Use Common sizes to identify tiling amount\n",
    "    \n",
    "    image =  np.tile(pixmap, 3)\n",
    "    s = image.shape\n",
    "    h = min(s[0],90)\n",
    "    v = min(s[1],90)\n",
    "    #print(\"h=\",h,\" v=\",v)\n",
    "    return [pixmap, image[:h,:v]]\n",
    "\n",
    "def tile2h_unlifted(pixmap):\n",
    "    \n",
    "    #Additions\n",
    "    #Use Common sizes to identify tiling amount\n",
    "    \n",
    "    image =  np.tile(pixmap, 2)\n",
    "    s = image.shape\n",
    "    h = min(s[0],90)\n",
    "    v = min(s[1],90)\n",
    "    #print(\"h=\",h,\" v=\",v)\n",
    "    return [pixmap, image[:h,:v]]\n",
    "\n",
    "def shift_unlifted(pixmap):\n",
    "    return # shift image over by 1 to the right\n",
    "\n",
    "def zoom3_unlifted(pixmap):\n",
    "    \n",
    "    #Additions\n",
    "    #Check if square before using this.  Check common sizes\n",
    "    \n",
    "    newshape = np.array(pixmap.shape) * 3\n",
    "    slices = [ slice(0,old, float(old)/new) for old,new in zip(pixmap.shape,newshape) ]\n",
    "    coordinates = np.mgrid[slices]\n",
    "    indices = coordinates.astype('i')   #choose the biggest smaller integer index\n",
    "    \n",
    "    return [pixmap, pixmap[tuple(indices)]] # enlarge image taking each 1 pixel and making it 3x3\n",
    "\n",
    "def azoom_unlifted(pixmap):\n",
    "    \n",
    "    #Additions\n",
    "    #Check if square before using this.  Check common sizes\n",
    "    global analysis\n",
    "        \n",
    "    h=3\n",
    "    v=3\n",
    "    \n",
    "    if analysis['All Afters have same Vertical'] and analysis['All Afters have same Horizontal']:\n",
    "        v=analysis['All Afters have same Vertical']\n",
    "        v=max(v,1)\n",
    "        h=analysis['All Afters have same Horizontal']\n",
    "        h=max(h,1)\n",
    "        \n",
    "        \n",
    "        newshape = np.array((v,h))\n",
    "        slices = [ slice(0,old, float(old)/new) for old,new in zip(pixmap.shape,newshape) ]\n",
    "        coordinates = np.mgrid[slices]\n",
    "        indices = coordinates.astype('i')   #choose the biggest smaller integer index\n",
    "\n",
    "        return [pixmap, pixmap[tuple(indices)]] # enlarge image taking each 1 pixel and making it larger\n",
    "    else:\n",
    "        return [pixmap]\n",
    "\n",
    "\n",
    "def zoom2_unlifted(pixmap):\n",
    "\n",
    "    \n",
    "    #Additions\n",
    "    #Check if square before using this.  Check common sizes\n",
    "    \n",
    "    newshape = np.array(pixmap.shape) * 2\n",
    "    slices = [ slice(0,old, float(old)/new) for old,new in zip(pixmap.shape,newshape) ]\n",
    "    coordinates = np.mgrid[slices]\n",
    "    indices = coordinates.astype('i')   #choose the biggest smaller integer index\n",
    "    \n",
    "    return [pixmap, pixmap[tuple(indices)]] # enlarge image taking each 1 pixel and making it 2x2\n",
    "\n",
    "\n",
    "\n",
    "\n",
    "def lzoom_unlifted(pixmap):\n",
    "\n",
    "    return #take small image and turn 1 pixel  2 horizontal, 1 into 3 horizontal  (with mirror and flip this can expand to other cases)\n",
    "\n"
   ]
  },
  {
   "cell_type": "markdown",
   "metadata": {},
   "source": [
    "## Composition of functions\n",
    "\n",
    "It is important to make sure we can chain both functions. It is clear how we can compose two functions `f` and `g` of type `[np.array] -> [np.array]` ; We symply call `g(f([input_image]))`.\n",
    "\n",
    "\n",
    "For each function of the first type, we need to generated a *lifted version*. A function `np.array -> [np.array]` is can be turned into a function of type `[np.array] -> [np.array]` simply by applying the first function on each image and concatenating the results.\n",
    "\n",
    "---\n",
    "If you want to know more about the `lift` function, have a look to the concept of [*monades*](https://en.wikipedia.org/wiki/Monad_%28functional_programming%29). We are indeed using the *list monade*."
   ]
  },
  {
   "cell_type": "code",
   "execution_count": 41,
   "metadata": {},
   "outputs": [],
   "source": [
    "def lift(fct):\n",
    "    # Lift the function\n",
    "    def lifted_function(xs):\n",
    "        list_of_results = [fct(x) for x in xs]\n",
    "        return list(itertools.chain(*list_of_results))\n",
    "    # Give a nice name to the lifted function\n",
    "    import re\n",
    "    lifted_function.__name__ = re.sub('_unlifted$', '_lifted', fct.__name__)\n",
    "    return lifted_function\n",
    "\n",
    "cropToContent = lift(cropToContent_unlifted)\n",
    "groupByColor = lift(groupByColor_unlifted)\n",
    "splitH = lift(splitH_unlifted)\n",
    "splitHn = lift(splitHn_unlifted)\n",
    "splitV = lift(splitV_unlifted)\n",
    "splitVn = lift(splitVn_unlifted)\n",
    "negative = lift(negative_unlifted)\n",
    "extend = lift(extend_unlifted)\n",
    "rotate = lift(rotate_unlifted)\n",
    "mirror = lift(mirror_unlifted)\n",
    "tile2 = lift(tile2_unlifted)\n",
    "tile3 = lift(tile3_unlifted)\n",
    "tile2h = lift(tile2h_unlifted)\n",
    "tile3h = lift(tile3h_unlifted)\n",
    "zoom3 = lift(zoom3_unlifted)\n",
    "zoom2 = lift(zoom2_unlifted)\n",
    "\n",
    "agroupByColor = lift(agroupByColor_unlifted)\n",
    "atile = lift(atile_unlifted)\n",
    "azoom = lift(azoom_unlifted)\n",
    "splitRD = lift(splitRD_unlifted)\n",
    "splitLD = lift(splitLD_unlifted)"
   ]
  },
  {
   "cell_type": "markdown",
   "metadata": {},
   "source": [
    "!!test functions"
   ]
  },
  {
   "cell_type": "code",
   "execution_count": 42,
   "metadata": {},
   "outputs": [
    {
     "name": "stdout",
     "output_type": "stream",
     "text": [
      "/media/SSD/Abstraction and Reasoning/training/10fcaaa3.json\n",
      "Befores are Square : False\n",
      "Afters are Square : False\n",
      "All Befores have same Vertical : False\n",
      "All Befores have same Horizontal : False\n",
      "All Afters have same Vertical : False\n",
      "All Afters have same Horizontal : False\n",
      "All Befores and Afters have same Vertical : False\n",
      "All Befores and Afters have same Horizontal : False\n",
      "Every Before and After has same Vertical : False\n",
      "Every Before and After has same Horizontal : False\n",
      "Common colors : {0}\n",
      "Common colors in all Befores : {0}\n",
      "Common colors in all Afters : {0, 8}\n",
      "Common colors taken from all Befores : set()\n",
      "Colors not common in Befores : {2, 3, 4, 5, 6}\n",
      "Colors not common in Afters : {2, 4, 5, 6}\n"
     ]
    },
    {
     "data": {
      "image/png": "[encoded data removed]",
      "text/plain": [
       "<Figure size 864x432 with 8 Axes>"
      ]
     },
     "metadata": {
      "needs_background": "light"
     },
     "output_type": "display_data"
    },
    {
     "data": {
      "image/png": "[encoded data removed]",
      "text/plain": [
       "<Figure size 216x432 with 2 Axes>"
      ]
     },
     "metadata": {
      "needs_background": "light"
     },
     "output_type": "display_data"
    }
   ],
   "source": [
    "# Load my favorite task\n",
    "task_file = str(training_path / training_tasks[18])\n",
    "#task_file = str(test_path / testing_tasks[2])\n",
    "task = load_task(task_file)"
   ]
  },
  {
   "cell_type": "code",
   "execution_count": 43,
   "metadata": {},
   "outputs": [
    {
     "data": {
      "image/png": "[encoded data removed]",
      "text/plain": [
       "<Figure size 1224x360 with 5 Axes>"
      ]
     },
     "metadata": {
      "needs_background": "light"
     },
     "output_type": "display_data"
    }
   ],
   "source": [
    "\n",
    "input_image = np.array(task['train'][0]['input'])\n",
    "imlist = splitLD([input_image])\n",
    "show_image_list(imlist)"
   ]
  },
  {
   "cell_type": "code",
   "execution_count": 44,
   "metadata": {},
   "outputs": [],
   "source": [
    "def dedupe(x):\n",
    "    \"\"\" Dedupes a list of images using numpy - string - dict - string - numpy conversion \"\"\"   \n",
    "    l1=[str(pixmap.tolist()) for pixmap in x]\n",
    "    unique_str_list = list(dict.fromkeys(l1))\n",
    "    x = [np.array(ast.literal_eval(s)) for s in unique_str_list]\n",
    "    return x"
   ]
  },
  {
   "cell_type": "code",
   "execution_count": 45,
   "metadata": {},
   "outputs": [
    {
     "data": {
      "image/png": "[encoded data removed]",
      "text/plain": [
       "<Figure size 1224x360 with 2 Axes>"
      ]
     },
     "metadata": {
      "needs_background": "light"
     },
     "output_type": "display_data"
    }
   ],
   "source": [
    "show_image_list(dedupe(imlist))"
   ]
  },
  {
   "cell_type": "code",
   "execution_count": 46,
   "metadata": {},
   "outputs": [
    {
     "data": {
      "text/plain": [
       "'[[0, 0, 0, 0], [0, 5, 0, 0]]'"
      ]
     },
     "execution_count": 46,
     "metadata": {},
     "output_type": "execute_result"
    }
   ],
   "source": [
    "str(imlist[0].tolist())"
   ]
  },
  {
   "cell_type": "code",
   "execution_count": 47,
   "metadata": {},
   "outputs": [
    {
     "data": {
      "text/plain": [
       "'[[0 0 0 0]\\n [0 5 0 0]]'"
      ]
     },
     "execution_count": 47,
     "metadata": {},
     "output_type": "execute_result"
    }
   ],
   "source": [
    "str(imlist[0])"
   ]
  },
  {
   "cell_type": "markdown",
   "metadata": {},
   "source": [
    "!!functions"
   ]
  },
  {
   "cell_type": "code",
   "execution_count": 48,
   "metadata": {},
   "outputs": [],
   "source": [
    "# [np.array] -> [np.array]\n",
    "def identity(x: [np.array]):\n",
    "    return x\n",
    "\n",
    "# [np.array] -> [np.array]\n",
    "def tail(x):\n",
    "    if len(x) > 1:\n",
    "        return x[1:]\n",
    "    else:\n",
    "        return x\n",
    "    \n",
    "def head(x):\n",
    "    if len(x) > 1:\n",
    "        return x[:-1]\n",
    "    else:\n",
    "        return x    \n",
    "    \n",
    "def swap(x):\n",
    "\n",
    "    if len(x) > 1:\n",
    "        t=x[-1]\n",
    "        x[-1]=x[-2]\n",
    "        x[-2]=t\n",
    "    \n",
    "    return x   \n",
    "\n",
    "\n",
    "def dedupe(x):\n",
    "    \"\"\" Dedupes a list of images using numpy - string - dict - string - numpy conversion \"\"\"   \n",
    "    l1=[str(pixmap.tolist()) for pixmap in x]\n",
    "    unique_str_list = list(dict.fromkeys(l1))\n",
    "    x = [np.array(ast.literal_eval(s)) for s in unique_str_list]\n",
    "    return x\n",
    "\n",
    "# [np.array] -> [np.array]\n",
    "def init(x):\n",
    "    if len(x) > 1:\n",
    "        return x[:1]\n",
    "    else:\n",
    "        return x\n",
    "\n",
    "# [np.array] -> [np.array]\n",
    "def union2(x):\n",
    "    \"\"\" Compute the pixel union of all images in the list. \"\"\"\n",
    "    if len(x) < 2:\n",
    "        return x\n",
    "    \n",
    "    # Make sure everybody have the same shape\n",
    "    first_shape = tuple(x[0].shape)\n",
    "    for pixmap in x[1:]:\n",
    "        if first_shape != tuple(pixmap.shape):\n",
    "            return []\n",
    "    \n",
    "    return [np.bitwise_or.reduce(np.array(x).astype(int))]\n",
    "    \n",
    "def intersect2(x):\n",
    "    \"\"\" Compute the pixel intersection of all images in the list. \"\"\"\n",
    "    if len(x) < 2:\n",
    "        return x\n",
    "    \n",
    "    # Make sure everybody have the same shape\n",
    "    first_shape = tuple(x[0].shape)\n",
    "    for pixmap in x[1:]:\n",
    "        if first_shape != tuple(pixmap.shape):\n",
    "            return []\n",
    "    \n",
    "    return [(np.prod(np.array(x), axis=0) > 0).astype(int)]\n",
    "\n",
    "def union(x):\n",
    "    \n",
    "    if len(x) < 2:\n",
    "        return x\n",
    "    l={}\n",
    "    # search list to identify shapes and counts\n",
    "    for pixmap in x:\n",
    "        s=str(pixmap.shape)\n",
    "        try:\n",
    "            l[s].append(pixmap)\n",
    "        except KeyError:\n",
    "            l[s]=[pixmap]\n",
    "    \n",
    "    im=[]\n",
    "    for i, k in enumerate(l):\n",
    "    #print(i, k,len(l[k]))\n",
    "        if len(l[k])>1:\n",
    "            mask = (np.logical_or.reduce(np.array(l[k]))).astype(int)\n",
    "            #print(mask)\n",
    "            for j,m in enumerate(l[k]):\n",
    "                #print()\n",
    "                im.append(np.prod([mask, m], axis=0) )\n",
    "\n",
    "    return im\n",
    "    \n",
    "    \n",
    "    \n",
    "    \n",
    "def intersect(x):\n",
    "    \n",
    "    if len(x) < 2:\n",
    "        return x\n",
    "    l={}\n",
    "    # search list to identify shapes and counts\n",
    "    for pixmap in x:\n",
    "        s=str(pixmap.shape)\n",
    "        try:\n",
    "            l[s].append(pixmap)\n",
    "        except KeyError:\n",
    "            l[s]=[pixmap]\n",
    "    \n",
    "    im=[]\n",
    "    for i, k in enumerate(l):\n",
    "    #print(i, k,len(l[k]))\n",
    "        if len(l[k])>1:\n",
    "            mask = (np.prod(np.array(l[k]), axis=0) > 0).astype(int)\n",
    "            for j,m in enumerate(l[k]):\n",
    "                #print()\n",
    "                im.append(np.prod([mask, m], axis=0) )\n",
    "\n",
    "    return im\n",
    "\n",
    "#def subtract(x):\n",
    "        \n",
    "    #Additions\n",
    "    #Use set difference to produce a new image from a bunch of existing\n",
    "    \n",
    "    \n",
    "def sortByColor(xs):\n",
    "    \"\"\" Sort pictures by increasing color id. \"\"\"\n",
    "    \n",
    "    #Additions\n",
    "    #Use common colors to decide \n",
    "    \n",
    "    \n",
    "    \n",
    "    xs = [x for x in xs if len(x.reshape(-1)) > 0]\n",
    "    return list(sorted(xs, key=lambda x: x.max()))\n",
    "\n",
    "def asortByColor(xs):\n",
    "    \"\"\" Sort pictures by increasing color id. \"\"\"\n",
    "    \n",
    "    #Additions\n",
    "    #Use common colors to decide \n",
    "    global analysis\n",
    "        \n",
    "    c=analysis[\"Common colors in all Afters\"]\n",
    "    \n",
    "    #for x in xs:\n",
    "        #print(\"set=\",set(x.flatten().tolist()))\n",
    "        #print(\"len=\",len(set(x.flatten().tolist()) & c))\n",
    "    \n",
    "    # get number of intersecting colors with common\n",
    "       \n",
    "    xs = [x for x in xs if len(x.reshape(-1)) > 0]\n",
    "    return list(sorted(xs, key=lambda x: len(set(x.flatten().tolist()) & c)))\n",
    "\n",
    "def sortByWeight(xs):\n",
    "    \"\"\" Sort images by how many non zero pixels are contained. \"\"\"\n",
    "    xs = [x for x in xs if len(x.reshape(-1)) > 0]\n",
    "    return list(sorted(xs, key=lambda x: (x>0).sum()))\n",
    "\n",
    "def reverse(x):\n",
    "    \"\"\" Reverse the order of a list of images. \"\"\"\n",
    "    return x[::-1]\n",
    "\n",
    "def colorshift(x):\n",
    "    \n",
    "    \n",
    "    #Additions\n",
    "    #Use common colors to shift from before colors to after colors \n",
    "    \n",
    "    \n",
    "    \n",
    "    im=[]\n",
    "    for pixmap in x:\n",
    "        pixmap=pixmap+1\n",
    "        pixmap[pixmap==1] = 0 # turn black to black again\n",
    "        pixmap[pixmap>10] = 1 # rotate to 1\n",
    "        im.append(pixmap)\n",
    "    return im\n",
    "\n",
    "def stackv(x):  ## join images top to bottom\n",
    "    if len(x) < 2:\n",
    "        return x\n",
    "    l={}\n",
    "    # search list to identify shapes and counts\n",
    "    for pixmap in x:\n",
    "        s=pixmap.shape[1]\n",
    "        try:\n",
    "            l[s].append(pixmap)\n",
    "        except KeyError:\n",
    "            l[s]=[pixmap]\n",
    "    \n",
    "    im=[]\n",
    "    for i, k in enumerate(l):\n",
    "    #print(i, k,len(l[k]))\n",
    "        if len(l[k])>1: ## more than one image with this dimension\n",
    "            im.append(np.vstack(l[k]) )\n",
    "\n",
    "    return im\n",
    "\n",
    "def stackh(x):  ## join images top to bottom\n",
    "    if len(x) < 2:\n",
    "        return x\n",
    "    l={}\n",
    "    # search list to identify shapes and counts\n",
    "    for pixmap in x:\n",
    "        s=pixmap.shape[0]\n",
    "        try:\n",
    "            l[s].append(pixmap)\n",
    "        except KeyError:\n",
    "            l[s]=[pixmap]\n",
    "    \n",
    "    im=[]\n",
    "    for i, k in enumerate(l):\n",
    "    #print(i, k,len(l[k]))\n",
    "        if len(l[k])>1: ## more than one image with this dimension\n",
    "            im.append(np.hstack(l[k]) )\n",
    "\n",
    "    return im\n",
    "\n",
    "\n",
    "stack=[]\n",
    "\n",
    "def push(x):  ## push last image on a stack\n",
    "    if len(x) < 2:\n",
    "        return x    \n",
    "    stack.append(x[-1])\n",
    "    return x[:-1]\n",
    "\n",
    "def pull(x):\n",
    "    if(len(stack)>1):\n",
    "        x.append(stack.pop())\n",
    "    elif(len(stack)>0):\n",
    "        x.append(stack[-1])\n",
    "    return x\n",
    "        "
   ]
  },
  {
   "cell_type": "markdown",
   "metadata": {},
   "source": [
    "# Task\n",
    "\n",
    "We now load a simple task and execute one of our functions on it."
   ]
  },
  {
   "cell_type": "code",
   "execution_count": 49,
   "metadata": {},
   "outputs": [
    {
     "name": "stdout",
     "output_type": "stream",
     "text": [
      "/media/SSD/Abstraction and Reasoning/training/09629e4f.json\n",
      "Befores are Square : True\n",
      "Afters are Square : True\n",
      "All Befores have same Vertical : 11\n",
      "All Befores have same Horizontal : 11\n",
      "All Afters have same Vertical : 11\n",
      "All Afters have same Horizontal : 11\n",
      "All Befores and Afters have same Vertical : 11\n",
      "All Befores and Afters have same Horizontal : 11\n",
      "Every Before and After has same Vertical : True\n",
      "Every Before and After has same Horizontal : True\n",
      "Common colors : {0, 2, 3, 4, 5, 6}\n",
      "Common colors in all Befores : {0, 2, 3, 4, 5, 6, 8}\n",
      "Common colors in all Afters : {0, 2, 3, 4, 5, 6}\n",
      "Common colors taken from all Befores : {8}\n",
      "Colors not common in Befores : set()\n",
      "Colors not common in Afters : set()\n"
     ]
    },
    {
     "data": {
      "image/png": "[encoded data removed]",
      "text/plain": [
       "<Figure size 864x432 with 8 Axes>"
      ]
     },
     "metadata": {
      "needs_background": "light"
     },
     "output_type": "display_data"
    },
    {
     "data": {
      "image/png": "[encoded data removed]",
      "text/plain": [
       "<Figure size 216x432 with 2 Axes>"
      ]
     },
     "metadata": {
      "needs_background": "light"
     },
     "output_type": "display_data"
    }
   ],
   "source": [
    "# Load my favorite task\n",
    "t=10\n",
    "task_file = str(training_path / training_tasks[t])\n",
    "task = load_task(task_file)"
   ]
  },
  {
   "cell_type": "code",
   "execution_count": 50,
   "metadata": {},
   "outputs": [
    {
     "name": "stdout",
     "output_type": "stream",
     "text": [
      "(11, 11) (11, 11)\n"
     ]
    },
    {
     "data": {
      "image/png": "[encoded data removed]",
      "text/plain": [
       "<Figure size 1224x360 with 3 Axes>"
      ]
     },
     "metadata": {
      "needs_background": "light"
     },
     "output_type": "display_data"
    },
    {
     "data": {
      "image/png": "[encoded data removed]",
      "text/plain": [
       "<Figure size 1224x360 with 3 Axes>"
      ]
     },
     "metadata": {
      "needs_background": "light"
     },
     "output_type": "display_data"
    },
    {
     "data": {
      "image/png": "[encoded data removed]",
      "text/plain": [
       "<Figure size 1224x360 with 3 Axes>"
      ]
     },
     "metadata": {
      "needs_background": "light"
     },
     "output_type": "display_data"
    }
   ],
   "source": [
    "i=0\n",
    "t=10\n",
    "task_file = str(training_path / training_tasks[t])\n",
    "with open(task_file, 'r') as f:\n",
    "    task = json.load(f)\n",
    "input_image0 = np.array(task['train'][0]['input'])\n",
    "output_image0 = np.array(task['train'][0]['output'])\n",
    "input_image1 = np.array(task['train'][1]['input'])\n",
    "output_image1 = np.array(task['train'][1]['output'])\n",
    "\n",
    "print(input_image0.shape, output_image0.shape)\n",
    "\n",
    "show_image_list([input_image0,output_image0, abs(4+output_image0-input_image0)])\n",
    "show_image_list([input_image1,output_image1, abs(4+output_image1-input_image1)])\n",
    "show_image_list([abs(4+input_image1-input_image0),abs(4+output_image1-output_image0), abs(4+abs(4+output_image1-input_image1)-abs(4+output_image0-input_image0))])\n"
   ]
  },
  {
   "cell_type": "code",
   "execution_count": 51,
   "metadata": {},
   "outputs": [
    {
     "data": {
      "image/png": "[encoded data removed]",
      "text/plain": [
       "<Figure size 1224x360 with 1 Axes>"
      ]
     },
     "metadata": {
      "needs_background": "light"
     },
     "output_type": "display_data"
    }
   ],
   "source": [
    "# Execute the group by color on the first input\n",
    "input_image = np.array(task['train'][0]['input'])\n",
    "#images = groupByColor([input_image])\n",
    "images = extend([input_image])\n",
    "images = extend(images)\n",
    "images = extend(images)\n",
    "# Show the result of our function\n",
    "show_image_list(images)"
   ]
  },
  {
   "cell_type": "code",
   "execution_count": 52,
   "metadata": {},
   "outputs": [
    {
     "data": {
      "image/png": "[encoded data removed]",
      "text/plain": [
       "<Figure size 1224x360 with 7 Axes>"
      ]
     },
     "metadata": {
      "needs_background": "light"
     },
     "output_type": "display_data"
    }
   ],
   "source": [
    "# Execute the group by color on the first input\n",
    "input_image = np.array(task['train'][0]['input'])\n",
    "output_image = np.array(task['train'][0]['output'])\n",
    "images = groupByColor([input_image])\n",
    "\n",
    "# Show the result of our function\n",
    "show_image_list(images)"
   ]
  },
  {
   "cell_type": "code",
   "execution_count": 53,
   "metadata": {},
   "outputs": [
    {
     "data": {
      "image/png": "[encoded data removed]",
      "text/plain": [
       "<Figure size 1224x360 with 2 Axes>"
      ]
     },
     "metadata": {
      "needs_background": "light"
     },
     "output_type": "display_data"
    }
   ],
   "source": [
    "show_image_list([input_image, output_image])\n"
   ]
  },
  {
   "cell_type": "markdown",
   "metadata": {},
   "source": [
    "# Program evaluation\n",
    "\n",
    "\n",
    "We define our building blocks for programs (the functions in our DSL). We will define a program as a list of functions from our DSL ; `program: [[np.array] -> [np.array]]`. The instructions in our programs will be executed *from left to right*. This mean that if we want to first `splitByColor` and then compute the `negative` of the image, we need to write `[splitByColor, negative]` in this order."
   ]
  },
  {
   "cell_type": "markdown",
   "metadata": {},
   "source": [
    "Let's first write an utilitary function to describe a program as a human readable string.\n",
    "\n",
    "!!evaluation"
   ]
  },
  {
   "cell_type": "code",
   "execution_count": 54,
   "metadata": {},
   "outputs": [
    {
     "name": "stdout",
     "output_type": "stream",
     "text": [
      "[splitH, groupByColor, negative, intersect]\n"
     ]
    }
   ],
   "source": [
    "def program_desc(program):\n",
    "    \"\"\" Create a human readable description of a program. \"\"\"\n",
    "    desc = [x.__name__.replace(\"_lifted\", \"\") for x in program]\n",
    "    return('['+', '.join(desc)+']')\n",
    "\n",
    "# Display the program description alongside its output\n",
    "program = [splitH, groupByColor, negative, intersect]\n",
    "print(program_desc(program))"
   ]
  },
  {
   "cell_type": "markdown",
   "metadata": {},
   "source": [
    "## The evaluation method\n",
    "We need a way to run a such program on a pictures and recover the result. This is done by the `evaluate` function."
   ]
  },
  {
   "cell_type": "code",
   "execution_count": 55,
   "metadata": {},
   "outputs": [],
   "source": [
    "def evaluate(program: [], input_image: np.array):\n",
    "    \n",
    "    image_list = [np.array(input_image)]\n",
    "    # Make sure the input is a np.array\n",
    "    #input_image = np.array(input_image, dtype=\"int8\")\n",
    "    #input_image = np.array(input_image)\n",
    "    #assert type(input_image) == np.ndarray\n",
    "    \n",
    "    # Apply each function on the image\n",
    "    #image_list = [input_image]\n",
    "    for fct in program:\n",
    "        # Apply the function\n",
    "        #image_list.append(input_image)  ##try this to get input in every step\n",
    "        image_list = fct(image_list)\n",
    "        # Filter out empty images\n",
    "        image_list = [img for img in image_list if img.shape[0] > 0 and img.shape[1] > 0]\n",
    "        # Break if there is no data\n",
    "        #if image_list == []:\n",
    "            #return []\n",
    "    return image_list[-20:]       ## limit image list to 20   "
   ]
  },
  {
   "cell_type": "markdown",
   "metadata": {},
   "source": [
    "## Simple test on a task\n",
    "We apply the simple program `[groupByColor, negative]` on the task we loaded earlier."
   ]
  },
  {
   "cell_type": "code",
   "execution_count": 56,
   "metadata": {},
   "outputs": [
    {
     "data": {
      "image/png": "[encoded data removed]",
      "text/plain": [
       "<Figure size 1224x360 with 2 Axes>"
      ]
     },
     "metadata": {
      "needs_background": "light"
     },
     "output_type": "display_data"
    }
   ],
   "source": [
    "# [tile3h, mirror,head,tile3h,stackv]\n",
    "\n",
    "results = evaluate(program=[tile3h], input_image=task['train'][0]['input'])\n",
    "show_image_list(results)"
   ]
  },
  {
   "cell_type": "code",
   "execution_count": 57,
   "metadata": {},
   "outputs": [
    {
     "name": "stdout",
     "output_type": "stream",
     "text": [
      "9.2 µs ± 48 ns per loop (mean ± std. dev. of 7 runs, 100000 loops each)\n"
     ]
    }
   ],
   "source": [
    "%%timeit\n",
    "#[tile3h, splitHn, splitVn, reverse, intersect]\n",
    "results = evaluate(program=[intersect], input_image=task['train'][0]['input'])\n"
   ]
  },
  {
   "cell_type": "code",
   "execution_count": 58,
   "metadata": {},
   "outputs": [
    {
     "data": {
      "image/png": "[encoded data removed]",
      "text/plain": [
       "<Figure size 1224x360 with 1 Axes>"
      ]
     },
     "metadata": {
      "needs_background": "light"
     },
     "output_type": "display_data"
    }
   ],
   "source": [
    "show_image_list([np.array(task['train'][0]['output'])])"
   ]
  },
  {
   "cell_type": "markdown",
   "metadata": {},
   "source": [
    "# Program generation\n",
    "\n",
    "We now have a simple and powerful language to express various transformation on images. But someone or something still have to write the actual program that can solve a task. In this part, we will implement a naive but somewhat efficient genetic algorithm that will be able to find by itself the solution to a task."
   ]
  },
  {
   "cell_type": "markdown",
   "metadata": {},
   "source": [
    "## Is a program solution\n",
    "\n",
    "First, we need a way to know if a program is a solution of the given examples of a task.\n",
    "\n",
    "!!is solution"
   ]
  },
  {
   "cell_type": "code",
   "execution_count": 59,
   "metadata": {},
   "outputs": [
    {
     "name": "stdout",
     "output_type": "stream",
     "text": [
      "[tile3h, mirror, head, tile3h, stackv] is a solution of the task: False\n"
     ]
    }
   ],
   "source": [
    "def are_two_images_equals(a, b):\n",
    "    if tuple(a.shape) == tuple(b.shape):\n",
    "        if (np.abs(b-a) < 1).all():\n",
    "            return True\n",
    "    return False\n",
    "\n",
    "def is_solution(program, task, verbose=True):\n",
    "    for sample in task: # For each pair input/output\n",
    "        \n",
    "        i = np.array(sample['input'])\n",
    "        o = np.array(sample['output'])\n",
    "\n",
    "        # Evaluate the program on the input\n",
    "        images = evaluate(program, i)\n",
    "        if len(images) < 1:\n",
    "            return False\n",
    "        \n",
    "        # The solution should be in the 3 last outputs\n",
    "        images = images[-3:]\n",
    "        #print(\"Images=\",images) #debug\n",
    "        # Check if the output is in the 3 images produced\n",
    "        is_program_of_for_sample = any([are_two_images_equals(x, o) for x in images])\n",
    "        if not is_program_of_for_sample:\n",
    "            return False\n",
    "    \n",
    "    return True\n",
    "\n",
    "program = [tile3h, mirror,head,tile3h,stackv]\n",
    "print(program_desc(program),\"is a solution of the task:\", is_solution(program, task['train']))"
   ]
  },
  {
   "cell_type": "code",
   "execution_count": 73,
   "metadata": {},
   "outputs": [
    {
     "name": "stdout",
     "output_type": "stream",
     "text": [
      "/media/SSD/Abstraction and Reasoning/training/007bbfb7.json\n",
      "Befores are Square : True\n",
      "Afters are Square : True\n",
      "All Befores have same Vertical : 3\n",
      "All Befores have same Horizontal : 3\n",
      "All Afters have same Vertical : 9\n",
      "All Afters have same Horizontal : 9\n",
      "All Befores and Afters have same Vertical : False\n",
      "All Befores and Afters have same Horizontal : False\n",
      "Every Before and After has same Vertical : False\n",
      "Every Before and After has same Horizontal : False\n",
      "Common colors : {0}\n",
      "Common colors in all Befores : {0}\n",
      "Common colors in all Afters : {0}\n",
      "Common colors taken from all Befores : set()\n",
      "Colors not common in Befores : {2, 4, 6, 7}\n",
      "Colors not common in Afters : {2, 4, 6, 7}\n"
     ]
    },
    {
     "data": {
      "image/png": "[encoded data removed]",
      "text/plain": [
       "<Figure size 1080x432 with 10 Axes>"
      ]
     },
     "metadata": {
      "needs_background": "light"
     },
     "output_type": "display_data"
    },
    {
     "data": {
      "image/png": "[encoded data removed]",
      "text/plain": [
       "<Figure size 216x432 with 2 Axes>"
      ]
     },
     "metadata": {
      "needs_background": "light"
     },
     "output_type": "display_data"
    }
   ],
   "source": [
    "# Load my favorite task\n",
    "task_file = str(training_path / training_tasks[0])\n",
    "task = load_task(task_file)"
   ]
  },
  {
   "cell_type": "code",
   "execution_count": 61,
   "metadata": {},
   "outputs": [
    {
     "data": {
      "image/png": "[encoded data removed]",
      "text/plain": [
       "<Figure size 1224x360 with 2 Axes>"
      ]
     },
     "metadata": {
      "needs_background": "light"
     },
     "output_type": "display_data"
    }
   ],
   "source": [
    "images = evaluate(program=[tile3h,mirror,stackv], input_image=task['train'][0]['input'])\n",
    "#images = images[-3:]\n",
    "show_image_list(images)"
   ]
  },
  {
   "cell_type": "code",
   "execution_count": 62,
   "metadata": {},
   "outputs": [],
   "source": [
    "# see https://stackoverflow.com/questions/7670112/finding-a-subimage-inside-a-numpy-image\n",
    "\n",
    "\n",
    "def subimg_location(haystack, needle):\n",
    "    \n",
    "    try:\n",
    "        \n",
    "        haystack_str = b\"\".join(48+haystack.flatten().astype(np.dtype('b'))).decode(\"latin-1\") \n",
    "        needle_str = b\"\".join((48+needle.flatten()).astype(np.dtype('b'))).decode(\"latin-1\") \n",
    "    except:\n",
    "        print(\"needle=\",needle)\n",
    "        print(\"type=\",type(needle))\n",
    "        print(\"shape=\",needle.shape)\n",
    "        print(\"temp=\",temp)\n",
    "        print(\" \")\n",
    "    \n",
    "\n",
    "    gap_size = (haystack.shape[1] - needle.shape[1]) \n",
    "    \n",
    "    #print(gap_size)\n",
    "    gap_regex = '.{' + str(gap_size) + '}'\n",
    "\n",
    "    #print(gap_regex)\n",
    "    # Split b into needle.size[0] chunks\n",
    "    chunk_size = needle.shape[1] \n",
    "    split = [needle_str[i:i+chunk_size] for i in range(0, len(needle_str), chunk_size)]\n",
    "\n",
    "    # Build regex\n",
    "    regex = re.escape(split[0])\n",
    "    for i in range(1, len(split)):\n",
    "        regex += gap_regex + re.escape(split[i])\n",
    "\n",
    "    p = re.compile(regex)\n",
    "    m = p.search(haystack_str)\n",
    "\n",
    "    if not m:\n",
    "        return False\n",
    "\n",
    "    x, _ = m.span()\n",
    "\n",
    "    left = x % (haystack.shape[1] ) \n",
    "    top  = int(x / haystack.shape[1] )\n",
    "\n",
    "    return (top, left)"
   ]
  },
  {
   "cell_type": "markdown",
   "metadata": {},
   "source": [
    "## Fitness\n",
    "\n",
    "To help our algorithm progress in the right direction, we need a way to give a score to an existing program. The smaller is the score of the program, the closer we are to the solution. One can think of this score as a distance of our program to the optimal solution.\n",
    "\n",
    "Notice that one can think of this program as a minimization problem (minimize `score`) or maximization problem (minimize `-score`). On machine learning it is common to minimise a distance wereas in genetic algorithm literature you can read that we maximize the fitness of an agent. Both convention work perfectly, but it is more convenient if we choose one and stick to it. Therefore, we will MINIMIZE the score of our programs.\n",
    "\n",
    "First, we are going to evaluate how our program perform on different aspects.\n",
    "\n",
    "!!fitness"
   ]
  },
  {
   "cell_type": "code",
   "execution_count": 63,
   "metadata": {},
   "outputs": [],
   "source": [
    "\n",
    "\n",
    "\n",
    "def width_fitness(predicted, expected_output):\n",
    "    \"\"\" How close the predicted image is to have the right width. Less is better.\"\"\"\n",
    "    return np.abs(predicted.shape[0] - expected_output.shape[0])\n",
    "\n",
    "def height_fitness(predicted, expected_output):\n",
    "    \"\"\" How close the predicted image is to have the right height. Less is better.\"\"\"\n",
    "    return np.abs(predicted.shape[1] - expected_output.shape[1])\n",
    "\n",
    "def activated_pixels_fitness(p, e):\n",
    "    \"\"\" How close the predicted image to have the right pixels. Less is better.\"\"\"\n",
    "    shape = (max(p.shape[0], e.shape[0]), max(p.shape[1], e.shape[1]))\n",
    "    diff = np.zeros(shape, dtype=int)\n",
    "    diff[0:p.shape[0], 0:p.shape[1]] = (p > 0).astype(int)\n",
    "    diff[0:e.shape[0], 0:e.shape[1]] -= (e > 0).astype(int)\n",
    "    \n",
    "    fit = (diff != 0).sum()\n",
    "    \n",
    "    return fit\n",
    "\n",
    "\n",
    "def submatch_fitness(p,e):\n",
    "    \n",
    "    (py,px) = p.shape\n",
    "    (ey,ex) = e.shape\n",
    "    \n",
    "    if px<=ex and py<=ey:\n",
    "        \n",
    "        r = subimg_location(haystack=e,needle=p)\n",
    "    \n",
    "    elif px>=ex and py>=ey:\n",
    "        r = subimg_location(haystack=p,needle=e)\n",
    "    elif px<ex and py>=ey:\n",
    "        \n",
    "        r = subimg_location(haystack=e[:,:px],needle=p)\n",
    "    elif px>=ex and py<ey:\n",
    " \n",
    "        r = subimg_location(haystack=e[:py,:],needle=p)\n",
    "    else:\n",
    "        print(\"whats up\",px,ex,py,ey)\n",
    "            \n",
    "    if r == False:\n",
    "        return 1\n",
    "    else:\n",
    "        #print(r)\n",
    "        return 0\n",
    "        \n",
    "\n",
    "def pixels_match_fitness(p,e):\n",
    "    shape = (max(p.shape[0], e.shape[0]), max(p.shape[1], e.shape[1]))\n",
    "    #check how many pixels match the expected output.\n",
    "    p1 = np.zeros(shape, dtype=int)\n",
    "    e1 = np.zeros(shape, dtype=int)\n",
    "    \n",
    "    p1[0:p.shape[0], 0:p.shape[1]] = p\n",
    "    e1[0:e.shape[0], 0:e.shape[1]] = e\n",
    "    \n",
    "    #q=np.abs(p1-e1).sum() + abs(e.shape[0]-p.shape[0])*abs(e.shape[1]-p.shape[1])\n",
    "    q=np.abs(p1-e1).sum()\n",
    "    \n",
    "    s=submatch_fitness(p,e)\n",
    "    \n",
    "    return q*(1+5*s)\n",
    "    \n",
    "\n",
    "def colors_fitness(p, e):\n",
    "    p_colors = np.unique(p)\n",
    "    e_colors = np.unique(e)\n",
    "    \n",
    "    nb_inter = len(np.intersect1d(p_colors, e_colors))\n",
    "\n",
    "    return (len(p_colors) - nb_inter) + (len(e_colors) - nb_inter)\n",
    "\n",
    "fitness_functions = [colors_fitness, activated_pixels_fitness, height_fitness, width_fitness, pixels_match_fitness]\n"
   ]
  },
  {
   "cell_type": "markdown",
   "metadata": {},
   "source": [
    "The fitness score (less is better) of our function will be a 4-dimensional tuple containing the result of each of the fitness functions.\n",
    "\n",
    "We want to be able to compare two score. Unfortunately, the *lixocographical order* is not adapted, as there is no reason than having a small `width score` is better than having a small `height score`. We are going to define a partial order that give the same weight to any fitness function.\n",
    "\n",
    "When we compare two tuple with this partial order, `(3, 2, 4, 0) < (3, 2, 5, 0)` and `(3, 2, 4, 0) < (4, 2, 4, 0)`. But there is no way to compare `(3, 2, 5, 0)` and `(4, 2, 4, 0)`. We say this two values are *incomparable*. If two score are incomparable, it means that we cannot say that one program is better than the over."
   ]
  },
  {
   "cell_type": "code",
   "execution_count": 64,
   "metadata": {},
   "outputs": [],
   "source": [
    "def product_less(a, b):\n",
    "    \"\"\" Return True iff the two tuples a and b respect a<b for the partial order. \"\"\"\n",
    "    a = np.array(a)\n",
    "    b = np.array(b)\n",
    "    return (np.array(a) < np.array(b)).all()\n",
    "    "
   ]
  },
  {
   "cell_type": "markdown",
   "metadata": {},
   "source": [
    "We now write a function that evaluate the fitness of a program on a task."
   ]
  },
  {
   "cell_type": "code",
   "execution_count": 65,
   "metadata": {},
   "outputs": [
    {
     "name": "stdout",
     "output_type": "stream",
     "text": [
      "Fitness evaluation: (3.0, 58.0, 11.0, 3.0, 720.0, 2.0)\n"
     ]
    }
   ],
   "source": [
    "# ([[np.array] -> [np.array]], Taks) -> (int, int, ..., int)\n",
    "def evaluate_fitness(program, task):\n",
    "    \"\"\" Take a program and a task, and return its fitness score as a tuple. \"\"\"\n",
    "    score = np.zeros((len(fitness_functions)+1))\n",
    "    \n",
    "    # For each sample\n",
    "    for sample in task:\n",
    "        i = np.array(sample['input'])\n",
    "        o = np.array(sample['output'])\n",
    "        images = evaluate(program, i)\n",
    "        \n",
    "        # For each fitness function\n",
    "        for index, fitness_function in enumerate(fitness_functions):\n",
    "            #images = evaluate(program, i)   ### This can be pulled out of loop\n",
    "            if images == []: # Penalize no prediction!\n",
    "                score[index] += 500\n",
    "            else: # Take only the score of the last 3 outputs\n",
    "                score[index]=0\n",
    "                im3=images[-3:]\n",
    "                for imct in range(len(im3)):\n",
    "                    score[index] = score[index] + fitness_function(im3[imct], o)/len(im3)\n",
    "        index=index+1\n",
    "        score[index]=len(images)  ## add a fitness function that penalizes # images\n",
    "                \n",
    "    return tuple(score)\n",
    "\n",
    "print(\"Fitness evaluation:\", evaluate_fitness([tile3,], task['train']))"
   ]
  },
  {
   "cell_type": "code",
   "execution_count": 66,
   "metadata": {},
   "outputs": [
    {
     "name": "stdout",
     "output_type": "stream",
     "text": [
      "Fitness evaluation: (3.0, 22.0, 11.0, 0.0, 288.0, 2.0)\n",
      "Fitness evaluation: (3.0, 26.0, 13.333333333333332, 0.0, 336.0, 4.0)\n",
      "Fitness evaluation: (3.0, 18.0, 8.666666666666666, 0.0, 240.0, 3.0)\n",
      "Fitness evaluation: (3.0, 58.0, 32.0, 0.0, 720.0, 6.0)\n",
      "Fitness evaluation: (3.0, 64.0, 11.0, 4.5, 792.0, 2.0)\n"
     ]
    }
   ],
   "source": [
    "print(\"Fitness evaluation:\", evaluate_fitness([tile3h], task['train']))\n",
    "print(\"Fitness evaluation:\", evaluate_fitness([tile3h, mirror], task['train']))\n",
    "print(\"Fitness evaluation:\", evaluate_fitness([tile3h, mirror,head], task['train']))\n",
    "print(\"Fitness evaluation:\", evaluate_fitness([tile3h, mirror,head,tile3h], task['train']))\n",
    "print(\"Fitness evaluation:\", evaluate_fitness([tile3h, mirror,head,tile3h,stackv], task['train']))\n"
   ]
  },
  {
   "cell_type": "markdown",
   "metadata": {},
   "source": [
    "## Asexual reproduction\n",
    "\n",
    "Now that we can compare two programs we need a way to generate some of them. We will generate them randomly from a pool of best candidate.\n",
    "\n",
    "For the initial run, and also to be able to evaluate fresh candidates, we will also allow spontaneous generation of new born one instruction programs.\n",
    "\n",
    "!!reproduction"
   ]
  },
  {
   "cell_type": "code",
   "execution_count": 67,
   "metadata": {},
   "outputs": [
    {
     "data": {
      "text/plain": [
       "42"
      ]
     },
     "execution_count": 67,
     "metadata": {},
     "output_type": "execute_result"
    }
   ],
   "source": [
    "def build_candidates(allowed_nodes=[identity], best_candidates=[], nb_candidates=100):\n",
    "    \"\"\"\n",
    "    Create a poll of fresh candidates using the `allowed_nodes`.\n",
    "    \n",
    "    The pool contain a mix of new single instructions programs\n",
    "    and mutations of the best candidates.\n",
    "    \"\"\"\n",
    "    \n",
    "    #Additions\n",
    "    #Choose candidates based on probabilities\n",
    "    #Choose candidates based on analysis of the task (give rotate higher prob if pattern matching shows rotated ims)\n",
    "    new_candidates = []\n",
    "    length_limit = 5 # Maximal length of a program\n",
    "    \n",
    "    def random_node():\n",
    "        return random.choice(allowed_nodes)\n",
    "    \n",
    "    # Until we have enougth new candidates\n",
    "    while(len(new_candidates) < nb_candidates):\n",
    "        # Add 10 new programs\n",
    "        for i in range(5):\n",
    "            new_candidates += [[random_node()]]\n",
    "        \n",
    "        # Create new programs based on each best candidate\n",
    "        for best_program in best_candidates:\n",
    "            # Add one op on its right but limit the length of the program\n",
    "            if len(best_program) < length_limit - 1:\n",
    "                new_candidates += [[random_node()] + best_program]\n",
    "            # Add one op on its left but limit the length of the program\n",
    "            if len(best_program) < length_limit - 1:\n",
    "                new_candidates += [best_program + [random_node()]]\n",
    "            # Mutate one instruction of the existing program\n",
    "            new_candidates += [list(best_program)]\n",
    "            new_candidates[-1][random.randrange(0, len(best_program))] = random_node()\n",
    "   \n",
    "    # Truncate if we have too many candidates\n",
    "    np.random.shuffle(new_candidates)\n",
    "    return new_candidates[:nb_candidates]\n",
    "\n",
    "# Test the function by building some candidates\n",
    "len(build_candidates(allowed_nodes=[identity], best_candidates=[[identity]], nb_candidates=42))"
   ]
  },
  {
   "cell_type": "markdown",
   "metadata": {},
   "source": [
    "## Find a program given a task\n",
    "\n",
    "This is the last step to our genetic algorithm. We have all the building blocks:\n",
    " * Generating both new programs and mutation of existing solutions\n",
    " * Evaluating the fitness score of a program\n",
    " * Comparing two programs to know if one perform better than the other\n",
    " * Detecting when a solution was found\n",
    " \n",
    "We can now write a function that will keep generating programs with increasing complexity until a solution is found.\n",
    "\n",
    "Using our partial order, we are going to keep the best candidates. Because the order is partial,\n",
    "there is no bound on how many uncomparables candidates we may have at a given iteration.\n",
    "\n",
    "!!build"
   ]
  },
  {
   "cell_type": "code",
   "execution_count": 68,
   "metadata": {},
   "outputs": [],
   "source": [
    "\n",
    "def build_model(task, max_iterations=20, verbose=True):\n",
    "    \n",
    "    #Additions\n",
    "    #Convert a task to numpy arrays once instead of in each eval\n",
    "    \n",
    "    \n",
    "    \n",
    "    candidates_nodes = [\n",
    "        intersect,\n",
    "        \n",
    "        cropToContent, groupByColor, splitH, splitV,splitVn, splitHn,\n",
    "        tile2,tile3,zoom3,zoom2,union,sortByColor, mirror,rotate,colorshift,\n",
    "        tile2h,tile3h,stackh,stackv,head,\n",
    "        init,tail, sortByWeight, reverse, negative,swap,\n",
    "        \n",
    "        agroupByColor,atile,asortByColor,dedupe\n",
    "        \n",
    "        #extend,push,pull,dedupe,azoom,splitRD,splitLD\n",
    "\n",
    "    ]\n",
    "    \n",
    "    #print(\"Task=\",task)\n",
    "    #print(\"max_iterations=\",max_iterations)\n",
    "    #print('verbose=',verbose)\n",
    "    print(\".\")\n",
    "    if verbose:\n",
    "        print(\"Candidates nodes are:\", [program_desc([n]) for n in candidates_nodes])\n",
    "        print()\n",
    "\n",
    "    best_candidates = {} # A dictionary of {score:candidate}\n",
    "    for i in range(max_iterations):\n",
    "        if verbose:\n",
    "            print(\"Iteration \", i+1)\n",
    "            print(\"-\" * 10)\n",
    "        \n",
    "        # Create a list of candidates\n",
    "        candidates = build_candidates(candidates_nodes, best_candidates.values())\n",
    "        \n",
    "        # Keep candidates with best fitness.\n",
    "        # They will be stored in the `best_candidates` dictionary\n",
    "        # where the key of each program is its fitness score.\n",
    "        for candidate in candidates:\n",
    "            score = evaluate_fitness(candidate, task)\n",
    "            is_uncomparable = True # True if we cannot compare the two candidate's scores\n",
    "            \n",
    "            # Compare the new candidate to the existing best candidates\n",
    "            best_candidates_items = list(best_candidates.items())\n",
    "            for best_score, best_candidate in best_candidates_items:\n",
    "                if product_less(score, best_score):\n",
    "                    # Remove previous best candidate and add the new one\n",
    "                    del best_candidates[best_score]\n",
    "                    best_candidates[score] = candidate\n",
    "                    is_uncomparable = False # The candidates are comparable\n",
    "                if product_less(best_score, score) or best_score == score:\n",
    "                    is_uncomparable = False # The candidates are comparable\n",
    "            if is_uncomparable: # The two candidates are uncomparable\n",
    "                best_candidates[score] = candidate\n",
    "\n",
    "        # For each best candidate, we look if we have an answer\n",
    "        for program in best_candidates.values():\n",
    "            if is_solution(program, task):\n",
    "                return program\n",
    "            \n",
    "        # Give some informations by selecting a random candidate\n",
    "        if verbose:\n",
    "            print(\"Best candidates length:\", len(best_candidates))\n",
    "            random_candidate_score = random.choice(list(best_candidates.keys()))\n",
    "            print(\"Random candidate score:\", random_candidate_score)\n",
    "            print(\"Random candidate implementation:\", program_desc(best_candidates[random_candidate_score]))\n",
    "    return None"
   ]
  },
  {
   "cell_type": "markdown",
   "metadata": {},
   "source": [
    "# Solving the task\n",
    "\n",
    "We now apply our knowledge to solving the first task presented. We will run our algorithm and see how long it takes to generate a program that can solve the task. You may run the folowing cell multiple times to see the variance into how long the algorithm takes to find the answer."
   ]
  },
  {
   "cell_type": "code",
   "execution_count": 69,
   "metadata": {},
   "outputs": [
    {
     "name": "stdout",
     "output_type": "stream",
     "text": [
      "/media/SSD/Abstraction and Reasoning/test/009d5c81.json\n",
      "Befores are Square : True\n",
      "Afters are Square : True\n",
      "All Befores have same Vertical : 14\n",
      "All Befores have same Horizontal : 14\n",
      "All Afters have same Vertical : 14\n",
      "All Afters have same Horizontal : 14\n",
      "All Befores and Afters have same Vertical : 14\n",
      "All Befores and Afters have same Horizontal : 14\n",
      "Every Before and After has same Vertical : True\n",
      "Every Before and After has same Horizontal : True\n",
      "Common colors : {0}\n",
      "Common colors in all Befores : {0, 8, 1}\n",
      "Common colors in all Afters : {0}\n",
      "Common colors taken from all Befores : {8, 1}\n",
      "Colors not common in Befores : set()\n",
      "Colors not common in Afters : {2, 3, 7}\n"
     ]
    },
    {
     "data": {
      "image/png": "[encoded data removed]",
      "text/plain": [
       "<Figure size 1080x432 with 10 Axes>"
      ]
     },
     "metadata": {
      "needs_background": "light"
     },
     "output_type": "display_data"
    },
    {
     "name": "stdout",
     "output_type": "stream",
     "text": [
      "No test output\n"
     ]
    },
    {
     "data": {
      "image/png": "[encoded data removed]",
      "text/plain": [
       "<Figure size 216x432 with 2 Axes>"
      ]
     },
     "metadata": {
      "needs_background": "light"
     },
     "output_type": "display_data"
    }
   ],
   "source": [
    "# Load my favorite task\n",
    "#task_file = str(training_path / training_tasks[7])\n",
    "task_file = str(test_path / testing_tasks[1])\n",
    "task = load_task(task_file)\n",
    "    "
   ]
  },
  {
   "cell_type": "markdown",
   "metadata": {},
   "source": [
    "* Use the same pool and test other problems while solving - don't just solve one problem at a time.\n",
    "* look at parallelizing it"
   ]
  },
  {
   "cell_type": "markdown",
   "metadata": {},
   "source": [
    "# Processing the data\n",
    "\n",
    "!!processing"
   ]
  },
  {
   "cell_type": "code",
   "execution_count": 71,
   "metadata": {
    "scrolled": true
   },
   "outputs": [
    {
     "data": {
      "image/png": "[encoded data removed]",
      "text/plain": [
       "<Figure size 1224x360 with 6 Axes>"
      ]
     },
     "metadata": {
      "needs_background": "light"
     },
     "output_type": "display_data"
    }
   ],
   "source": [
    "images = evaluate(program=[splitLD, splitV, cropToContent, splitRD,dedupe], input_image=task['train'][2]['input'])\n",
    "#images = images[-3:]\n",
    "show_image_list(images)"
   ]
  },
  {
   "cell_type": "code",
   "execution_count": 38,
   "metadata": {},
   "outputs": [],
   "source": [
    "l=[0,1,2,3,4,5,6,7,8,9]"
   ]
  },
  {
   "cell_type": "code",
   "execution_count": 39,
   "metadata": {},
   "outputs": [
    {
     "data": {
      "text/plain": [
       "[7, 8, 9]"
      ]
     },
     "execution_count": 39,
     "metadata": {},
     "output_type": "execute_result"
    }
   ],
   "source": [
    "l[-3:]"
   ]
  },
  {
   "cell_type": "code",
   "execution_count": 75,
   "metadata": {},
   "outputs": [
    {
     "name": "stdout",
     "output_type": "stream",
     "text": [
      ".\n",
      "Candidates nodes are: ['[intersect]', '[cropToContent]', '[groupByColor]', '[splitH]', '[splitV]', '[splitVn]', '[splitHn]', '[tile2]', '[tile3]', '[zoom3]', '[zoom2]', '[union]', '[sortByColor]', '[mirror]', '[rotate]', '[colorshift]', '[tile2h]', '[tile3h]', '[stackh]', '[stackv]', '[head]', '[init]', '[tail]', '[sortByWeight]', '[reverse]', '[negative]', '[swap]', '[agroupByColor]', '[atile]', '[asortByColor]', '[dedupe]']\n",
      "\n",
      "Iteration  1\n",
      "----------\n",
      "Best candidates length: 12\n",
      "Random candidate score: (1.0, 25.0, 6.0, 6.0, 50.0, 1.0)\n",
      "Random candidate implementation: [agroupByColor]\n",
      "Iteration  2\n",
      "----------\n",
      "Best candidates length: 27\n",
      "Random candidate score: (0.0, 140.0, 6.0, 6.0, 1680.0, 4.0)\n",
      "Random candidate implementation: [zoom3, atile]\n",
      "Iteration  3\n",
      "----------\n",
      "Best candidates length: 58\n",
      "Random candidate score: (0.0, 66.66666666666666, 4.0, 4.0, 800.0, 4.0)\n",
      "Random candidate implementation: [tile2, zoom3]\n",
      "Iteration  4\n",
      "----------\n",
      "\n",
      "Found program: [zoom3, atile, intersect]\n"
     ]
    }
   ],
   "source": [
    "#Run task analysis\n",
    "analyze(task,ignore_test_after = True)\n",
    "program = build_model(task['train'],max_iterations=100, verbose=True)\n",
    "\n",
    "print()\n",
    "if program is None:\n",
    "    print(\"No program was found\")\n",
    "else:\n",
    "    print(\"Found program:\", program_desc(program))"
   ]
  },
  {
   "cell_type": "code",
   "execution_count": null,
   "metadata": {},
   "outputs": [],
   "source": [
    "answer = evaluate(eval(program_desc(program)), input_image=task['test'][0]['input'])\n",
    "print(\"Answer:\", is_solution(eval(program_desc(program)), task['test']))\n",
    "show_image_list(answer)"
   ]
  },
  {
   "cell_type": "code",
   "execution_count": null,
   "metadata": {
    "scrolled": false
   },
   "outputs": [],
   "source": [
    "program = save_build_model(training_tasks[13],\n",
    "                           task_path = training_path,\n",
    "                           prog_path=program_path,\n",
    "                           max_iterations=100,\n",
    "                           verbose=True)\n",
    "\n",
    "print()\n",
    "if program is None:\n",
    "    print(\"No program was found\")\n",
    "else:\n",
    "    print(\"Found program:\", program_desc(program))"
   ]
  },
  {
   "cell_type": "code",
   "execution_count": null,
   "metadata": {},
   "outputs": [],
   "source": [
    "program_desc(program)"
   ]
  },
  {
   "cell_type": "code",
   "execution_count": 26,
   "metadata": {},
   "outputs": [],
   "source": [
    "def save_build_model(taskfn, task_path = training_path, prog_path=program_path,max_iterations=20, verbose=True):\n",
    "    task_file = str(task_path / taskfn)\n",
    "    with open(task_file, 'r') as f:\n",
    "        task = json.load(f)\n",
    "     \n",
    "    #plot_task(task)\n",
    "    analyze(task,ignore_test_after = True)\n",
    "    program = build_model(task=task['train'],max_iterations=max_iterations, verbose=verbose)\n",
    "    if program is None:\n",
    "        print(\"No program was found for task: \", taskfn)\n",
    "    else:\n",
    "        print(\"Program was found for task: \", taskfn, \"= \",program_desc(program))\n",
    "        prog_file = program_path/(\"prog_\"+taskfn)\n",
    "        with open(prog_file, 'w') as f:\n",
    "            json.dump(program_desc(program), f)\n",
    "        \n",
    "    return program"
   ]
  },
  {
   "cell_type": "code",
   "execution_count": 27,
   "metadata": {
    "scrolled": true
   },
   "outputs": [
    {
     "name": "stdout",
     "output_type": "stream",
     "text": [
      ".\n",
      "No program was found for task:  00576224.json\n",
      ".\n",
      "No program was found for task:  009d5c81.json\n",
      ".\n",
      "No program was found for task:  00dbd492.json\n",
      ".\n",
      "No program was found for task:  03560426.json\n",
      ".\n",
      "No program was found for task:  05a7bcf2.json\n",
      ".\n",
      "No program was found for task:  0607ce86.json\n",
      ".\n",
      "No program was found for task:  0692e18c.json\n",
      ".\n",
      "No program was found for task:  070dd51e.json\n",
      ".\n",
      "No program was found for task:  08573cc6.json\n",
      ".\n",
      "No program was found for task:  0934a4d8.json\n",
      ".\n",
      "No program was found for task:  09c534e7.json\n",
      ".\n",
      "No program was found for task:  0a1d4ef5.json\n",
      ".\n",
      "No program was found for task:  0a2355a6.json\n",
      ".\n",
      "No program was found for task:  0b17323b.json\n",
      ".\n",
      "No program was found for task:  0bb8deee.json\n",
      ".\n",
      "No program was found for task:  0becf7df.json\n",
      ".\n",
      "No program was found for task:  0c786b71.json\n",
      ".\n",
      "No program was found for task:  0c9aba6e.json\n",
      ".\n",
      "No program was found for task:  0d87d2a6.json\n",
      ".\n",
      "No program was found for task:  0e671a1a.json\n",
      ".\n",
      "No program was found for task:  0f63c0b9.json\n",
      ".\n",
      "No program was found for task:  103eff5b.json\n",
      ".\n",
      "No program was found for task:  11e1fe23.json\n",
      ".\n",
      "No program was found for task:  12422b43.json\n",
      ".\n",
      "No program was found for task:  12997ef3.json\n",
      ".\n",
      "No program was found for task:  12eac192.json\n",
      ".\n",
      "No program was found for task:  136b0064.json\n",
      ".\n",
      "No program was found for task:  13713586.json\n",
      ".\n",
      "No program was found for task:  137f0df0.json\n",
      ".\n",
      "No program was found for task:  140c817e.json\n",
      ".\n",
      "No program was found for task:  14754a24.json\n",
      ".\n",
      "No program was found for task:  15113be4.json\n",
      ".\n",
      "No program was found for task:  15663ba9.json\n",
      ".\n",
      "No program was found for task:  15696249.json\n",
      ".\n",
      "No program was found for task:  16b78196.json\n",
      ".\n",
      "No program was found for task:  17b80ad2.json\n",
      ".\n",
      "No program was found for task:  17cae0c1.json\n",
      ".\n",
      "No program was found for task:  18419cfa.json\n",
      ".\n",
      "No program was found for task:  184a9768.json\n",
      ".\n",
      "No program was found for task:  195ba7dc.json\n",
      ".\n",
      "No program was found for task:  1990f7a8.json\n",
      ".\n",
      "No program was found for task:  19bb5feb.json\n",
      ".\n",
      "No program was found for task:  1a2e2828.json\n",
      ".\n",
      "No program was found for task:  1a6449f1.json\n",
      ".\n",
      "No program was found for task:  1acc24af.json\n",
      ".\n",
      "No program was found for task:  1c02dbbe.json\n",
      ".\n",
      "No program was found for task:  1c0d0a4b.json\n",
      ".\n",
      "No program was found for task:  1c56ad9f.json\n",
      ".\n",
      "No program was found for task:  1d0a4b61.json\n",
      ".\n",
      "No program was found for task:  1d398264.json\n",
      ".\n",
      "No program was found for task:  1da012fc.json\n",
      ".\n",
      "No program was found for task:  1e81d6f9.json\n",
      ".\n",
      "No program was found for task:  1e97544e.json\n",
      ".\n",
      "No program was found for task:  2037f2c7.json\n",
      ".\n",
      "No program was found for task:  2072aba6.json\n",
      ".\n",
      "No program was found for task:  20818e16.json\n",
      ".\n",
      "No program was found for task:  20981f0e.json\n",
      ".\n",
      "No program was found for task:  212895b5.json\n",
      ".\n",
      "No program was found for task:  21f83797.json\n",
      ".\n",
      "No program was found for task:  22a4bbc2.json\n",
      ".\n",
      "No program was found for task:  25094a63.json\n",
      ".\n",
      "No program was found for task:  2546ccf6.json\n",
      ".\n",
      "No program was found for task:  256b0a75.json\n",
      ".\n",
      "No program was found for task:  2685904e.json\n",
      ".\n",
      "No program was found for task:  2697da3f.json\n",
      ".\n",
      "No program was found for task:  2753e76c.json\n",
      ".\n",
      "No program was found for task:  27a77e38.json\n",
      ".\n",
      "No program was found for task:  27f8ce4f.json\n",
      ".\n",
      "No program was found for task:  281123b4.json\n",
      ".\n",
      "No program was found for task:  292dd178.json\n",
      ".\n",
      "No program was found for task:  29700607.json\n",
      ".\n",
      "No program was found for task:  2a5f8217.json\n",
      ".\n",
      "No program was found for task:  2b01abd0.json\n",
      ".\n",
      "No program was found for task:  2c0b0aff.json\n",
      ".\n",
      "No program was found for task:  2c737e39.json\n",
      ".\n",
      "No program was found for task:  2f0c5170.json\n",
      ".\n",
      "No program was found for task:  310f3251.json\n",
      ".\n",
      "No program was found for task:  3194b014.json\n",
      ".\n",
      "No program was found for task:  319f2597.json\n",
      ".\n",
      "No program was found for task:  31adaf00.json\n",
      ".\n",
      "No program was found for task:  31d5ba1a.json\n",
      ".\n",
      "No program was found for task:  32e9702f.json\n",
      ".\n",
      "No program was found for task:  332efdb3.json\n",
      ".\n",
      "No program was found for task:  3391f8c0.json\n",
      ".\n",
      "No program was found for task:  33b52de3.json\n",
      ".\n",
      "No program was found for task:  3490cc26.json\n",
      ".\n",
      "No program was found for task:  34b99a2b.json\n",
      ".\n",
      "No program was found for task:  351d6448.json\n",
      ".\n",
      "No program was found for task:  358ba94e.json\n",
      ".\n",
      "No program was found for task:  37d3e8b2.json\n",
      ".\n",
      "No program was found for task:  3979b1a8.json\n",
      ".\n",
      "No program was found for task:  3a301edc.json\n",
      ".\n",
      "No program was found for task:  3b4c2228.json\n",
      ".\n",
      "No program was found for task:  3d31c5b3.json\n",
      ".\n",
      "No program was found for task:  3ed85e70.json\n",
      ".\n",
      "No program was found for task:  3ee1011a.json\n",
      ".\n",
      "No program was found for task:  3f23242b.json\n",
      ".\n",
      "No program was found for task:  40f6cd08.json\n",
      ".\n",
      "No program was found for task:  414297c0.json\n",
      ".\n",
      "No program was found for task:  423a55dc.json\n"
     ]
    }
   ],
   "source": [
    "program_path = data_path/'programs/test'\n",
    "for i in testing_tasks:\n",
    "    program = save_build_model(i,test_path,program_path,5,False)"
   ]
  },
  {
   "cell_type": "code",
   "execution_count": null,
   "metadata": {},
   "outputs": [
    {
     "name": "stdout",
     "output_type": "stream",
     "text": [
      "12\n"
     ]
    }
   ],
   "source": [
    "program_path = data_path/'programs/test'\n",
    "num_cores = multiprocessing.cpu_count()\n",
    "print(num_cores)\n",
    "\n",
    "programs = Parallel(n_jobs=num_cores-2)(delayed(save_build_model)\n",
    "                                        (i,test_path,program_path,100,False) for i in testing_tasks)\n",
    "\n"
   ]
  },
  {
   "cell_type": "code",
   "execution_count": 31,
   "metadata": {},
   "outputs": [
    {
     "data": {
      "text/plain": [
       "['00576224.json',\n",
       " '009d5c81.json',\n",
       " '00dbd492.json',\n",
       " '03560426.json',\n",
       " '05a7bcf2.json',\n",
       " '0607ce86.json',\n",
       " '0692e18c.json',\n",
       " '070dd51e.json',\n",
       " '08573cc6.json',\n",
       " '0934a4d8.json',\n",
       " '09c534e7.json',\n",
       " '0a1d4ef5.json',\n",
       " '0a2355a6.json',\n",
       " '0b17323b.json',\n",
       " '0bb8deee.json',\n",
       " '0becf7df.json',\n",
       " '0c786b71.json',\n",
       " '0c9aba6e.json',\n",
       " '0d87d2a6.json',\n",
       " '0e671a1a.json',\n",
       " '0f63c0b9.json',\n",
       " '103eff5b.json',\n",
       " '11e1fe23.json',\n",
       " '12422b43.json',\n",
       " '12997ef3.json',\n",
       " '12eac192.json',\n",
       " '136b0064.json',\n",
       " '13713586.json',\n",
       " '137f0df0.json',\n",
       " '140c817e.json',\n",
       " '14754a24.json',\n",
       " '15113be4.json',\n",
       " '15663ba9.json',\n",
       " '15696249.json',\n",
       " '16b78196.json',\n",
       " '17b80ad2.json',\n",
       " '17cae0c1.json',\n",
       " '18419cfa.json',\n",
       " '184a9768.json',\n",
       " '195ba7dc.json',\n",
       " '1990f7a8.json',\n",
       " '19bb5feb.json',\n",
       " '1a2e2828.json',\n",
       " '1a6449f1.json',\n",
       " '1acc24af.json',\n",
       " '1c02dbbe.json',\n",
       " '1c0d0a4b.json',\n",
       " '1c56ad9f.json',\n",
       " '1d0a4b61.json',\n",
       " '1d398264.json',\n",
       " '1da012fc.json',\n",
       " '1e81d6f9.json',\n",
       " '1e97544e.json',\n",
       " '2037f2c7.json',\n",
       " '2072aba6.json',\n",
       " '20818e16.json',\n",
       " '20981f0e.json',\n",
       " '212895b5.json',\n",
       " '21f83797.json',\n",
       " '22a4bbc2.json',\n",
       " '25094a63.json',\n",
       " '2546ccf6.json',\n",
       " '256b0a75.json',\n",
       " '2685904e.json',\n",
       " '2697da3f.json',\n",
       " '2753e76c.json',\n",
       " '27a77e38.json',\n",
       " '27f8ce4f.json',\n",
       " '281123b4.json',\n",
       " '292dd178.json',\n",
       " '29700607.json',\n",
       " '2a5f8217.json',\n",
       " '2b01abd0.json',\n",
       " '2c0b0aff.json',\n",
       " '2c737e39.json',\n",
       " '2f0c5170.json',\n",
       " '310f3251.json',\n",
       " '3194b014.json',\n",
       " '319f2597.json',\n",
       " '31adaf00.json',\n",
       " '31d5ba1a.json',\n",
       " '32e9702f.json',\n",
       " '332efdb3.json',\n",
       " '3391f8c0.json',\n",
       " '33b52de3.json',\n",
       " '3490cc26.json',\n",
       " '34b99a2b.json',\n",
       " '351d6448.json',\n",
       " '358ba94e.json',\n",
       " '37d3e8b2.json',\n",
       " '3979b1a8.json',\n",
       " '3a301edc.json',\n",
       " '3b4c2228.json',\n",
       " '3d31c5b3.json',\n",
       " '3ed85e70.json',\n",
       " '3ee1011a.json',\n",
       " '3f23242b.json',\n",
       " '40f6cd08.json',\n",
       " '414297c0.json',\n",
       " '423a55dc.json']"
      ]
     },
     "execution_count": 31,
     "metadata": {},
     "output_type": "execute_result"
    }
   ],
   "source": [
    "testing_tasks"
   ]
  },
  {
   "cell_type": "code",
   "execution_count": null,
   "metadata": {},
   "outputs": [],
   "source": [
    "#load tasks into mem\n",
    "tasklist=[]\n",
    "for taskit in range(400):\n",
    "    #print(\"Task\",taskit)\n",
    "    task_file = str(training_path / training_tasks[taskit])\n",
    "    with open(task_file, 'r') as f:\n",
    "        task = json.load(f)\n",
    "        tasklist.append(task)"
   ]
  },
  {
   "cell_type": "code",
   "execution_count": null,
   "metadata": {},
   "outputs": [],
   "source": [
    "num_cores = multiprocessing.cpu_count()\n",
    "print(num_cores)\n",
    "\n",
    "programs = Parallel(n_jobs=num_cores-2)(delayed(build_model)(i['train'],100,False) for i in tasklist)\n",
    "\n"
   ]
  },
  {
   "cell_type": "markdown",
   "metadata": {},
   "source": [
    "* Write out to a file for each run, with the log."
   ]
  },
  {
   "cell_type": "code",
   "execution_count": null,
   "metadata": {},
   "outputs": [],
   "source": [
    "len(programs)"
   ]
  },
  {
   "cell_type": "code",
   "execution_count": null,
   "metadata": {},
   "outputs": [],
   "source": [
    "len(testing_tasks)"
   ]
  },
  {
   "cell_type": "code",
   "execution_count": null,
   "metadata": {},
   "outputs": [],
   "source": [
    "count=0\n",
    "for taskit in range(400):\n",
    "    print(\"Task\",taskit)\n",
    "    task = tasklist[taskit]\n",
    "        \n",
    "    program = programs[taskit]\n",
    "    if program is None:\n",
    "        print(\"No program was found for:\",taskit)\n",
    "    else:\n",
    "        count=count+1\n",
    "        print(\"Task:\",taskit,\" total:\", count,\" Found program:\", program_desc(program))\n",
    "        plot_task(task)\n",
    "        answer = evaluate(eval(program_desc(program)), input_image=task['test'][0]['input'])\n",
    "        print(\"Answer:\", is_solution(eval(program_desc(program)), task['test']))\n",
    "        show_image_list(answer)\n",
    "        \n",
    "print(\"Total:\",count)\n",
    "        \n",
    "        "
   ]
  },
  {
   "cell_type": "code",
   "execution_count": null,
   "metadata": {},
   "outputs": [],
   "source": [
    "answer = evaluate(eval(program_desc(program)), input_image=task['test'][0]['input'])\n",
    "show_image_list(answer)"
   ]
  },
  {
   "cell_type": "code",
   "execution_count": null,
   "metadata": {},
   "outputs": [],
   "source": [
    "results[5]"
   ]
  },
  {
   "cell_type": "code",
   "execution_count": null,
   "metadata": {},
   "outputs": [],
   "source": [
    "program"
   ]
  },
  {
   "cell_type": "code",
   "execution_count": null,
   "metadata": {},
   "outputs": [],
   "source": [
    "eval(program_desc(results[5]))"
   ]
  },
  {
   "cell_type": "code",
   "execution_count": null,
   "metadata": {},
   "outputs": [],
   "source": [
    "program_desc(program)"
   ]
  },
  {
   "cell_type": "code",
   "execution_count": null,
   "metadata": {},
   "outputs": [],
   "source": [
    "program_desc(results[5])"
   ]
  },
  {
   "cell_type": "markdown",
   "metadata": {},
   "source": [
    "# Conclusion\n",
    "\n",
    "The actual search space is of size `4 194 304 = 4**11`. This is the total number of programs that can be build.\n",
    "It is impressive that in such a huge space a simple algorithm as this one can find a solution so fast.\n",
    "\n",
    "Nethertheless, there is a huge room for improvement.\n",
    "\n",
    "Here is a small list of ideas.\n",
    "\n",
    "* Add more fitness functions that would allow a faster convergence,\n",
    "* Keep more than one candidate per local minima found,\n",
    "* Extend the DSL to functions that allow solving more tasks,\n",
    "* Sample the candidate pool with probabilities according to the best candidates scores,\n",
    "* Add *sexual reproduction* to the programs, aka crossover.\n",
    "\n",
    "If you read so far, thanks you for staying with me all along. I hope this can help / inspire you.\n",
    "\n",
    "Please feel comfortable to comment. 🙂"
   ]
  },
  {
   "cell_type": "code",
   "execution_count": null,
   "metadata": {},
   "outputs": [],
   "source": [
    "submission = pd.read_csv(data_path / 'sample_submission.csv', index_col='output_id')\n",
    "display(submission.head())"
   ]
  },
  {
   "cell_type": "code",
   "execution_count": null,
   "metadata": {},
   "outputs": [],
   "source": [
    "def flattener(pred):\n",
    "    str_pred = str([row for row in pred])\n",
    "    str_pred = str_pred.replace(', ', '')\n",
    "    str_pred = str_pred.replace('[[', '|')\n",
    "    str_pred = str_pred.replace('][', '|')\n",
    "    str_pred = str_pred.replace(']]', '|')\n",
    "    return str_pred\n"
   ]
  },
  {
   "cell_type": "code",
   "execution_count": null,
   "metadata": {},
   "outputs": [],
   "source": [
    "example_grid = [[1, 2, 3], [4, 5, 6], [7, 8, 9]]\n",
    "display(example_grid)\n",
    "print(flattener(example_grid))"
   ]
  },
  {
   "cell_type": "markdown",
   "metadata": {},
   "source": [
    "* To Do - try each with 20 iterations and then work on harder ones in a second pass\n",
    "* Add time monitoring for 9 hrs\n",
    "* return best 3 programs when nothing found"
   ]
  },
  {
   "cell_type": "code",
   "execution_count": null,
   "metadata": {},
   "outputs": [],
   "source": [
    "for output_id in submission.index:\n",
    "    task_id = output_id.split('_')[0]\n",
    "    pair_id = int(output_id.split('_')[1])\n",
    "    f = str(test_path / str(task_id + '.json'))\n",
    "    with open(f, 'r') as read_file:\n",
    "        task = json.load(read_file)\n",
    "        \n",
    "    program = build_model(task['train'],max_iterations=2, verbose=False)\n",
    "    if program is None:\n",
    "        print(\"No program was found for:\",f)\n",
    "        \n",
    "        # skipping over the training examples, since this will be naive predictions\n",
    "        # we will use the test input grid as the base, and make some modifications\n",
    "        data = task['test'][pair_id]['input'] # test pair input\n",
    "        # for the first guess, predict that output is unchanged\n",
    "        pred_1 = flattener(data)\n",
    "        # for the second guess, change all 0s to 5s\n",
    "        data = [[5 if i==0 else i for i in j] for j in data]\n",
    "        pred_2 = flattener(data)\n",
    "        # for the last gues, change everything to 0\n",
    "        data = [[0 for i in j] for j in data]\n",
    "        pred_3 = flattener(data)\n",
    "        pred = pred_1 + ' ' + pred_2 + ' ' + pred_3 + ' ' \n",
    "        \n",
    "    else:\n",
    "        count=count+1\n",
    "        print(\"Task:\",f,\" total:\", count,\" Found program:\", program_desc(program))\n",
    "        results = evaluate(program=program, input_image=task['test'][pair_id]['input'])\n",
    "        pred=\"\"\n",
    "        ct=min(3,len(results))\n",
    "        for i in range(ct):\n",
    "            x=results[i]\n",
    "            x[x>9] = 0 # change extra color to background if it exists\n",
    "            pred = pred + flattener(x.to_list()) + ' '\n",
    "         \n",
    "    submission.loc[output_id, 'output'] = pred\n",
    "\n",
    "submission.to_csv('submission.csv')\n"
   ]
  },
  {
   "cell_type": "markdown",
   "metadata": {},
   "source": [
    "!!end"
   ]
  },
  {
   "cell_type": "code",
   "execution_count": null,
   "metadata": {},
   "outputs": [],
   "source": []
  }
 ],
 "metadata": {
  "kernelspec": {
   "display_name": "Python 3",
   "language": "python",
   "name": "python3"
  },
  "language_info": {
   "codemirror_mode": {
    "name": "ipython",
    "version": 3
   },
   "file_extension": ".py",
   "mimetype": "text/x-python",
   "name": "python",
   "nbconvert_exporter": "python",
   "pygments_lexer": "ipython3",
   "version": "3.8.3"
  }
 },
 "nbformat": 4,
 "nbformat_minor": 4
}
